{
 "cells": [
  {
   "cell_type": "code",
   "execution_count": 2,
   "metadata": {},
   "outputs": [
    {
     "name": "stdout",
     "output_type": "stream",
     "text": [
      "Defaulting to user installation because normal site-packages is not writeable\n",
      "Collecting pandas\n",
      "  Downloading pandas-1.5.2-cp310-cp310-manylinux_2_17_x86_64.manylinux2014_x86_64.whl (12.1 MB)\n",
      "\u001b[2K     \u001b[38;2;114;156;31m━━━━━━━━━━━━━━━━━━━━━━━━━━━━━━━━━━━━━━━━\u001b[0m \u001b[32m12.1/12.1 MB\u001b[0m \u001b[31m7.6 MB/s\u001b[0m eta \u001b[36m0:00:00\u001b[0mm eta \u001b[36m0:00:01\u001b[0m[36m0:00:01\u001b[0m\n",
      "\u001b[?25hRequirement already satisfied: pytz>=2020.1 in /usr/lib/python3/dist-packages (from pandas) (2022.1)\n",
      "Requirement already satisfied: numpy>=1.21.0 in /usr/lib/python3/dist-packages (from pandas) (1.21.5)\n",
      "Requirement already satisfied: python-dateutil>=2.8.1 in /home/prakharb16/.local/lib/python3.10/site-packages (from pandas) (2.8.2)\n",
      "Requirement already satisfied: six>=1.5 in /usr/lib/python3/dist-packages (from python-dateutil>=2.8.1->pandas) (1.16.0)\n",
      "Installing collected packages: pandas\n",
      "Successfully installed pandas-1.5.2\n",
      "Note: you may need to restart the kernel to use updated packages.\n"
     ]
    }
   ],
   "source": [
    "pip install pandas"
   ]
  },
  {
   "cell_type": "code",
   "execution_count": 6,
   "metadata": {},
   "outputs": [
    {
     "name": "stdout",
     "output_type": "stream",
     "text": [
      "Defaulting to user installation because normal site-packages is not writeable\n",
      "Collecting getdist\n",
      "  Downloading GetDist-1.4.tar.gz (777 kB)\n",
      "\u001b[2K     \u001b[38;2;114;156;31m━━━━━━━━━━━━━━━━━━━━━━━━━━━━━━━━━━━━━━━\u001b[0m \u001b[32m777.3/777.3 KB\u001b[0m \u001b[31m7.3 MB/s\u001b[0m eta \u001b[36m0:00:00\u001b[0mm eta \u001b[36m0:00:01\u001b[0m[36m0:00:01\u001b[0m\n",
      "\u001b[?25h  Preparing metadata (setup.py) ... \u001b[?25ldone\n",
      "\u001b[?25hRequirement already satisfied: PyYAML>=5.1 in /usr/lib/python3/dist-packages (from getdist) (5.4.1)\n",
      "Requirement already satisfied: matplotlib!=3.5.0,>=2.2.0 in /usr/lib/python3/dist-packages (from getdist) (3.5.1)\n",
      "Requirement already satisfied: numpy>=1.17.0 in /usr/lib/python3/dist-packages (from getdist) (1.21.5)\n",
      "Requirement already satisfied: scipy>=1.5.0 in /usr/lib/python3/dist-packages (from getdist) (1.8.0)\n",
      "Building wheels for collected packages: getdist\n",
      "  Building wheel for getdist (setup.py) ... \u001b[?25ldone\n",
      "\u001b[?25h  Created wheel for getdist: filename=GetDist-1.4-py3-none-any.whl size=226622 sha256=5633388f69fb6af23e28b3bb1ae91fc4d4e0a479439c72f3b961f9bfe65801fd\n",
      "  Stored in directory: /home/prakharb16/.cache/pip/wheels/33/eb/f0/b6b989b78dcd1605e2150783e3922e274b3cc21c0dd31e51a5\n",
      "Successfully built getdist\n",
      "Installing collected packages: getdist\n",
      "Successfully installed getdist-1.4\n",
      "Note: you may need to restart the kernel to use updated packages.\n"
     ]
    }
   ],
   "source": [
    "pip install getdist"
   ]
  },
  {
   "cell_type": "code",
   "execution_count": 8,
   "metadata": {
    "scrolled": true
   },
   "outputs": [
    {
     "name": "stdout",
     "output_type": "stream",
     "text": [
      "Defaulting to user installation because normal site-packages is not writeable\n",
      "Collecting emcee\n",
      "  Using cached emcee-3.1.3-py2.py3-none-any.whl (46 kB)\n",
      "Requirement already satisfied: numpy in /usr/lib/python3/dist-packages (from emcee) (1.21.5)\n",
      "Installing collected packages: emcee\n",
      "Successfully installed emcee-3.1.3\n",
      "Note: you may need to restart the kernel to use updated packages.\n"
     ]
    }
   ],
   "source": [
    "pip install emcee\n"
   ]
  },
  {
   "cell_type": "code",
   "execution_count": 29,
   "metadata": {},
   "outputs": [
    {
     "name": "stdout",
     "output_type": "stream",
     "text": [
      "Defaulting to user installation because normal site-packages is not writeable\n",
      "Requirement already satisfied: emcee in /home/prakharb16/.local/lib/python3.10/site-packages (3.1.3)\n",
      "Requirement already satisfied: numpy in /usr/lib/python3/dist-packages (from emcee) (1.21.5)\n",
      "Note: you may need to restart the kernel to use updated packages.\n"
     ]
    }
   ],
   "source": [
    "pip install -U emcee"
   ]
  },
  {
   "cell_type": "code",
   "execution_count": 38,
   "metadata": {},
   "outputs": [
    {
     "name": "stdout",
     "output_type": "stream",
     "text": [
      "Defaulting to user installation because normal site-packages is not writeable\n",
      "Requirement already satisfied: tqdm in /home/prakharb16/.local/lib/python3.10/site-packages (4.64.1)\n",
      "Note: you may need to restart the kernel to use updated packages.\n"
     ]
    }
   ],
   "source": [
    "pip install tqdm"
   ]
  },
  {
   "cell_type": "code",
   "execution_count": 3,
   "metadata": {},
   "outputs": [],
   "source": [
    "import numpy as np\n",
    "import matplotlib.pyplot as plt\n",
    "import scipy.integrate\n",
    "from scipy import integrate as integrate\n",
    "import pandas as pd\n",
    "from scipy.optimize import minimize\n",
    "from scipy.special import erf\n",
    "from matplotlib import cm\n",
    "import scipy.integrate\n",
    "from scipy import optimize\n",
    "from scipy.integrate import odeint\n",
    "from scipy import integrate as integrate\n",
    "from scipy.interpolate import CubicSpline\n",
    "from scipy.interpolate import lagrange\n",
    "from scipy import interpolate\n"
   ]
  },
  {
   "cell_type": "code",
   "execution_count": 4,
   "metadata": {},
   "outputs": [],
   "source": [
    "\n",
    "import getdist\n",
    "from getdist import plots, MCSamples\n",
    "import time\n",
    "import emcee"
   ]
  },
  {
   "cell_type": "code",
   "execution_count": 5,
   "metadata": {},
   "outputs": [],
   "source": [
    "plt.style.use('default')\n",
    "from matplotlib.ticker import (MultipleLocator, AutoMinorLocator)"
   ]
  },
  {
   "cell_type": "code",
   "execution_count": 6,
   "metadata": {},
   "outputs": [],
   "source": [
    "def E( parameters,z):  \n",
    "    omega=parameters[0]\n",
    "    alpha=parameters[1]\n",
    "    #Ho= parameters[2]\n",
    "    #print(alpha)\n",
    "    sol = odeint (KG_eqn, y0(alpha), t, args=(parameters,))\n",
    "    a=sol[:,0]\n",
    "    phi=sol[:,1]\n",
    "    phi_dot = sol[:,2]\n",
    "    rho_m = 4.0/(9.0*(a**3))\n",
    "    kappa_alpha = kappa(alpha)\n",
    "    V = (1/2)*kappa_alpha/(phi)**(alpha)\n",
    "    rho_phi = (1/32*np.pi)*(0.5*phi_dot**2 + V)\n",
    "    omega_exp = rho_m/(rho_phi+rho_m)\n",
    "    i = np.where(omega_exp>=omega)\n",
    "    i=i[0]\n",
    "    if (len(i)>1):\n",
    "        i=i[-1]\n",
    "    else:\n",
    "        i=i[0]\n",
    "    #print(i)\n",
    "    rho_critical = rho_m[i]+rho_phi[i]\n",
    "    a_z = 1/(1+z)\n",
    "    #print(sol[i,0])\n",
    "    a = a/sol[i,0]\n",
    "    j = np.where(a >= a_z)[0]\n",
    "    j=j[0]\n",
    "    #print(j)\n",
    "    omega_m_theo = rho_m[j]/(rho_critical)\n",
    "    omega_phi_theo = rho_phi[j]/(rho_critical)\n",
    "    return np.sqrt(omega_m_theo+omega_phi_theo)"
   ]
  },
  {
   "cell_type": "code",
   "execution_count": 7,
   "metadata": {},
   "outputs": [],
   "source": [
    "def E_sol(rho_critical,rho_m,rho_phi,a,z):\n",
    "    a_z = 1/(1+z)\n",
    "    #print(sol[i,0])\n",
    "    \n",
    "    j = np.where(a >= a_z)[0]\n",
    "    #print(j)\n",
    "    if(len(j)>1):\n",
    "        j=j[0]\n",
    "    else:\n",
    "        j=len(a)-1\n",
    "    #print(j)\n",
    "    omega_m_theo = rho_m[j]/(rho_critical)\n",
    "    omega_phi_theo = rho_phi[j]/(rho_critical)\n",
    "    return np.sqrt(omega_m_theo+omega_phi_theo)  "
   ]
  },
  {
   "cell_type": "code",
   "execution_count": 8,
   "metadata": {},
   "outputs": [],
   "source": [
    "def erf_new(x):\n",
    "    return ((4/np.pi)**(1/2))*(erf(x)-erf(0))"
   ]
  },
  {
   "cell_type": "code",
   "execution_count": 9,
   "metadata": {},
   "outputs": [],
   "source": [
    "def alphaf(parameters,sigma_Ho,sigma,z,E_array):\n",
    "    #sigma,z,H_obs are vectors\n",
    "\n",
    "    n = len(sigma)\n",
    "    alpha0=1/(sigma_Ho)**2\n",
    "    for i in range(n):\n",
    "        alpha0 = alpha0 + (E_array[i]/sigma[i])**2\n",
    "        \n",
    "    return alpha0"
   ]
  },
  {
   "cell_type": "code",
   "execution_count": 10,
   "metadata": {},
   "outputs": [],
   "source": [
    "def beta(parameters,Ho,sigma_Ho,H_obs,sigma,z,E_array):\n",
    "    n = len(sigma)\n",
    "    beta0=Ho/((sigma_Ho)**2)\n",
    "    for i in range(n):\n",
    "        beta0 = beta0 + (E_array[i]*H_obs[i]/((sigma[i])**2))\n",
    "        \n",
    "    return beta0"
   ]
  },
  {
   "cell_type": "code",
   "execution_count": 11,
   "metadata": {},
   "outputs": [],
   "source": [
    "def gamma(Ho,sigma_Ho,H_obs,sigma,E_array):\n",
    "    n = len(sigma)\n",
    "    gamma0=(Ho/(sigma_Ho))**2\n",
    "    for i in range(n):\n",
    "        gamma0 = gamma0 + (H_obs[i]/sigma[i])**2\n",
    "        \n",
    "    return gamma0 "
   ]
  },
  {
   "cell_type": "code",
   "execution_count": 12,
   "metadata": {},
   "outputs": [],
   "source": [
    "def Likelihood(parameters,Ho,sigma_Ho,H_obs,sigma,z):\n",
    "    omega=parameters[0]\n",
    "    alpha=parameters[1]\n",
    "    t_initial = 10**(-5)\n",
    "    t_final = 150\n",
    "    dt = 10**(-4)\n",
    "    t = np.arange(0., t_final, dt)\n",
    "    \n",
    "    #print(y0(alpha))\n",
    "    sol = odeint (KG_eqn, y0(alpha), t, args=(parameters,))\n",
    "    \n",
    "    a=sol[:,0]\n",
    "    phi=sol[:,1]\n",
    "    phi_dot = sol[:,2]\n",
    "    rho_m = 4.0/(9.0*(a**3))\n",
    "    kappa_alpha = kappa(alpha)\n",
    "    V = (1/2)*kappa_alpha/(phi)**(alpha)\n",
    "    rho_phi = (1/6)*(0.5*phi_dot**2 + V)\n",
    "    omega_exp = rho_m/(rho_phi+rho_m)\n",
    "    #i = np.where(omega_exp>=omega)\n",
    "    #i=i[0]\n",
    "    #if (len(i)>1):\n",
    "        #i=i[-1]\n",
    "    #else:\n",
    "        #i=len(t)-1\n",
    "    #print(i)\n",
    "    omega_exp = np.flipud(omega_exp)\n",
    "    omega_exp_diff = omega_exp[1:]\n",
    "    omega_exp_diff = np.diff(omega_exp)\n",
    "    zeros= np.where(omega_exp_diff>0)\n",
    "    zeros=zeros[0]\n",
    "    #print(zeros)\n",
    "    zeros=zeros+1\n",
    "    omega_exp_new= omega_exp[zeros]\n",
    "    aflip = np.flipud(a[zeros])\n",
    "    g = interpolate.interp1d(omega_exp_new,aflip,fill_value = \"extrapolate\")\n",
    "    #size = omega_exp.size\n",
    "    a1 = g(omega)\n",
    "    #print(a1)\n",
    "    rm = interpolate.interp1d(a,rho_m,fill_value = \"extrapolate\")\n",
    "    rp =interpolate.interp1d(a,rho_phi,fill_value = \"extrapolate\")\n",
    "    #rho_critical = rho_m[i]+rho_phi[i]\n",
    "    rho_critical = rm(a1)+rp(a1)\n",
    "    #print(rho_critical)\n",
    "    #a = a/sol[i,0]\n",
    "#     z_values = (1/a)-1\n",
    "#     omega_m_theo=rho_m/rho_critical\n",
    "#     omega_phi_theo=rho_phi/rho_critical\n",
    "#     start = time.time()\n",
    "#     E_values = np.sqrt(omega_m_theo+omega_phi_theo)\n",
    "#     z_values = np.flipud(z_values)\n",
    "#     E_values = np.flipud(E_values)\n",
    "#     z_bw_0_1000 = np.where((z_values>=0) & (z_values<=20))\n",
    "#     z_bw_0_1000_values =z_values[z_bw_0_1000]\n",
    "#     E_bw_0_1000_values= E_values[z_bw_0_1000]\n",
    "#     #print(z_bw_0_1000_values)\n",
    "#     f = CubicSpline(z_bw_0_1000_values, E_bw_0_1000_values)\n",
    "    a_obs = 1/(1+z_obs)\n",
    "    a_obs = a_obs*a1\n",
    "    omega_m_obs = rm(a_obs)/rho_critical\n",
    "    omega_phi_obs = rp(a_obs)/rho_critical\n",
    "    E_array = np.sqrt(omega_m_obs+omega_phi_obs)\n",
    "    \n",
    "    end= time.time()\n",
    "    #print(end-start)\n",
    "    #E_array= f(z_obs)\n",
    "    #print(E_array)\n",
    "    alpha0= alphaf(parameters,sigma_Ho,sigma,z,E_array)\n",
    "    beta0= beta(parameters,Ho,sigma_Ho,H_obs,sigma,z,E_array)\n",
    "    gamma0= gamma(Ho,sigma_Ho,H_obs,sigma,E_array)\n",
    "    LH1= (1/(4*alpha0*((sigma_Ho)**2)))**(1/2)\n",
    "    LH2= np.exp(-gamma0/2+(((beta0)**2)/(2*alpha0)))\n",
    "    LH3 = 1+ erf_new(beta0/((2*alpha0)**(1/2)))\n",
    "    \n",
    "    return (LH1*LH2*LH3)"
   ]
  },
  {
   "cell_type": "code",
   "execution_count": 13,
   "metadata": {},
   "outputs": [],
   "source": [
    "def Chi_sq(parameters,Ho,sigma_Ho,H_obs,sigma,z):\n",
    "    return (-2*np.log(Likelihood(parameters,Ho,sigma_Ho,H_obs,sigma,z)))"
   ]
  },
  {
   "cell_type": "code",
   "execution_count": 14,
   "metadata": {},
   "outputs": [],
   "source": [
    "def log_likelihood(parameters,Ho,sigma_Ho,H_obs,sigma,z):\n",
    "    return np.log(Likelihood(parameters,Ho,sigma_Ho,H_obs,sigma,z))"
   ]
  },
  {
   "cell_type": "code",
   "execution_count": 15,
   "metadata": {},
   "outputs": [],
   "source": [
    "def log_prior(parameters):\n",
    "    omega,alpha = parameters\n",
    "    if 0.0 < omega < 2 and (0.0 < alpha < 0.1 or 0.1< alpha < 5):\n",
    "        return 0.0\n",
    "    return -np.inf"
   ]
  },
  {
   "cell_type": "code",
   "execution_count": 16,
   "metadata": {},
   "outputs": [],
   "source": [
    "def log_probability(parameters,Ho,sigma_Ho,H_obs,sigma,z):\n",
    "    lp = log_prior(parameters)\n",
    "    if not np.isfinite(lp):\n",
    "        return -np.inf\n",
    "   \n",
    "    return lp + log_likelihood(parameters,Ho,sigma_Ho,H_obs,sigma,z)"
   ]
  },
  {
   "cell_type": "code",
   "execution_count": null,
   "metadata": {},
   "outputs": [],
   "source": []
  },
  {
   "cell_type": "code",
   "execution_count": 15,
   "metadata": {},
   "outputs": [
    {
     "ename": "NameError",
     "evalue": "name 'KG_eqn' is not defined",
     "output_type": "error",
     "traceback": [
      "\u001b[0;31m---------------------------------------------------------------------------\u001b[0m",
      "\u001b[0;31mNameError\u001b[0m                                 Traceback (most recent call last)",
      "Cell \u001b[0;32mIn [15], line 1\u001b[0m\n\u001b[0;32m----> 1\u001b[0m \u001b[38;5;28mprint\u001b[39m(\u001b[43mE\u001b[49m\u001b[43m(\u001b[49m\u001b[43m[\u001b[49m\u001b[38;5;241;43m0.30\u001b[39;49m\u001b[43m,\u001b[49m\u001b[38;5;241;43m0.01\u001b[39;49m\u001b[43m,\u001b[49m\u001b[38;5;241;43m70\u001b[39;49m\u001b[43m]\u001b[49m\u001b[43m,\u001b[49m\u001b[38;5;241;43m1.965\u001b[39;49m\u001b[43m)\u001b[49m)\n",
      "Cell \u001b[0;32mIn [4], line 6\u001b[0m, in \u001b[0;36mE\u001b[0;34m(parameters, z)\u001b[0m\n\u001b[1;32m      3\u001b[0m alpha\u001b[38;5;241m=\u001b[39mparameters[\u001b[38;5;241m1\u001b[39m]\n\u001b[1;32m      4\u001b[0m \u001b[38;5;66;03m#Ho= parameters[2]\u001b[39;00m\n\u001b[1;32m      5\u001b[0m \u001b[38;5;66;03m#print(alpha)\u001b[39;00m\n\u001b[0;32m----> 6\u001b[0m sol \u001b[38;5;241m=\u001b[39m odeint (\u001b[43mKG_eqn\u001b[49m, y0(alpha), t, args\u001b[38;5;241m=\u001b[39m(parameters,))\n\u001b[1;32m      7\u001b[0m a\u001b[38;5;241m=\u001b[39msol[:,\u001b[38;5;241m0\u001b[39m]\n\u001b[1;32m      8\u001b[0m phi\u001b[38;5;241m=\u001b[39msol[:,\u001b[38;5;241m1\u001b[39m]\n",
      "\u001b[0;31mNameError\u001b[0m: name 'KG_eqn' is not defined"
     ]
    }
   ],
   "source": [
    "print(E([0.30,0.01,70],1.965))"
   ]
  },
  {
   "cell_type": "code",
   "execution_count": 17,
   "metadata": {},
   "outputs": [],
   "source": [
    "def kappa(alpha):\n",
    "    #print(alpha)\n",
    "    #print(type(alpha))\n",
    "    p1= (8*alpha+32)/(3*alpha+6)\n",
    "    p2= ((2*(alpha**2)+4*alpha)/3)**(alpha/2)\n",
    "    #print(f\"kappa:{p1*p2}\")\n",
    "    return p1*p2"
   ]
  },
  {
   "cell_type": "code",
   "execution_count": 18,
   "metadata": {},
   "outputs": [
    {
     "name": "stdout",
     "output_type": "stream",
     "text": [
      "4.586125402580961\n",
      "0.48047102316806106\n"
     ]
    }
   ],
   "source": [
    "print(kappa(0.5))\n",
    "print((1/12)*kappa(0.1)*0.13486911**(-0.1))"
   ]
  },
  {
   "cell_type": "code",
   "execution_count": 19,
   "metadata": {},
   "outputs": [],
   "source": [
    "def y0(alpha):\n",
    "    t0 = 10**(-5)\n",
    "    a_initial = (t0**(2./3.))\n",
    "    phi_initial =   ((2.*alpha*(alpha+2.)/3.)**(1/2.))*((t0)**(2./(alpha+2.)))\n",
    "   \n",
    "    phi_dot_initial = (((8./3.)*alpha*(1./(alpha + 2.)))**(1./2.))/(t0)**(alpha/(alpha + 2.))\n",
    "    \n",
    "    Ho = 70 # Hubble parameter today in units of 100 km/s/Mpc (Planck 2015)\n",
    "    rho_cr0 = 3*Ho**2/(8*np.pi)\n",
    "    #h = 0.678 # Hubble parameter today in units of 100 km/s/Mpc (Planck 2015)\n",
    "    #rho_cr0 = 8.0992*(h**2)*10**(-47) / (2.435*10**18)**4\n",
    "    # calculate the matter density today\n",
    "    \n",
    "    #Omega_m = 0.28\n",
    "    #rho_m0 = Omega_m*rho_cr0\n",
    "    #rho_initial = rho_m0/(a_initial**3) # initial value for the matter density\n",
    "    \n",
    "    return a_initial,phi_initial,phi_dot_initial\n",
    "    #,rho_initial"
   ]
  },
  {
   "cell_type": "code",
   "execution_count": 20,
   "metadata": {},
   "outputs": [
    {
     "name": "stdout",
     "output_type": "stream",
     "text": [
      "(0.0004641588833612781, 0.08617738760127537, 2872.579586709177)\n"
     ]
    }
   ],
   "source": [
    "print(y0(4))"
   ]
  },
  {
   "cell_type": "code",
   "execution_count": 21,
   "metadata": {},
   "outputs": [
    {
     "name": "stdout",
     "output_type": "stream",
     "text": [
      "(0.0004641588833612781, array([1.22582372e-06, 1.83928913e-06, 2.38866168e-06]), array([0.12197251, 0.18210783, 0.23533613]))\n"
     ]
    }
   ],
   "source": [
    "print(y0(np.array([0.01,0.02,0.03])))"
   ]
  },
  {
   "cell_type": "code",
   "execution_count": 21,
   "metadata": {},
   "outputs": [
    {
     "name": "stdout",
     "output_type": "stream",
     "text": [
      "(150000,)\n"
     ]
    }
   ],
   "source": [
    "t_initial = 10**(-5)\n",
    "t_final = 150\n",
    "dt = 10**(-3)\n",
    "t = np.arange(0., t_final, dt)\n",
    "print(t.shape)\n",
    "\n",
    "    "
   ]
  },
  {
   "cell_type": "code",
   "execution_count": 22,
   "metadata": {},
   "outputs": [],
   "source": [
    "def KG_eqn(y, t, parameters):\n",
    "    #a,phi,phi_dot,rho_m = y\n",
    "    a,phi,phi_dot = y\n",
    "    rho_m = 4.0/(9.0*a**3)\n",
    "    alpha=parameters[1]\n",
    "    kappa_alpha = kappa(alpha)\n",
    "    mp = 1\n",
    "    V = (1/2)*kappa_alpha*mp**2/(phi)**(alpha)\n",
    "    rho_phi = (1/6)*(0.5*phi_dot**2 + V)\n",
    "    Hubble_rate = np.sqrt( (rho_phi + rho_m))\n",
    "    #dydt = [a*Hubble_rate,phi_dot,-3*Hubble_rate*phi_dot+ 0.5*kappa_alpha*alpha/(phi**(alpha+1)), -3*rho_m*Hubble_rate ]\n",
    "    dydt = [a*Hubble_rate,phi_dot,-3*Hubble_rate*phi_dot+ 0.5*kappa_alpha*alpha/(phi**(alpha+1)) ]\n",
    "    return dydt"
   ]
  },
  {
   "cell_type": "code",
   "execution_count": 23,
   "metadata": {},
   "outputs": [],
   "source": [
    "parameters = [0.30,0.01]\n",
    "Ho=70"
   ]
  },
  {
   "cell_type": "code",
   "execution_count": 24,
   "metadata": {
    "scrolled": true
   },
   "outputs": [
    {
     "ename": "NameError",
     "evalue": "name 't' is not defined",
     "output_type": "error",
     "traceback": [
      "\u001b[0;31m---------------------------------------------------------------------------\u001b[0m",
      "\u001b[0;31mNameError\u001b[0m                                 Traceback (most recent call last)",
      "Cell \u001b[0;32mIn [24], line 3\u001b[0m\n\u001b[1;32m      1\u001b[0m \u001b[38;5;28;01mfrom\u001b[39;00m \u001b[38;5;21;01mscipy\u001b[39;00m\u001b[38;5;21;01m.\u001b[39;00m\u001b[38;5;21;01mintegrate\u001b[39;00m \u001b[38;5;28;01mimport\u001b[39;00m odeint\n\u001b[1;32m      2\u001b[0m \u001b[38;5;66;03m#sol = odeint(KG_eqn, y0(0.01), t, args=(parameters,))\u001b[39;00m\n\u001b[0;32m----> 3\u001b[0m \u001b[38;5;28mprint\u001b[39m(\u001b[38;5;241m68.8\u001b[39m\u001b[38;5;241m*\u001b[39m\u001b[43mE\u001b[49m\u001b[43m(\u001b[49m\u001b[43mparameters\u001b[49m\u001b[43m,\u001b[49m\u001b[38;5;241;43m2.30\u001b[39;49m\u001b[43m)\u001b[49m)\n",
      "Cell \u001b[0;32mIn [6], line 6\u001b[0m, in \u001b[0;36mE\u001b[0;34m(parameters, z)\u001b[0m\n\u001b[1;32m      3\u001b[0m alpha\u001b[38;5;241m=\u001b[39mparameters[\u001b[38;5;241m1\u001b[39m]\n\u001b[1;32m      4\u001b[0m \u001b[38;5;66;03m#Ho= parameters[2]\u001b[39;00m\n\u001b[1;32m      5\u001b[0m \u001b[38;5;66;03m#print(alpha)\u001b[39;00m\n\u001b[0;32m----> 6\u001b[0m sol \u001b[38;5;241m=\u001b[39m odeint (KG_eqn, y0(alpha), \u001b[43mt\u001b[49m, args\u001b[38;5;241m=\u001b[39m(parameters,))\n\u001b[1;32m      7\u001b[0m a\u001b[38;5;241m=\u001b[39msol[:,\u001b[38;5;241m0\u001b[39m]\n\u001b[1;32m      8\u001b[0m phi\u001b[38;5;241m=\u001b[39msol[:,\u001b[38;5;241m1\u001b[39m]\n",
      "\u001b[0;31mNameError\u001b[0m: name 't' is not defined"
     ]
    }
   ],
   "source": [
    "from scipy.integrate import odeint\n",
    "#sol = odeint(KG_eqn, y0(0.01), t, args=(parameters,))\n",
    "print(68.8*E(parameters,2.30))"
   ]
  },
  {
   "cell_type": "code",
   "execution_count": 25,
   "metadata": {},
   "outputs": [
    {
     "ename": "NameError",
     "evalue": "name 'sol' is not defined",
     "output_type": "error",
     "traceback": [
      "\u001b[0;31m---------------------------------------------------------------------------\u001b[0m",
      "\u001b[0;31mNameError\u001b[0m                                 Traceback (most recent call last)",
      "Cell \u001b[0;32mIn [25], line 1\u001b[0m\n\u001b[0;32m----> 1\u001b[0m \u001b[38;5;28mprint\u001b[39m(\u001b[43msol\u001b[49m[\u001b[38;5;241m0\u001b[39m:\u001b[38;5;241m1678\u001b[39m,\u001b[38;5;241m2\u001b[39m])\n",
      "\u001b[0;31mNameError\u001b[0m: name 'sol' is not defined"
     ]
    }
   ],
   "source": [
    "print(sol[0:1678,2])"
   ]
  },
  {
   "cell_type": "code",
   "execution_count": 26,
   "metadata": {},
   "outputs": [
    {
     "ename": "NameError",
     "evalue": "name 'sol' is not defined",
     "output_type": "error",
     "traceback": [
      "\u001b[0;31m---------------------------------------------------------------------------\u001b[0m",
      "\u001b[0;31mNameError\u001b[0m                                 Traceback (most recent call last)",
      "Cell \u001b[0;32mIn [26], line 1\u001b[0m\n\u001b[0;32m----> 1\u001b[0m a \u001b[38;5;241m=\u001b[39m \u001b[43msol\u001b[49m[:,\u001b[38;5;241m0\u001b[39m]\n\u001b[1;32m      2\u001b[0m phi\u001b[38;5;241m=\u001b[39msol[:,\u001b[38;5;241m1\u001b[39m]\n\u001b[1;32m      3\u001b[0m phi_dot\u001b[38;5;241m=\u001b[39msol[:,\u001b[38;5;241m2\u001b[39m]\n",
      "\u001b[0;31mNameError\u001b[0m: name 'sol' is not defined"
     ]
    }
   ],
   "source": [
    "a = sol[:,0]\n",
    "phi=sol[:,1]\n",
    "phi_dot=sol[:,2]\n",
    "rho_m = sol[:,3]\n",
    "H=[]\n",
    "alpha = 0.01\n",
    "print(phi,phi_dot,rho_m)\n",
    "kappa_alpha = kappa(alpha)\n",
    "V = (1/2)*kappa_alpha/(phi)**(alpha)\n",
    "rho_phi = 0.5*phi_dot**2 + V\n",
    "Hubble_rate = np.sqrt((8*np.pi/3)* (rho_phi + rho_m))\n",
    "print(V)\n",
    "\n",
    "print(Hubble_rate[16906])\n"
   ]
  },
  {
   "cell_type": "code",
   "execution_count": 25,
   "metadata": {},
   "outputs": [
    {
     "name": "stdout",
     "output_type": "stream",
     "text": [
      "    Unnamed: 0      z      H  Sigma\n",
      "0          NaN  0.070   69.0   19.6\n",
      "1          NaN  0.100   69.0   12.0\n",
      "2          NaN  0.120   68.6   26.2\n",
      "3          NaN  0.170   83.0    8.0\n",
      "4          NaN  0.179   75.0    4.0\n",
      "5          NaN  0.199   75.0    5.0\n",
      "6          NaN  0.200   72.9   29.6\n",
      "7          NaN  0.270   77.0   14.0\n",
      "8          NaN  0.280   88.8   36.6\n",
      "9          NaN  0.350   76.3    5.6\n",
      "10         NaN  0.352   83.0   14.0\n",
      "11         NaN  0.400   95.0   17.0\n",
      "12         NaN  0.440   82.6    7.8\n",
      "13         NaN  0.480   97.0   62.0\n",
      "14         NaN  0.593  104.0   13.0\n",
      "15         NaN  0.600   87.9    6.1\n",
      "16         NaN  0.680   92.0    8.0\n",
      "17         NaN  0.730   97.3    7.0\n",
      "18         NaN  0.781  105.0   12.0\n",
      "19         NaN  0.875  125.0   17.0\n",
      "20         NaN  0.880   90.0   40.0\n",
      "21         NaN  0.900  117.0   23.0\n",
      "22         NaN  1.037  154.0   20.0\n",
      "23         NaN  1.300  168.0   17.0\n",
      "24         NaN  1.430  177.0   18.0\n",
      "25         NaN  1.530  140.0   14.0\n",
      "26         NaN  1.750  202.0   40.0\n",
      "27         NaN  2.300  224.0    8.0\n",
      "[0.07  0.1   0.12  0.17  0.179 0.199 0.2   0.27  0.28  0.35  0.352 0.4\n",
      " 0.44  0.48  0.593 0.6   0.68  0.73  0.781 0.875 0.88  0.9   1.037 1.3\n",
      " 1.43  1.53  1.75  2.3  ]\n"
     ]
    }
   ],
   "source": [
    "Data = pd.read_csv(\"Hdata - Table 1-Copy1.csv\")\n",
    "print(Data)\n",
    "Data = Data.to_numpy()\n",
    "z_obs = Data[:,1]\n",
    "H_obs = Data[:,2]\n",
    "sigma_obs = Data[:,3]\n",
    "print(z_obs)"
   ]
  },
  {
   "cell_type": "code",
   "execution_count": 26,
   "metadata": {},
   "outputs": [],
   "source": [
    "Ho= 68\n",
    "sigma_Ho=2.8"
   ]
  },
  {
   "cell_type": "code",
   "execution_count": 27,
   "metadata": {},
   "outputs": [
    {
     "name": "stdout",
     "output_type": "stream",
     "text": [
      "[0.1  0.11 0.12 0.13 0.14 0.15 0.16 0.17 0.18 0.19 0.2  0.21 0.22 0.23\n",
      " 0.24 0.25 0.26 0.27 0.28 0.29 0.3  0.31 0.32 0.33 0.34 0.35 0.36 0.37\n",
      " 0.38 0.39 0.4  0.41 0.42 0.43 0.44 0.45 0.46 0.47 0.48 0.49 0.5  0.51\n",
      " 0.52 0.53 0.54 0.55 0.56 0.57 0.58 0.59 0.6  0.61 0.62 0.63 0.64 0.65\n",
      " 0.66 0.67 0.68 0.69]\n"
     ]
    }
   ],
   "source": [
    "print(np.arange(0.1,0.7,0.01))"
   ]
  },
  {
   "cell_type": "code",
   "execution_count": 49,
   "metadata": {},
   "outputs": [
    {
     "name": "stdout",
     "output_type": "stream",
     "text": [
      "55.12146794482734\n",
      "0.01\n",
      "50.88978440855571\n",
      "0.21000000000000002\n",
      "47.27731483598414\n",
      "0.41000000000000003\n",
      "44.22675979315788\n",
      "0.6100000000000001\n"
     ]
    },
    {
     "ename": "KeyboardInterrupt",
     "evalue": "",
     "output_type": "error",
     "traceback": [
      "\u001b[0;31m---------------------------------------------------------------------------\u001b[0m",
      "\u001b[0;31mKeyboardInterrupt\u001b[0m                         Traceback (most recent call last)",
      "Cell \u001b[0;32mIn [49], line 3\u001b[0m\n\u001b[1;32m      1\u001b[0m \u001b[38;5;28;01mfor\u001b[39;00m omega \u001b[38;5;129;01min\u001b[39;00m np\u001b[38;5;241m.\u001b[39marange(\u001b[38;5;241m0.01\u001b[39m,\u001b[38;5;241m5\u001b[39m,\u001b[38;5;241m0.2\u001b[39m):\n\u001b[1;32m      2\u001b[0m     start \u001b[38;5;241m=\u001b[39m time\u001b[38;5;241m.\u001b[39mtime()\n\u001b[0;32m----> 3\u001b[0m     \u001b[38;5;28mprint\u001b[39m(\u001b[43mChi_sq\u001b[49m\u001b[43m(\u001b[49m\u001b[43m[\u001b[49m\u001b[38;5;241;43m0.14\u001b[39;49m\u001b[43m,\u001b[49m\u001b[43momega\u001b[49m\u001b[43m]\u001b[49m\u001b[43m,\u001b[49m\u001b[38;5;241;43m73.8\u001b[39;49m\u001b[43m,\u001b[49m\u001b[38;5;241;43m2.4\u001b[39;49m\u001b[43m,\u001b[49m\u001b[43mH_obs\u001b[49m\u001b[43m,\u001b[49m\u001b[43msigma_obs\u001b[49m\u001b[43m,\u001b[49m\u001b[43mz_obs\u001b[49m\u001b[43m)\u001b[49m)\n\u001b[1;32m      4\u001b[0m     \u001b[38;5;28mprint\u001b[39m(omega)\n\u001b[1;32m      5\u001b[0m     end \u001b[38;5;241m=\u001b[39mtime\u001b[38;5;241m.\u001b[39mtime()\n",
      "Cell \u001b[0;32mIn [32], line 2\u001b[0m, in \u001b[0;36mChi_sq\u001b[0;34m(parameters, Ho, sigma_Ho, H_obs, sigma, z)\u001b[0m\n\u001b[1;32m      1\u001b[0m \u001b[38;5;28;01mdef\u001b[39;00m \u001b[38;5;21mChi_sq\u001b[39m(parameters,Ho,sigma_Ho,H_obs,sigma,z):\n\u001b[0;32m----> 2\u001b[0m     \u001b[38;5;28;01mreturn\u001b[39;00m (\u001b[38;5;241m-\u001b[39m\u001b[38;5;241m2\u001b[39m\u001b[38;5;241m*\u001b[39mnp\u001b[38;5;241m.\u001b[39mlog(\u001b[43mLikelihood\u001b[49m\u001b[43m(\u001b[49m\u001b[43mparameters\u001b[49m\u001b[43m,\u001b[49m\u001b[43mHo\u001b[49m\u001b[43m,\u001b[49m\u001b[43msigma_Ho\u001b[49m\u001b[43m,\u001b[49m\u001b[43mH_obs\u001b[49m\u001b[43m,\u001b[49m\u001b[43msigma\u001b[49m\u001b[43m,\u001b[49m\u001b[43mz\u001b[49m\u001b[43m)\u001b[49m))\n",
      "Cell \u001b[0;32mIn [31], line 16\u001b[0m, in \u001b[0;36mLikelihood\u001b[0;34m(parameters, Ho, sigma_Ho, H_obs, sigma, z)\u001b[0m\n\u001b[1;32m     14\u001b[0m phi_dot \u001b[38;5;241m=\u001b[39m sol[:,\u001b[38;5;241m2\u001b[39m]\n\u001b[1;32m     15\u001b[0m rho_m \u001b[38;5;241m=\u001b[39m \u001b[38;5;241m4.0\u001b[39m\u001b[38;5;241m/\u001b[39m(\u001b[38;5;241m9.0\u001b[39m\u001b[38;5;241m*\u001b[39m(a\u001b[38;5;241m*\u001b[39m\u001b[38;5;241m*\u001b[39m\u001b[38;5;241m3\u001b[39m))\n\u001b[0;32m---> 16\u001b[0m kappa_alpha \u001b[38;5;241m=\u001b[39m \u001b[43mkappa\u001b[49m\u001b[43m(\u001b[49m\u001b[43malpha\u001b[49m\u001b[43m)\u001b[49m\n\u001b[1;32m     17\u001b[0m V \u001b[38;5;241m=\u001b[39m (\u001b[38;5;241m1\u001b[39m\u001b[38;5;241m/\u001b[39m\u001b[38;5;241m2\u001b[39m)\u001b[38;5;241m*\u001b[39mkappa_alpha\u001b[38;5;241m/\u001b[39m(phi)\u001b[38;5;241m*\u001b[39m\u001b[38;5;241m*\u001b[39m(alpha)\n\u001b[1;32m     18\u001b[0m rho_phi \u001b[38;5;241m=\u001b[39m (\u001b[38;5;241m1\u001b[39m\u001b[38;5;241m/\u001b[39m\u001b[38;5;241m6\u001b[39m)\u001b[38;5;241m*\u001b[39m(\u001b[38;5;241m0.5\u001b[39m\u001b[38;5;241m*\u001b[39mphi_dot\u001b[38;5;241m*\u001b[39m\u001b[38;5;241m*\u001b[39m\u001b[38;5;241m2\u001b[39m \u001b[38;5;241m+\u001b[39m V)\n",
      "Cell \u001b[0;32mIn [37], line 1\u001b[0m, in \u001b[0;36mkappa\u001b[0;34m(alpha)\u001b[0m\n\u001b[0;32m----> 1\u001b[0m \u001b[38;5;28;01mdef\u001b[39;00m \u001b[38;5;21mkappa\u001b[39m(alpha):\n\u001b[1;32m      2\u001b[0m     \u001b[38;5;66;03m#print(alpha)\u001b[39;00m\n\u001b[1;32m      3\u001b[0m     \u001b[38;5;66;03m#print(type(alpha))\u001b[39;00m\n\u001b[1;32m      4\u001b[0m     p1\u001b[38;5;241m=\u001b[39m (\u001b[38;5;241m8\u001b[39m\u001b[38;5;241m*\u001b[39malpha\u001b[38;5;241m+\u001b[39m\u001b[38;5;241m32\u001b[39m)\u001b[38;5;241m/\u001b[39m(\u001b[38;5;241m3\u001b[39m\u001b[38;5;241m*\u001b[39malpha\u001b[38;5;241m+\u001b[39m\u001b[38;5;241m6\u001b[39m)\n\u001b[1;32m      5\u001b[0m     p2\u001b[38;5;241m=\u001b[39m ((\u001b[38;5;241m2\u001b[39m\u001b[38;5;241m*\u001b[39m(alpha\u001b[38;5;241m*\u001b[39m\u001b[38;5;241m*\u001b[39m\u001b[38;5;241m2\u001b[39m)\u001b[38;5;241m+\u001b[39m\u001b[38;5;241m4\u001b[39m\u001b[38;5;241m*\u001b[39malpha)\u001b[38;5;241m/\u001b[39m\u001b[38;5;241m3\u001b[39m)\u001b[38;5;241m*\u001b[39m\u001b[38;5;241m*\u001b[39m(alpha\u001b[38;5;241m/\u001b[39m\u001b[38;5;241m2\u001b[39m)\n",
      "\u001b[0;31mKeyboardInterrupt\u001b[0m: "
     ]
    }
   ],
   "source": [
    "\n",
    "for omega in np.arange(0.01,5,0.2):\n",
    "    start = time.time()\n",
    "    print(Chi_sq([0.14,omega],73.8,2.4,H_obs,sigma_obs,z_obs))\n",
    "    print(omega)\n",
    "    end =time.time()\n",
    "    #print(end-start)"
   ]
  },
  {
   "cell_type": "code",
   "execution_count": 74,
   "metadata": {},
   "outputs": [
    {
     "name": "stdout",
     "output_type": "stream",
     "text": [
      "20.518215108656772\n",
      "1e-06\n",
      "0.08621454238891602\n",
      "20.518271546908288\n",
      "1.1000000000000001e-05\n",
      "0.033759117126464844\n",
      "20.518327985738804\n",
      "2.1000000000000002e-05\n",
      "0.032762765884399414\n",
      "20.518384425170222\n",
      "3.1e-05\n",
      "0.03310513496398926\n",
      "20.51844086457359\n",
      "4.1e-05\n",
      "0.03356122970581055\n",
      "20.5184973046054\n",
      "5.1e-05\n",
      "0.03365755081176758\n",
      "20.51855374596508\n",
      "6.1000000000000005e-05\n",
      "0.034394264221191406\n",
      "20.51861018737335\n",
      "7.1e-05\n",
      "0.03763580322265625\n",
      "20.518666629718847\n",
      "8.1e-05\n",
      "0.035616397857666016\n",
      "20.51872307201775\n",
      "9.1e-05\n",
      "0.03505825996398926\n",
      "20.51877951584213\n",
      "0.000101\n",
      "0.035628318786621094\n",
      "20.518835959564665\n",
      "0.000111\n",
      "0.03593730926513672\n",
      "20.5188924041237\n",
      "0.00012100000000000001\n",
      "0.0366969108581543\n",
      "20.518948849221736\n",
      "0.000131\n",
      "0.036408424377441406\n",
      "20.519005295128224\n",
      "0.000141\n",
      "0.034917354583740234\n",
      "20.51906173601167\n",
      "0.000151\n",
      "0.037290096282958984\n",
      "20.5191181807445\n",
      "0.000161\n",
      "0.037552833557128906\n",
      "20.519174628579513\n",
      "0.000171\n",
      "0.037638187408447266\n",
      "20.519231076896958\n",
      "0.000181\n",
      "0.03903603553771973\n",
      "20.519287525304403\n",
      "0.000191\n",
      "0.037844181060791016\n",
      "20.519343974555852\n",
      "0.000201\n",
      "0.038065433502197266\n",
      "20.51940042352991\n",
      "0.000211\n",
      "0.03434562683105469\n",
      "20.519456874018363\n",
      "0.000221\n",
      "0.03407788276672363\n",
      "20.51951332465059\n",
      "0.000231\n",
      "0.03412294387817383\n",
      "20.519569776673094\n",
      "0.00024100000000000003\n",
      "0.03618907928466797\n",
      "20.519626228813504\n",
      "0.00025100000000000003\n",
      "0.03731083869934082\n",
      "20.519682681626833\n",
      "0.00026100000000000006\n",
      "0.03430008888244629\n",
      "20.51973913503277\n",
      "0.00027100000000000003\n",
      "0.0348355770111084\n",
      "20.519795589002452\n",
      "0.00028100000000000005\n",
      "0.035542964935302734\n",
      "20.519852044393986\n",
      "0.000291\n",
      "0.03677058219909668\n",
      "20.519908499372544\n",
      "0.00030100000000000005\n",
      "0.035897016525268555\n",
      "20.519964955555917\n",
      "0.000311\n",
      "0.03648018836975098\n",
      "20.520021411759313\n",
      "0.00032100000000000005\n",
      "0.03616690635681152\n",
      "20.52007786872903\n",
      "0.0003310000000000001\n",
      "0.03661227226257324\n",
      "20.52013432612691\n",
      "0.00034100000000000005\n",
      "0.038190603256225586\n",
      "20.5201907841208\n",
      "0.0003510000000000001\n",
      "0.03705596923828125\n",
      "20.520247242685375\n",
      "0.00036100000000000005\n",
      "0.03935813903808594\n",
      "20.520303702009485\n",
      "0.0003710000000000001\n",
      "0.038303375244140625\n",
      "20.520360161709736\n",
      "0.00038100000000000005\n",
      "0.03448915481567383\n",
      "20.520416621999296\n",
      "0.00039100000000000007\n",
      "0.03484535217285156\n",
      "20.520473082972302\n",
      "0.00040100000000000004\n",
      "0.034600257873535156\n",
      "20.520529544391938\n",
      "0.00041100000000000007\n",
      "0.034331321716308594\n",
      "20.520586006391678\n",
      "0.00042100000000000004\n",
      "0.0356442928314209\n",
      "20.520642469048898\n",
      "0.00043100000000000007\n",
      "0.036748647689819336\n",
      "20.520698932283555\n",
      "0.00044100000000000004\n",
      "0.035024166107177734\n",
      "20.52075539612749\n",
      "0.00045100000000000007\n",
      "0.03517770767211914\n",
      "20.52081186053465\n",
      "0.00046100000000000004\n",
      "0.0351414680480957\n",
      "20.520868325459453\n",
      "0.00047100000000000006\n",
      "0.03484940528869629\n",
      "20.520924791050884\n",
      "0.0004810000000000001\n",
      "0.035820722579956055\n",
      "20.520981257229668\n",
      "0.0004910000000000001\n",
      "0.03702092170715332\n",
      "20.521037723889556\n",
      "0.000501\n",
      "0.036216020584106445\n",
      "20.52109419101026\n",
      "0.0005110000000000001\n",
      "0.03859710693359375\n",
      "20.521150658945235\n",
      "0.0005210000000000001\n",
      "0.035428762435913086\n",
      "20.521207109873504\n",
      "0.0005310000000000001\n",
      "0.03525042533874512\n",
      "20.521263535154997\n",
      "0.000541\n",
      "0.03646445274353027\n",
      "20.521319959816015\n",
      "0.0005510000000000001\n",
      "0.03653860092163086\n",
      "20.52137638668492\n",
      "0.0005610000000000001\n",
      "0.03530240058898926\n",
      "20.52143281333784\n",
      "0.0005710000000000001\n",
      "0.035449981689453125\n",
      "20.521489240578667\n",
      "0.000581\n",
      "0.035254716873168945\n",
      "20.521545668311784\n",
      "0.000591\n",
      "0.03497004508972168\n",
      "20.521602096716755\n",
      "0.0006010000000000001\n",
      "0.036226749420166016\n",
      "20.52165852569444\n",
      "0.0006110000000000001\n",
      "0.03564620018005371\n",
      "20.521714954974268\n",
      "0.000621\n",
      "0.037671804428100586\n",
      "20.521771385136898\n",
      "0.000631\n",
      "0.04387617111206055\n",
      "20.52182781587222\n",
      "0.0006410000000000001\n",
      "0.037882328033447266\n",
      "20.52188424669902\n",
      "0.0006510000000000001\n",
      "0.0391080379486084\n",
      "20.521940678633637\n",
      "0.0006610000000000001\n",
      "0.04189252853393555\n",
      "20.521997111109897\n",
      "0.000671\n",
      "0.03632783889770508\n",
      "20.522053544137368\n",
      "0.0006810000000000001\n",
      "0.035834550857543945\n",
      "20.52210997709322\n",
      "0.0006910000000000001\n",
      "0.03639674186706543\n",
      "20.522166411288786\n",
      "0.0007010000000000001\n",
      "0.03926587104797363\n",
      "20.522222845777666\n",
      "0.000711\n",
      "0.037714481353759766\n",
      "20.52227928082998\n",
      "0.0007210000000000001\n",
      "0.03851318359375\n",
      "20.522335716745086\n",
      "0.0007310000000000001\n",
      "0.03624844551086426\n",
      "20.52239215322763\n",
      "0.0007410000000000001\n",
      "0.03722047805786133\n",
      "20.522448590290452\n",
      "0.000751\n",
      "0.03559517860412598\n",
      "20.522505027613004\n",
      "0.0007610000000000001\n",
      "0.03578543663024902\n",
      "20.522561465833135\n",
      "0.0007710000000000001\n",
      "0.0356450080871582\n",
      "20.522617904632476\n",
      "0.0007810000000000001\n",
      "0.03709864616394043\n",
      "20.522674344006475\n",
      "0.000791\n",
      "0.03665947914123535\n",
      "20.522730786659114\n",
      "0.0008010000000000001\n",
      "0.03865504264831543\n",
      "20.522787227199817\n",
      "0.0008110000000000001\n",
      "0.03814840316772461\n",
      "20.52284366830748\n",
      "0.0008210000000000001\n",
      "0.038233041763305664\n",
      "20.522900109979368\n",
      "0.0008310000000000001\n",
      "0.038590431213378906\n",
      "20.522956550620158\n",
      "0.0008410000000000001\n",
      "0.039678335189819336\n",
      "20.52301299347789\n",
      "0.0008510000000000001\n",
      "0.04209542274475098\n",
      "20.523069436901665\n",
      "0.0008610000000000001\n",
      "0.04077792167663574\n",
      "20.5231258802388\n",
      "0.0008710000000000001\n",
      "0.03974461555480957\n",
      "20.523182324574336\n",
      "0.0008810000000000001\n",
      "0.03967690467834473\n",
      "20.523238769722422\n",
      "0.0008910000000000001\n",
      "0.03997063636779785\n",
      "20.523295216191755\n",
      "0.0009010000000000001\n",
      "0.03933453559875488\n",
      "20.52335166258998\n",
      "0.0009110000000000001\n",
      "0.03949379920959473\n",
      "20.523408108916\n",
      "0.000921\n",
      "0.03935980796813965\n",
      "20.523464556830856\n",
      "0.0009310000000000001\n",
      "0.03968644142150879\n",
      "20.523521004707824\n",
      "0.0009410000000000001\n",
      "0.03948855400085449\n",
      "20.523577453331065\n",
      "0.0009510000000000001\n",
      "0.04091358184814453\n",
      "20.523633902502525\n",
      "0.0009610000000000002\n",
      "0.03658032417297363\n",
      "20.52369035228686\n",
      "0.0009710000000000001\n",
      "0.037947893142700195\n",
      "20.523746802621982\n",
      "0.000981\n",
      "0.036180973052978516\n",
      "20.523803253557674\n",
      "0.000991\n",
      "0.0360102653503418\n",
      "20.523859705072155\n",
      "0.001001\n",
      "0.03597712516784668\n",
      "20.52391615712319\n",
      "0.001011\n",
      "0.03697490692138672\n",
      "20.523972608596747\n",
      "0.001021\n",
      "0.03972649574279785\n",
      "20.524029061845244\n",
      "0.001031\n",
      "0.03947758674621582\n",
      "20.524085515671583\n",
      "0.001041\n",
      "0.03953838348388672\n",
      "20.524141970094153\n",
      "0.001051\n",
      "0.039466142654418945\n",
      "20.524198425278843\n",
      "0.001061\n",
      "0.039186954498291016\n",
      "20.52425488083986\n",
      "0.001071\n",
      "0.039977312088012695\n",
      "20.524311336984198\n",
      "0.001081\n",
      "0.039515018463134766\n",
      "20.52436779369776\n",
      "0.001091\n",
      "0.03906512260437012\n",
      "20.52442425110924\n",
      "0.001101\n",
      "0.03566455841064453\n",
      "20.524480708997768\n",
      "0.001111\n",
      "0.03637957572937012\n",
      "20.52453716745962\n",
      "0.001121\n",
      "0.03600311279296875\n",
      "20.52459362650935\n",
      "0.001131\n",
      "0.03700828552246094\n",
      "20.524650086128783\n",
      "0.001141\n",
      "0.03629136085510254\n",
      "20.524706546507534\n",
      "0.0011510000000000001\n",
      "0.03613758087158203\n",
      "20.52476300728039\n",
      "0.001161\n",
      "0.0359957218170166\n",
      "20.52481946862567\n",
      "0.001171\n",
      "0.03609895706176758\n",
      "20.524875930550678\n",
      "0.001181\n",
      "0.03621482849121094\n",
      "20.524932393058588\n",
      "0.001191\n",
      "0.03679180145263672\n",
      "20.524988856173053\n",
      "0.001201\n",
      "0.03809523582458496\n",
      "20.525045319832238\n",
      "0.001211\n",
      "0.036223649978637695\n",
      "20.525101784070223\n",
      "0.001221\n",
      "0.03560328483581543\n",
      "20.525158248887923\n",
      "0.001231\n",
      "0.03622698783874512\n",
      "20.52521471428443\n",
      "0.001241\n",
      "0.0361330509185791\n",
      "20.525271180254286\n",
      "0.001251\n",
      "0.0370023250579834\n",
      "20.52532764681039\n",
      "0.001261\n",
      "0.03713250160217285\n",
      "20.52538411393509\n",
      "0.001271\n",
      "0.03631472587585449\n",
      "20.52544058163677\n",
      "0.001281\n",
      "0.03612208366394043\n",
      "20.525497049920894\n",
      "0.001291\n",
      "0.036084651947021484\n",
      "20.525553518778818\n",
      "0.001301\n",
      "0.036058664321899414\n",
      "20.525609988217813\n",
      "0.001311\n",
      "0.03707718849182129\n",
      "20.52566645823968\n",
      "0.0013210000000000001\n",
      "0.03676009178161621\n",
      "20.52572292883397\n",
      "0.001331\n",
      "0.03589129447937012\n",
      "20.525779400003426\n",
      "0.001341\n",
      "0.036036014556884766\n",
      "20.5258358717535\n",
      "0.001351\n",
      "0.03612518310546875\n",
      "20.52589234408056\n",
      "0.001361\n",
      "0.03601551055908203\n",
      "20.525948816996078\n",
      "0.001371\n",
      "0.03694343566894531\n",
      "20.526005290478388\n",
      "0.001381\n",
      "0.03614926338195801\n",
      "20.526061764540405\n",
      "0.001391\n",
      "0.03623032569885254\n",
      "20.526118239175304\n",
      "0.0014010000000000001\n",
      "0.036422014236450195\n",
      "20.52617471439218\n",
      "0.001411\n",
      "0.03601956367492676\n",
      "20.5262311902811\n",
      "0.001421\n",
      "0.03617572784423828\n",
      "20.52628766668171\n",
      "0.001431\n",
      "0.03685712814331055\n",
      "20.52634414366867\n",
      "0.001441\n",
      "0.036801815032958984\n",
      "20.526400621231115\n",
      "0.001451\n",
      "0.03679823875427246\n",
      "20.52645709937689\n",
      "0.001461\n",
      "0.036505937576293945\n",
      "20.526513577800063\n",
      "0.001471\n",
      "0.03652811050415039\n",
      "20.52657005779148\n",
      "0.0014810000000000001\n",
      "0.036470890045166016\n",
      "20.52662653766355\n",
      "0.0014910000000000001\n",
      "0.03663778305053711\n",
      "20.526683018104887\n",
      "0.001501\n",
      "0.03664731979370117\n",
      "20.52673949986731\n",
      "0.001511\n",
      "0.03559589385986328\n",
      "20.526795981457052\n",
      "0.001521\n",
      "0.03660941123962402\n",
      "20.52685246362102\n",
      "0.001531\n",
      "0.03637886047363281\n",
      "20.52690894636513\n",
      "0.001541\n",
      "0.03642988204956055\n"
     ]
    },
    {
     "name": "stdout",
     "output_type": "stream",
     "text": [
      "20.526965429217768\n",
      "0.001551\n",
      "0.03709888458251953\n",
      "20.527021913084933\n",
      "0.001561\n",
      "0.03597402572631836\n",
      "20.527078397577615\n",
      "0.0015710000000000001\n",
      "0.03619503974914551\n",
      "20.527134882645\n",
      "0.001581\n",
      "0.03617429733276367\n",
      "20.527191368282512\n",
      "0.001591\n",
      "0.03626275062561035\n",
      "20.527247854499702\n",
      "0.001601\n",
      "0.03640604019165039\n",
      "20.527304340549005\n",
      "0.001611\n",
      "0.03749489784240723\n",
      "20.52736082790987\n",
      "0.001621\n",
      "0.037377119064331055\n",
      "20.52741731584405\n",
      "0.001631\n",
      "0.036688804626464844\n",
      "20.52747380435564\n",
      "0.001641\n",
      "0.036486148834228516\n",
      "20.52753029343961\n",
      "0.0016510000000000001\n",
      "0.03626370429992676\n",
      "20.5275867830996\n",
      "0.0016610000000000001\n",
      "0.03664207458496094\n",
      "20.527643272701756\n",
      "0.001671\n",
      "0.03757667541503906\n",
      "20.527699763509986\n",
      "0.001681\n",
      "0.0379793643951416\n",
      "20.527756254896083\n",
      "0.001691\n",
      "0.03653287887573242\n",
      "20.527812746893453\n",
      "0.001701\n",
      "0.036725759506225586\n",
      "20.527869239467783\n",
      "0.001711\n",
      "0.036696672439575195\n",
      "20.527925732617263\n",
      "0.001721\n",
      "0.036023855209350586\n",
      "20.5279822263478\n",
      "0.0017310000000000001\n",
      "0.03759312629699707\n",
      "20.528038720141026\n",
      "0.0017410000000000001\n",
      "0.038073062896728516\n",
      "20.528095215009667\n",
      "0.001751\n",
      "0.03660726547241211\n",
      "20.528151710452544\n",
      "0.001761\n",
      "0.036435604095458984\n",
      "20.52820820647785\n",
      "0.001771\n",
      "0.0367426872253418\n",
      "20.52826470307511\n",
      "0.001781\n",
      "0.036310434341430664\n",
      "20.528321200256606\n",
      "0.001791\n",
      "0.03741049766540527\n",
      "20.528377698008704\n",
      "0.001801\n",
      "0.03742194175720215\n",
      "20.5284341960893\n",
      "0.0018110000000000001\n",
      "0.03658604621887207\n",
      "20.52849069497397\n",
      "0.0018210000000000001\n",
      "0.036553144454956055\n",
      "20.528547194436975\n",
      "0.0018310000000000002\n",
      "0.0362553596496582\n",
      "20.52860369447786\n",
      "0.001841\n",
      "0.03664517402648926\n",
      "20.528660195097984\n",
      "0.001851\n",
      "0.03727865219116211\n",
      "20.52871669629417\n",
      "0.001861\n",
      "0.0375065803527832\n",
      "20.52877319806687\n",
      "0.001871\n",
      "0.037076473236083984\n",
      "20.528829700559125\n",
      "0.001881\n",
      "0.03670907020568848\n",
      "20.528886203479008\n",
      "0.001891\n",
      "0.03643631935119629\n",
      "20.5289427069795\n",
      "0.0019010000000000001\n",
      "0.03662681579589844\n",
      "20.52899921105191\n",
      "0.0019110000000000002\n",
      "0.038272857666015625\n",
      "20.52905571570043\n",
      "0.0019210000000000002\n",
      "0.03806757926940918\n",
      "20.52911222093183\n",
      "0.001931\n",
      "0.03682422637939453\n",
      "20.529168726737918\n",
      "0.001941\n",
      "0.036775827407836914\n",
      "20.52922523327967\n",
      "0.001951\n",
      "0.03669881820678711\n",
      "20.52928174023841\n",
      "0.0019610000000000005\n",
      "0.036925554275512695\n",
      "20.529338247777304\n",
      "0.001971\n",
      "0.037490129470825195\n",
      "20.529394755889072\n",
      "0.001981\n",
      "0.0369257926940918\n",
      "20.529451264582356\n",
      "0.001991\n",
      "0.036333560943603516\n",
      "20.529507773852156\n",
      "0.002001\n",
      "0.03645467758178711\n",
      "20.52956428369665\n",
      "0.002011\n",
      "0.03808140754699707\n",
      "20.52962079412039\n",
      "0.0020210000000000002\n",
      "0.0480806827545166\n",
      "20.52967730544039\n",
      "0.0020310000000000003\n",
      "0.037752389907836914\n",
      "20.529733817013096\n",
      "0.0020410000000000003\n",
      "0.04055428504943848\n",
      "20.529790329164594\n",
      "0.0020510000000000003\n",
      "0.038427114486694336\n",
      "20.529846841888514\n",
      "0.0020610000000000003\n",
      "0.03713226318359375\n",
      "20.529903355192584\n",
      "0.0020710000000000004\n",
      "0.03907179832458496\n",
      "20.52995986907226\n",
      "0.0020810000000000004\n",
      "0.03748583793640137\n",
      "20.530016383511256\n",
      "0.0020910000000000004\n",
      "0.03875541687011719\n",
      "20.53007289854547\n",
      "0.0021010000000000004\n",
      "0.03916430473327637\n",
      "20.530129414102714\n",
      "0.0021110000000000005\n",
      "0.04118657112121582\n",
      "20.530185930292088\n",
      "0.0021210000000000005\n",
      "0.03680992126464844\n",
      "20.530242447054327\n",
      "0.0021310000000000005\n",
      "0.03672218322753906\n",
      "20.530298964412754\n",
      "0.002141\n",
      "0.0369417667388916\n",
      "20.53035548233462\n",
      "0.002151\n",
      "0.037889957427978516\n",
      "20.530412000826164\n",
      "0.002161\n",
      "0.03771185874938965\n",
      "20.530468519896022\n",
      "0.002171\n",
      "0.03685140609741211\n",
      "20.53052503954102\n",
      "0.002181\n",
      "0.03704261779785156\n",
      "20.530581559703457\n",
      "0.0021910000000000002\n",
      "0.03688383102416992\n",
      "20.530638080503376\n",
      "0.0022010000000000003\n",
      "0.03714871406555176\n",
      "20.530694601880707\n",
      "0.0022110000000000003\n",
      "0.03812289237976074\n",
      "20.530751123834083\n",
      "0.0022210000000000003\n",
      "0.038550615310668945\n",
      "20.5308076463626\n",
      "0.0022310000000000003\n",
      "0.03738284111022949\n",
      "20.530864169473503\n",
      "0.0022410000000000004\n",
      "0.03683638572692871\n",
      "20.530920693156393\n",
      "0.0022510000000000004\n",
      "0.03690695762634277\n",
      "20.53097721741442\n",
      "0.0022610000000000004\n",
      "0.036878347396850586\n",
      "20.53103374213955\n",
      "0.0022710000000000004\n",
      "0.03782200813293457\n",
      "20.531090267551516\n",
      "0.0022810000000000005\n",
      "0.03898930549621582\n",
      "20.53114679353954\n",
      "0.0022910000000000005\n",
      "0.036482810974121094\n",
      "20.531203320103614\n",
      "0.0023010000000000005\n",
      "0.03685736656188965\n",
      "20.531259847246925\n",
      "0.002311\n",
      "0.03676199913024902\n",
      "20.531316374964927\n",
      "0.002321\n",
      "0.03691387176513672\n",
      "20.531372903256706\n",
      "0.002331\n",
      "0.04188108444213867\n",
      "20.531429432127723\n",
      "0.002341\n",
      "0.03962135314941406\n",
      "20.531485961566393\n",
      "0.0023510000000000002\n",
      "0.04377484321594238\n",
      "20.53154249158866\n",
      "0.0023610000000000003\n",
      "0.043814659118652344\n",
      "20.531599022191074\n",
      "0.0023710000000000003\n",
      "0.04414987564086914\n",
      "20.531655553367724\n",
      "0.0023810000000000003\n",
      "0.04434990882873535\n",
      "20.531712085120883\n",
      "0.0023910000000000003\n",
      "0.044037818908691406\n",
      "20.531768617451466\n",
      "0.0024010000000000004\n",
      "0.04388546943664551\n",
      "20.531825150382762\n",
      "0.0024110000000000004\n",
      "0.04870247840881348\n",
      "20.531881683866438\n",
      "0.0024210000000000004\n",
      "0.044548749923706055\n",
      "20.531938217922075\n",
      "0.0024310000000000004\n",
      "0.04544210433959961\n",
      "20.531994752494672\n",
      "0.0024410000000000005\n",
      "0.04391765594482422\n",
      "20.53205128770598\n",
      "0.0024510000000000005\n",
      "0.04447770118713379\n",
      "20.532107823492055\n",
      "0.0024610000000000005\n",
      "0.04728841781616211\n",
      "20.532164359860317\n",
      "0.0024710000000000005\n",
      "0.04852890968322754\n",
      "20.532220896799828\n",
      "0.002481\n",
      "0.04940056800842285\n",
      "20.53227743431767\n",
      "0.002491\n",
      "0.04888606071472168\n",
      "20.532333972408843\n",
      "0.002501\n",
      "0.04867434501647949\n",
      "20.532390511079257\n",
      "0.002511\n",
      "0.04801797866821289\n",
      "20.5324470499649\n",
      "0.0025210000000000002\n",
      "0.047681570053100586\n",
      "20.53250358980694\n",
      "0.0025310000000000003\n",
      "0.05063629150390625\n",
      "20.53256013022459\n",
      "0.0025410000000000003\n",
      "0.049397945404052734\n",
      "20.532616671218765\n",
      "0.0025510000000000003\n",
      "0.05052614212036133\n",
      "20.532673212789465\n",
      "0.0025610000000000003\n",
      "0.04765748977661133\n",
      "20.53272975493896\n",
      "0.0025710000000000004\n",
      "0.04698944091796875\n",
      "20.532786297662707\n",
      "0.0025810000000000004\n",
      "0.04953432083129883\n",
      "20.532842840961163\n",
      "0.0025910000000000004\n",
      "0.04745006561279297\n",
      "20.532899384836597\n",
      "0.0026010000000000004\n",
      "0.047667503356933594\n",
      "20.532955928800096\n",
      "0.0026110000000000005\n",
      "0.047295570373535156\n",
      "20.533012473821554\n",
      "0.0026210000000000005\n",
      "0.04824638366699219\n",
      "20.533069019419987\n",
      "0.0026310000000000005\n",
      "0.04996800422668457\n",
      "20.53312556559494\n",
      "0.0026410000000000006\n",
      "0.0412592887878418\n",
      "20.53318211234505\n",
      "0.002651\n",
      "0.04041409492492676\n",
      "20.533238659667585\n",
      "0.002661\n",
      "0.040947914123535156\n",
      "20.533295207571644\n",
      "0.002671\n",
      "0.040078163146972656\n",
      "20.53335175452817\n",
      "0.0026810000000000002\n",
      "0.03736305236816406\n",
      "20.533408303573346\n",
      "0.0026910000000000002\n",
      "0.039190053939819336\n",
      "20.533464853191404\n",
      "0.0027010000000000003\n",
      "0.03848838806152344\n",
      "20.533521403373094\n",
      "0.0027110000000000003\n",
      "0.03737759590148926\n",
      "20.533577959318578\n",
      "0.0027210000000000003\n",
      "0.03794097900390625\n",
      "20.5336345316555\n",
      "0.0027310000000000004\n",
      "0.037744998931884766\n",
      "20.533691104525282\n",
      "0.0027410000000000004\n",
      "0.03769207000732422\n",
      "20.53374767797522\n",
      "0.0027510000000000004\n",
      "0.038370370864868164\n",
      "20.533804251999406\n",
      "0.0027610000000000004\n",
      "0.038033485412597656\n",
      "20.53386082660193\n",
      "0.0027710000000000005\n",
      "0.039455413818359375\n",
      "20.533917401780062\n",
      "0.0027810000000000005\n",
      "0.03769874572753906\n",
      "20.533973977535172\n",
      "0.0027910000000000005\n",
      "0.038025617599487305\n",
      "20.53403055405622\n",
      "0.0028010000000000005\n",
      "0.038175344467163086\n",
      "20.534087130955506\n",
      "0.0028110000000000006\n",
      "0.03907132148742676\n",
      "20.53414370825281\n",
      "0.002821\n",
      "0.03805947303771973\n",
      "20.53420028871431\n",
      "0.002831\n",
      "0.04091787338256836\n",
      "20.534256867312234\n",
      "0.002841\n",
      "0.04087996482849121\n",
      "20.53431344689857\n",
      "0.0028510000000000002\n",
      "0.041362762451171875\n",
      "20.53437002692725\n",
      "0.0028610000000000003\n",
      "0.04156947135925293\n",
      "20.534426607379316\n",
      "0.0028710000000000003\n",
      "0.03802490234375\n",
      "20.534483188298605\n",
      "0.0028810000000000003\n",
      "0.03788495063781738\n",
      "20.534539769954982\n",
      "0.0028910000000000003\n",
      "0.037201642990112305\n",
      "20.53459635209374\n",
      "0.0029010000000000004\n",
      "0.03721117973327637\n",
      "20.534652936338592\n",
      "0.0029110000000000004\n",
      "0.037200212478637695\n",
      "20.534709519390187\n",
      "0.0029210000000000004\n",
      "0.03809237480163574\n",
      "20.534766101949625\n",
      "0.0029310000000000004\n",
      "0.037807464599609375\n",
      "20.534822687511006\n",
      "0.0029410000000000005\n",
      "0.03773760795593262\n",
      "20.53487927212927\n",
      "0.0029510000000000005\n",
      "0.03723311424255371\n",
      "20.534935857540994\n",
      "0.0029610000000000005\n",
      "0.036998748779296875\n",
      "20.534992443669033\n",
      "0.0029710000000000006\n",
      "0.037154436111450195\n",
      "20.535049031245308\n",
      "0.0029810000000000006\n",
      "0.037978410720825195\n",
      "20.535105618242795\n",
      "0.002991\n",
      "0.037947654724121094\n",
      "20.53516220608972\n",
      "0.003001\n",
      "0.03738713264465332\n",
      "20.53521879443482\n",
      "0.0030110000000000002\n",
      "0.03739356994628906\n",
      "20.53527538343395\n",
      "0.0030210000000000002\n",
      "0.037268877029418945\n",
      "20.53533197249264\n",
      "0.0030310000000000003\n",
      "0.037291526794433594\n"
     ]
    },
    {
     "name": "stdout",
     "output_type": "stream",
     "text": [
      "20.535388562638385\n",
      "0.0030410000000000003\n",
      "0.038047075271606445\n",
      "20.535445155360833\n",
      "0.0030510000000000003\n",
      "0.037691593170166016\n",
      "20.53550174667697\n",
      "0.0030610000000000004\n",
      "0.03687095642089844\n",
      "20.535558335625378\n",
      "0.0030710000000000004\n",
      "0.03680419921875\n",
      "20.5356149280822\n",
      "0.0030810000000000004\n",
      "0.03699851036071777\n",
      "20.535671524506125\n",
      "0.0030910000000000004\n",
      "0.03694510459899902\n",
      "20.535728118125046\n",
      "0.0031010000000000005\n",
      "0.037813663482666016\n",
      "20.535784712316403\n",
      "0.0031110000000000005\n",
      "0.03747248649597168\n",
      "20.535841303552424\n",
      "0.0031210000000000005\n",
      "0.03683781623840332\n",
      "20.535897898888205\n",
      "0.0031310000000000005\n",
      "0.03695058822631836\n",
      "20.535954494800052\n",
      "0.0031410000000000006\n",
      "0.03679966926574707\n",
      "20.536011091190428\n",
      "0.0031510000000000006\n",
      "0.03771829605102539\n",
      "20.536067688253947\n",
      "0.003161\n",
      "0.03864908218383789\n",
      "20.53612428589445\n",
      "0.003171\n",
      "0.03758525848388672\n",
      "20.53618088409663\n",
      "0.0031810000000000002\n",
      "0.03728961944580078\n",
      "20.536237482883354\n",
      "0.0031910000000000003\n",
      "0.03716278076171875\n",
      "20.53629408224842\n",
      "0.0032010000000000003\n",
      "0.03684425354003906\n",
      "20.536350682063464\n",
      "0.0032110000000000003\n",
      "0.03673291206359863\n",
      "20.536407282580686\n",
      "0.0032210000000000003\n",
      "0.037903785705566406\n",
      "20.536463883668066\n",
      "0.0032310000000000004\n",
      "0.03709912300109863\n",
      "20.536520485257977\n",
      "0.0032410000000000004\n",
      "0.036773681640625\n",
      "20.536577087492958\n",
      "0.0032510000000000004\n",
      "0.03692221641540527\n",
      "20.5366336903131\n",
      "0.0032610000000000004\n",
      "0.0370326042175293\n",
      "20.53669029370431\n",
      "0.0032710000000000005\n",
      "0.036783456802368164\n",
      "20.536746901002676\n",
      "0.0032810000000000005\n",
      "0.03761577606201172\n",
      "20.53680350555779\n",
      "0.0032910000000000005\n",
      "0.03767538070678711\n",
      "20.536860110687154\n",
      "0.0033010000000000005\n",
      "0.03680706024169922\n",
      "20.53691671639168\n",
      "0.0033110000000000006\n",
      "0.0367128849029541\n",
      "20.536973318188085\n",
      "0.0033210000000000006\n",
      "0.03632068634033203\n",
      "20.53702992652046\n",
      "0.003331\n",
      "0.03660941123962402\n",
      "20.537086533943835\n",
      "0.0033410000000000002\n",
      "0.037586212158203125\n",
      "20.537143141940554\n",
      "0.0033510000000000002\n",
      "0.03666377067565918\n",
      "20.537199750401772\n",
      "0.0033610000000000003\n",
      "0.036591529846191406\n",
      "20.53725635954562\n",
      "0.0033710000000000003\n",
      "0.03695106506347656\n",
      "20.537312969268722\n",
      "0.0033810000000000003\n",
      "0.037049055099487305\n",
      "20.537369579570615\n",
      "0.0033910000000000004\n",
      "0.03693246841430664\n",
      "20.537426190513905\n",
      "0.0034010000000000004\n",
      "0.03752636909484863\n",
      "20.537482801864833\n",
      "0.0034110000000000004\n",
      "0.03734922409057617\n",
      "20.537539413888574\n",
      "0.0034210000000000004\n",
      "0.03676962852478027\n",
      "20.537596026487474\n",
      "0.0034310000000000005\n",
      "0.03672146797180176\n",
      "20.537652639760484\n",
      "0.0034410000000000005\n",
      "0.04203295707702637\n",
      "20.53770925350807\n",
      "0.0034510000000000005\n",
      "0.04910922050476074\n",
      "20.537765867798836\n",
      "0.0034610000000000005\n",
      "0.0466618537902832\n",
      "20.537822482694903\n",
      "0.0034710000000000006\n",
      "0.050878047943115234\n",
      "20.537879098170222\n",
      "0.0034810000000000006\n",
      "0.04534149169921875\n",
      "20.53793571421888\n",
      "0.0034910000000000006\n",
      "0.044094085693359375\n",
      "20.537992330840876\n",
      "0.003501\n",
      "0.04157900810241699\n",
      "20.538048947701323\n",
      "0.0035110000000000002\n",
      "0.04079914093017578\n",
      "20.53810556547591\n",
      "0.0035210000000000003\n",
      "0.03997969627380371\n",
      "20.53816218642572\n",
      "0.0035310000000000003\n",
      "0.03644084930419922\n",
      "20.538218803001214\n",
      "0.0035410000000000003\n",
      "0.04024314880371094\n",
      "20.538275422500814\n",
      "0.0035510000000000003\n",
      "0.039904117584228516\n",
      "20.53833204257238\n",
      "0.0035610000000000004\n",
      "0.040993452072143555\n",
      "20.538388662901212\n",
      "0.0035710000000000004\n",
      "0.04030275344848633\n",
      "20.53844528412674\n",
      "0.0035810000000000004\n",
      "0.03977036476135254\n",
      "20.53850190592379\n",
      "0.0035910000000000004\n",
      "0.04001307487487793\n",
      "20.538558528297816\n",
      "0.0036010000000000005\n",
      "0.04032635688781738\n",
      "20.538615151244727\n",
      "0.0036110000000000005\n",
      "0.03977084159851074\n",
      "20.538671774769977\n",
      "0.0036210000000000005\n",
      "0.04090762138366699\n",
      "20.53872839886311\n",
      "0.0036310000000000005\n",
      "0.040099382400512695\n",
      "20.538785025808295\n",
      "0.0036410000000000006\n",
      "0.036673784255981445\n",
      "20.538841651056586\n",
      "0.0036510000000000006\n",
      "0.036756277084350586\n",
      "20.53889827688003\n",
      "0.0036610000000000006\n",
      "0.036711931228637695\n",
      "20.538954903279087\n",
      "0.0036710000000000002\n",
      "0.036400556564331055\n",
      "20.539011530250576\n",
      "0.0036810000000000002\n",
      "0.039130210876464844\n",
      "20.539068157799495\n",
      "0.0036910000000000003\n",
      "0.03637242317199707\n",
      "20.539124785920386\n",
      "0.0037010000000000003\n",
      "0.036470890045166016\n",
      "20.53918141462144\n",
      "0.0037110000000000003\n",
      "0.03674054145812988\n",
      "20.5392380438931\n",
      "0.0037210000000000003\n",
      "0.036434173583984375\n",
      "20.539294673737647\n",
      "0.0037310000000000004\n",
      "0.036712646484375\n",
      "20.539351304160537\n",
      "0.0037410000000000004\n",
      "0.03749585151672363\n",
      "20.539407973674265\n",
      "0.0037510000000000004\n",
      "0.037140607833862305\n",
      "20.539464655965606\n",
      "0.0037610000000000005\n",
      "0.0366365909576416\n",
      "20.539521338836654\n",
      "0.0037710000000000005\n",
      "0.03672432899475098\n",
      "20.539578017834668\n",
      "0.0037810000000000005\n",
      "0.03998708724975586\n",
      "20.539634706003497\n",
      "0.0037910000000000005\n",
      "0.0364532470703125\n",
      "20.539691390593187\n",
      "0.0038010000000000006\n",
      "0.037354230880737305\n",
      "20.539748075761217\n",
      "0.0038110000000000006\n",
      "0.03824663162231445\n",
      "20.539804761503948\n",
      "0.0038210000000000006\n",
      "0.038298606872558594\n",
      "20.53986144782093\n",
      "0.0038310000000000006\n",
      "0.03602242469787598\n",
      "20.539918134713066\n",
      "0.0038410000000000007\n",
      "0.037106990814208984\n",
      "20.539974822183087\n",
      "0.0038510000000000003\n",
      "0.03648018836975098\n",
      "20.54003151064033\n",
      "0.0038610000000000003\n",
      "0.037456512451171875\n",
      "20.540088198608622\n",
      "0.0038710000000000003\n",
      "0.036989450454711914\n",
      "20.540144887801386\n",
      "0.0038810000000000003\n",
      "0.036277055740356445\n",
      "20.540201577567938\n",
      "0.0038910000000000004\n",
      "0.0361170768737793\n",
      "20.540258267908737\n",
      "0.0039010000000000004\n",
      "0.03678464889526367\n",
      "20.54031495882697\n",
      "0.003911\n",
      "0.03641176223754883\n",
      "20.54037165031945\n",
      "0.003921000000000001\n",
      "0.03693246841430664\n",
      "20.5404283423839\n",
      "0.0039310000000000005\n",
      "0.03699350357055664\n",
      "20.540485035024876\n",
      "0.003941\n",
      "0.03642749786376953\n",
      "20.540541727910902\n",
      "0.0039510000000000005\n",
      "0.03662586212158203\n",
      "20.54059842181942\n",
      "0.003961\n",
      "0.03628945350646973\n",
      "20.540655116179952\n",
      "0.003971000000000001\n",
      "0.03629779815673828\n",
      "20.54071181112201\n",
      "0.003981\n",
      "0.037309885025024414\n",
      "20.540768506636947\n",
      "0.003991000000000001\n",
      "0.03737759590148926\n",
      "20.540825202726587\n",
      "0.004001\n",
      "0.036293983459472656\n",
      "20.54088189938866\n",
      "0.004011000000000001\n",
      "0.03661680221557617\n",
      "20.540938596632706\n",
      "0.004021\n",
      "0.03663301467895508\n",
      "20.540995294444638\n",
      "0.004031000000000001\n",
      "0.036695003509521484\n",
      "20.541051992670937\n",
      "0.004041\n",
      "0.037384033203125\n",
      "20.54110869163374\n",
      "0.004051000000000001\n",
      "0.03662848472595215\n",
      "20.54116539116705\n",
      "0.004061\n",
      "0.03604626655578613\n",
      "20.54122209127597\n",
      "0.004071000000000001\n",
      "0.036385536193847656\n",
      "20.541278791962775\n",
      "0.004081\n",
      "0.03653383255004883\n",
      "20.541335493222466\n",
      "0.004091000000000001\n",
      "0.03654146194458008\n",
      "20.541392195058222\n",
      "0.0041010000000000005\n",
      "0.039769649505615234\n",
      "20.54144889746595\n",
      "0.004111\n",
      "0.040395259857177734\n",
      "20.54150560044657\n",
      "0.0041210000000000005\n",
      "0.039476871490478516\n",
      "20.541562304007343\n",
      "0.004131\n",
      "0.03685569763183594\n",
      "20.541619008104444\n",
      "0.004141000000000001\n",
      "0.03642106056213379\n",
      "20.541675712809624\n",
      "0.004151\n",
      "0.0365452766418457\n",
      "20.541732418089964\n",
      "0.004161000000000001\n",
      "0.037477970123291016\n",
      "20.54178912394637\n",
      "0.004171\n",
      "0.03649568557739258\n",
      "20.54184583037612\n",
      "0.004181000000000001\n",
      "0.03652167320251465\n",
      "20.541902537376927\n",
      "0.004191\n",
      "0.03653430938720703\n",
      "20.541959244956992\n",
      "0.004201000000000001\n",
      "0.03635907173156738\n",
      "20.542015953111758\n",
      "0.004211\n",
      "0.03678631782531738\n",
      "20.54207266183996\n",
      "0.004221000000000001\n",
      "0.03731060028076172\n",
      "20.542129371139286\n",
      "0.004231\n",
      "0.03737163543701172\n",
      "20.542186081067904\n",
      "0.004241000000000001\n",
      "0.03649640083312988\n",
      "20.5422427915175\n",
      "0.0042510000000000004\n",
      "0.03630828857421875\n",
      "20.542299502541326\n",
      "0.004261000000000001\n",
      "0.03657984733581543\n",
      "20.54235621409548\n",
      "0.0042710000000000005\n",
      "0.036599159240722656\n",
      "20.54241292626739\n",
      "0.004281\n",
      "0.03735494613647461\n",
      "20.542469639015344\n",
      "0.0042910000000000005\n",
      "0.03807950019836426\n",
      "20.542526352338935\n",
      "0.004301\n",
      "0.036864519119262695\n",
      "20.542583066235863\n",
      "0.004311000000000001\n",
      "0.038900136947631836\n",
      "20.54263978071068\n",
      "0.004321\n",
      "0.03676724433898926\n",
      "20.54269649575429\n",
      "0.004331000000000001\n",
      "0.036116600036621094\n",
      "20.54275321137669\n",
      "0.004341\n",
      "0.036760568618774414\n",
      "20.542809927570616\n",
      "0.004351000000000001\n",
      "0.03682661056518555\n",
      "20.542866644354202\n",
      "0.004361\n",
      "0.03630971908569336\n",
      "20.542923361697053\n",
      "0.004371000000000001\n",
      "0.036814212799072266\n",
      "20.542980079610516\n",
      "0.004381\n",
      "0.0358123779296875\n",
      "20.543036798102776\n",
      "0.004391000000000001\n",
      "0.03637814521789551\n",
      "20.543093517167463\n",
      "0.004401\n",
      "0.037435054779052734\n",
      "20.543150236811858\n",
      "0.004411000000000001\n",
      "0.03693222999572754\n",
      "20.543206955098142\n",
      "0.0044210000000000005\n",
      "0.0365900993347168\n",
      "20.543263675869596\n",
      "0.004431000000000001\n",
      "0.03762555122375488\n",
      "20.543320397213485\n",
      "0.0044410000000000005\n",
      "0.036527395248413086\n",
      "20.543377131879776\n",
      "0.004451\n",
      "0.042673587799072266\n"
     ]
    },
    {
     "name": "stdout",
     "output_type": "stream",
     "text": [
      "20.543433904005873\n",
      "0.0044610000000000006\n",
      "0.04116487503051758\n",
      "20.543490674473738\n",
      "0.004471\n",
      "0.03860211372375488\n",
      "20.543547445288183\n",
      "0.004481000000000001\n",
      "0.04153013229370117\n",
      "20.543604216906317\n",
      "0.004491\n",
      "0.04166817665100098\n",
      "20.543660989100516\n",
      "0.004501000000000001\n",
      "0.0372312068939209\n",
      "20.543717761867146\n",
      "0.004511\n",
      "0.036103248596191406\n",
      "20.543774535206204\n",
      "0.004521000000000001\n",
      "0.037780046463012695\n",
      "20.54383130912224\n",
      "0.004531\n",
      "0.03697538375854492\n",
      "20.543888074116076\n",
      "0.004541000000000001\n",
      "0.041066646575927734\n",
      "20.54394484917493\n",
      "0.004551\n",
      "0.0443110466003418\n",
      "20.544001624808526\n",
      "0.004561000000000001\n",
      "0.04152345657348633\n",
      "20.544058401016862\n",
      "0.004571\n",
      "0.04477119445800781\n",
      "20.54411517779721\n",
      "0.004581000000000001\n",
      "0.04055953025817871\n",
      "20.54417196485395\n",
      "0.0045910000000000005\n",
      "0.041303157806396484\n",
      "20.544228742792466\n",
      "0.004601000000000001\n",
      "0.0418095588684082\n",
      "20.5442855213066\n",
      "0.0046110000000000005\n",
      "0.03796887397766113\n",
      "20.54434229078262\n",
      "0.004621\n",
      "0.041043996810913086\n",
      "20.544399070439614\n",
      "0.004631000000000001\n",
      "0.040010690689086914\n",
      "20.544455850668193\n",
      "0.004641\n",
      "0.03977084159851074\n",
      "20.54451263147289\n",
      "0.004651000000000001\n",
      "0.04030299186706543\n",
      "20.54456935621618\n",
      "0.004661\n",
      "0.03660893440246582\n",
      "20.54462606746011\n",
      "0.004671000000000001\n",
      "0.03722214698791504\n",
      "20.54468277583733\n",
      "0.004681\n",
      "0.04409527778625488\n",
      "20.544739484797002\n",
      "0.004691000000000001\n",
      "0.0400388240814209\n",
      "20.544796194330022\n",
      "0.004701\n",
      "0.039978742599487305\n",
      "20.54485290443731\n",
      "0.004711000000000001\n",
      "0.038959503173828125\n",
      "20.544909615118403\n",
      "0.004721\n",
      "0.04044294357299805\n",
      "20.544966326378766\n",
      "0.004731000000000001\n",
      "0.037625789642333984\n",
      "20.545023038211575\n",
      "0.004741\n",
      "0.03759431838989258\n",
      "20.545079750622293\n",
      "0.004751000000000001\n",
      "0.036627769470214844\n",
      "20.54513646061405\n",
      "0.0047610000000000005\n",
      "0.042885541915893555\n",
      "20.5451931741644\n",
      "0.004771000000000001\n",
      "0.04512929916381836\n",
      "20.5452498882845\n",
      "0.0047810000000000005\n",
      "0.04303908348083496\n",
      "20.545306602982077\n",
      "0.004791\n",
      "0.042496681213378906\n",
      "20.545363318254406\n",
      "0.004801000000000001\n",
      "0.04289555549621582\n",
      "20.5454200340983\n",
      "0.004811\n",
      "0.04302573204040527\n",
      "20.545476750521015\n",
      "0.004821000000000001\n",
      "0.041297197341918945\n",
      "20.545533467511202\n",
      "0.004831\n",
      "0.04074597358703613\n",
      "20.54559018507476\n",
      "0.004841000000000001\n",
      "0.04329967498779297\n",
      "20.545646903208507\n",
      "0.004851\n",
      "0.04300212860107422\n",
      "20.545703621895644\n",
      "0.004861000000000001\n",
      "0.0418853759765625\n",
      "20.545760341171558\n",
      "0.004871\n",
      "0.041246891021728516\n",
      "20.545817061019907\n",
      "0.004881000000000001\n",
      "0.03633904457092285\n",
      "20.545873784735605\n",
      "0.004891\n",
      "0.03618597984313965\n",
      "20.545930505773647\n",
      "0.004901000000000001\n",
      "0.03712105751037598\n",
      "20.545987227383673\n",
      "0.0049110000000000004\n",
      "0.03587961196899414\n",
      "20.546043946714754\n",
      "0.004921000000000001\n",
      "0.04007554054260254\n",
      "20.5461006694622\n",
      "0.0049310000000000005\n",
      "0.04060173034667969\n",
      "20.546157392770727\n",
      "0.004941000000000001\n",
      "0.043953895568847656\n",
      "20.546214116433475\n",
      "0.0049510000000000005\n",
      "0.041487693786621094\n",
      "20.546270844067063\n",
      "0.004961\n",
      "0.04237866401672363\n",
      "20.54632756912858\n",
      "0.004971000000000001\n",
      "0.03876209259033203\n",
      "20.54638429474745\n",
      "0.004981\n",
      "0.03619956970214844\n",
      "20.546441020956703\n",
      "0.004991000000000001\n",
      "0.036264657974243164\n",
      "20.546497747745235\n",
      "0.005001\n",
      "0.03597855567932129\n",
      "20.54655447511079\n",
      "0.005011000000000001\n",
      "0.03745865821838379\n",
      "20.54661120305291\n",
      "0.005021\n",
      "0.03738212585449219\n",
      "20.546667931387827\n",
      "0.005031000000000001\n",
      "0.037667036056518555\n",
      "20.546724660456146\n",
      "0.005041\n",
      "0.03606271743774414\n",
      "20.546781390128434\n",
      "0.005051000000000001\n",
      "0.03619098663330078\n",
      "20.54683812054825\n",
      "0.005061\n",
      "0.03616452217102051\n",
      "20.546894851355912\n",
      "0.005071000000000001\n",
      "0.03780698776245117\n",
      "20.546951582742395\n",
      "0.0050810000000000004\n",
      "0.036628007888793945\n",
      "20.547008314712862\n",
      "0.005091000000000001\n",
      "0.036299705505371094\n",
      "20.547065047248378\n",
      "0.0051010000000000005\n",
      "0.03631162643432617\n",
      "20.54712178035319\n",
      "0.005111000000000001\n",
      "0.03594398498535156\n",
      "20.547178514029135\n",
      "0.0051210000000000006\n",
      "0.0360872745513916\n",
      "20.547235248284835\n",
      "0.005131\n",
      "0.03717827796936035\n",
      "20.54729198311348\n",
      "0.005141000000000001\n",
      "0.03626203536987305\n",
      "20.547348718523725\n",
      "0.005151\n",
      "0.03586697578430176\n",
      "20.547405454511928\n",
      "0.005161000000000001\n",
      "0.035843610763549805\n",
      "20.54746219106968\n",
      "0.005171\n",
      "0.0362703800201416\n",
      "20.547518928205225\n",
      "0.005181000000000001\n",
      "0.03599286079406738\n",
      "20.547575665917794\n",
      "0.005191\n",
      "0.03666257858276367\n",
      "20.54763240403503\n",
      "0.005201000000000001\n",
      "0.036255598068237305\n",
      "20.547689142869707\n",
      "0.005211\n",
      "0.03589653968811035\n",
      "20.5477458823184\n",
      "0.005221000000000001\n",
      "0.03650355339050293\n",
      "20.547802622301187\n",
      "0.005231\n",
      "0.036107778549194336\n",
      "20.547859362854137\n",
      "0.005241000000000001\n",
      "0.0428767204284668\n",
      "20.54791610398224\n",
      "0.0052510000000000005\n",
      "0.0464935302734375\n",
      "20.547972845672323\n",
      "0.005261000000000001\n",
      "0.039155006408691406\n",
      "20.54802958803954\n",
      "0.0052710000000000005\n",
      "0.03677964210510254\n",
      "20.548086330881073\n",
      "0.005281000000000001\n",
      "0.04009580612182617\n",
      "20.548143074277753\n",
      "0.0052910000000000006\n",
      "0.04594302177429199\n",
      "20.548199820788525\n",
      "0.005301\n",
      "0.04127216339111328\n",
      "20.54825656540039\n",
      "0.005311000000000001\n",
      "0.046051025390625\n",
      "20.548313308234984\n",
      "0.005321\n",
      "0.04253578186035156\n",
      "20.548370054004565\n",
      "0.005331000000000001\n",
      "0.04151630401611328\n",
      "20.54842680030731\n",
      "0.005341\n",
      "0.04249763488769531\n",
      "20.548483547180684\n",
      "0.005351000000000001\n",
      "0.037819623947143555\n",
      "20.548540294629653\n",
      "0.005361\n",
      "0.03911614418029785\n",
      "20.54859704263924\n",
      "0.005371000000000001\n",
      "0.038478851318359375\n",
      "20.54865379121352\n",
      "0.005381\n",
      "0.03857111930847168\n",
      "20.548710540354296\n",
      "0.005391000000000001\n",
      "0.04121279716491699\n",
      "20.54876729117322\n",
      "0.005401\n",
      "0.04086613655090332\n",
      "20.548824042707594\n",
      "0.005411000000000001\n",
      "0.03807258605957031\n",
      "20.548880793641555\n",
      "0.0054210000000000005\n",
      "0.04084968566894531\n",
      "20.54893754515158\n",
      "0.005431000000000001\n",
      "0.037344932556152344\n",
      "20.548994297233584\n",
      "0.0054410000000000005\n",
      "0.03697776794433594\n",
      "20.549051049891197\n",
      "0.005451000000000001\n",
      "0.036687374114990234\n",
      "20.549107802024274\n",
      "0.005461000000000001\n",
      "0.03947949409484863\n",
      "20.5491645567809\n",
      "0.005471\n",
      "0.03746390342712402\n",
      "20.549221310798707\n",
      "0.005481000000000001\n",
      "0.03804183006286621\n",
      "20.549278065242323\n",
      "0.005491\n",
      "0.03800344467163086\n",
      "20.549334818254483\n",
      "0.005501000000000001\n",
      "0.03923296928405762\n",
      "20.549391575956975\n",
      "0.005511\n",
      "0.03697323799133301\n",
      "20.549448332122495\n",
      "0.005521000000000001\n",
      "0.036980390548706055\n",
      "20.549505088892225\n",
      "0.005531\n",
      "0.03718256950378418\n",
      "20.549561846224975\n",
      "0.005541000000000001\n",
      "0.037904977798461914\n",
      "20.549618595748072\n",
      "0.005551\n",
      "0.03601408004760742\n",
      "20.549675333395438\n",
      "0.005561000000000001\n",
      "0.036232709884643555\n",
      "20.54973207161795\n",
      "0.005571\n",
      "0.03674817085266113\n",
      "20.549788810416057\n",
      "0.005581000000000001\n",
      "0.03711843490600586\n",
      "20.54984554979158\n",
      "0.0055910000000000005\n",
      "0.03648710250854492\n",
      "20.54990228973816\n",
      "0.005601000000000001\n",
      "0.03952479362487793\n",
      "20.549959029964548\n",
      "0.0056110000000000005\n",
      "0.04114341735839844\n",
      "20.550015771544626\n",
      "0.005621000000000001\n",
      "0.038126230239868164\n",
      "20.55007251322079\n",
      "0.005631000000000001\n",
      "0.035970211029052734\n",
      "20.550129255471646\n",
      "0.005641\n",
      "0.03569650650024414\n",
      "20.550185998296282\n",
      "0.005651000000000001\n",
      "0.036852359771728516\n",
      "20.550242741704245\n",
      "0.005661\n",
      "0.03789114952087402\n",
      "20.550299485676895\n",
      "0.005671000000000001\n",
      "0.0373997688293457\n",
      "20.550356230230147\n",
      "0.005681\n",
      "0.03574419021606445\n",
      "20.550412974964424\n",
      "0.005691000000000001\n",
      "0.03569316864013672\n",
      "20.550469720669756\n",
      "0.005701\n",
      "0.03805994987487793\n",
      "20.550526466947954\n",
      "0.005711000000000001\n",
      "0.0460512638092041\n",
      "20.5505832138072\n",
      "0.005721\n",
      "0.04265952110290527\n",
      "20.550639961237042\n",
      "0.005731000000000001\n",
      "0.041680097579956055\n",
      "20.550696709246118\n",
      "0.0057410000000000004\n",
      "0.04191994667053223\n",
      "20.55075345782851\n",
      "0.005751000000000001\n",
      "0.04259133338928223\n"
     ]
    },
    {
     "ename": "KeyboardInterrupt",
     "evalue": "",
     "output_type": "error",
     "traceback": [
      "\u001b[0;31m---------------------------------------------------------------------------\u001b[0m",
      "\u001b[0;31mKeyboardInterrupt\u001b[0m                         Traceback (most recent call last)",
      "Cell \u001b[0;32mIn [74], line 3\u001b[0m\n\u001b[1;32m      1\u001b[0m \u001b[38;5;28;01mfor\u001b[39;00m omega \u001b[38;5;129;01min\u001b[39;00m np\u001b[38;5;241m.\u001b[39marange(\u001b[38;5;241m1e-6\u001b[39m,\u001b[38;5;241m0.7\u001b[39m,\u001b[38;5;241m1e-5\u001b[39m):\n\u001b[1;32m      2\u001b[0m     start \u001b[38;5;241m=\u001b[39m time\u001b[38;5;241m.\u001b[39mtime()\n\u001b[0;32m----> 3\u001b[0m     \u001b[38;5;28mprint\u001b[39m(\u001b[43mChi_sq\u001b[49m\u001b[43m(\u001b[49m\u001b[43m[\u001b[49m\u001b[38;5;241;43m0.25\u001b[39;49m\u001b[43m,\u001b[49m\u001b[43momega\u001b[49m\u001b[43m]\u001b[49m\u001b[43m,\u001b[49m\u001b[38;5;241;43m73.8\u001b[39;49m\u001b[43m,\u001b[49m\u001b[38;5;241;43m2.4\u001b[39;49m\u001b[43m,\u001b[49m\u001b[43mH_obs\u001b[49m\u001b[43m,\u001b[49m\u001b[43msigma_obs\u001b[49m\u001b[43m,\u001b[49m\u001b[43mz_obs\u001b[49m\u001b[43m)\u001b[49m)\n\u001b[1;32m      4\u001b[0m     \u001b[38;5;28mprint\u001b[39m(omega)\n\u001b[1;32m      5\u001b[0m     end \u001b[38;5;241m=\u001b[39mtime\u001b[38;5;241m.\u001b[39mtime()\n",
      "Cell \u001b[0;32mIn [11], line 2\u001b[0m, in \u001b[0;36mChi_sq\u001b[0;34m(parameters, Ho, sigma_Ho, H_obs, sigma, z)\u001b[0m\n\u001b[1;32m      1\u001b[0m \u001b[38;5;28;01mdef\u001b[39;00m \u001b[38;5;21mChi_sq\u001b[39m(parameters,Ho,sigma_Ho,H_obs,sigma,z):\n\u001b[0;32m----> 2\u001b[0m     \u001b[38;5;28;01mreturn\u001b[39;00m (\u001b[38;5;241m-\u001b[39m\u001b[38;5;241m2\u001b[39m\u001b[38;5;241m*\u001b[39mnp\u001b[38;5;241m.\u001b[39mlog(\u001b[43mLikelihood\u001b[49m\u001b[43m(\u001b[49m\u001b[43mparameters\u001b[49m\u001b[43m,\u001b[49m\u001b[43mHo\u001b[49m\u001b[43m,\u001b[49m\u001b[43msigma_Ho\u001b[49m\u001b[43m,\u001b[49m\u001b[43mH_obs\u001b[49m\u001b[43m,\u001b[49m\u001b[43msigma\u001b[49m\u001b[43m,\u001b[49m\u001b[43mz\u001b[49m\u001b[43m)\u001b[49m))\n",
      "Cell \u001b[0;32mIn [10], line 10\u001b[0m, in \u001b[0;36mLikelihood\u001b[0;34m(parameters, Ho, sigma_Ho, H_obs, sigma, z)\u001b[0m\n\u001b[1;32m      7\u001b[0m t \u001b[38;5;241m=\u001b[39m np\u001b[38;5;241m.\u001b[39marange(\u001b[38;5;241m0.\u001b[39m, t_final, dt)\n\u001b[1;32m      9\u001b[0m \u001b[38;5;66;03m#print(y0(alpha))\u001b[39;00m\n\u001b[0;32m---> 10\u001b[0m sol \u001b[38;5;241m=\u001b[39m \u001b[43modeint\u001b[49m\u001b[43m \u001b[49m\u001b[43m(\u001b[49m\u001b[43mKG_eqn\u001b[49m\u001b[43m,\u001b[49m\u001b[43m \u001b[49m\u001b[43my0\u001b[49m\u001b[43m(\u001b[49m\u001b[43malpha\u001b[49m\u001b[43m)\u001b[49m\u001b[43m,\u001b[49m\u001b[43m \u001b[49m\u001b[43mt\u001b[49m\u001b[43m,\u001b[49m\u001b[43m \u001b[49m\u001b[43margs\u001b[49m\u001b[38;5;241;43m=\u001b[39;49m\u001b[43m(\u001b[49m\u001b[43mparameters\u001b[49m\u001b[43m,\u001b[49m\u001b[43m)\u001b[49m\u001b[43m)\u001b[49m\n\u001b[1;32m     12\u001b[0m a\u001b[38;5;241m=\u001b[39msol[:,\u001b[38;5;241m0\u001b[39m]\n\u001b[1;32m     13\u001b[0m phi\u001b[38;5;241m=\u001b[39msol[:,\u001b[38;5;241m1\u001b[39m]\n",
      "File \u001b[0;32m/usr/lib/python3/dist-packages/scipy/integrate/_odepack_py.py:241\u001b[0m, in \u001b[0;36modeint\u001b[0;34m(func, y0, t, args, Dfun, col_deriv, full_output, ml, mu, rtol, atol, tcrit, h0, hmax, hmin, ixpr, mxstep, mxhnil, mxordn, mxords, printmessg, tfirst)\u001b[0m\n\u001b[1;32m    239\u001b[0m t \u001b[38;5;241m=\u001b[39m copy(t)\n\u001b[1;32m    240\u001b[0m y0 \u001b[38;5;241m=\u001b[39m copy(y0)\n\u001b[0;32m--> 241\u001b[0m output \u001b[38;5;241m=\u001b[39m \u001b[43m_odepack\u001b[49m\u001b[38;5;241;43m.\u001b[39;49m\u001b[43modeint\u001b[49m\u001b[43m(\u001b[49m\u001b[43mfunc\u001b[49m\u001b[43m,\u001b[49m\u001b[43m \u001b[49m\u001b[43my0\u001b[49m\u001b[43m,\u001b[49m\u001b[43m \u001b[49m\u001b[43mt\u001b[49m\u001b[43m,\u001b[49m\u001b[43m \u001b[49m\u001b[43margs\u001b[49m\u001b[43m,\u001b[49m\u001b[43m \u001b[49m\u001b[43mDfun\u001b[49m\u001b[43m,\u001b[49m\u001b[43m \u001b[49m\u001b[43mcol_deriv\u001b[49m\u001b[43m,\u001b[49m\u001b[43m \u001b[49m\u001b[43mml\u001b[49m\u001b[43m,\u001b[49m\u001b[43m \u001b[49m\u001b[43mmu\u001b[49m\u001b[43m,\u001b[49m\n\u001b[1;32m    242\u001b[0m \u001b[43m                         \u001b[49m\u001b[43mfull_output\u001b[49m\u001b[43m,\u001b[49m\u001b[43m \u001b[49m\u001b[43mrtol\u001b[49m\u001b[43m,\u001b[49m\u001b[43m \u001b[49m\u001b[43matol\u001b[49m\u001b[43m,\u001b[49m\u001b[43m \u001b[49m\u001b[43mtcrit\u001b[49m\u001b[43m,\u001b[49m\u001b[43m \u001b[49m\u001b[43mh0\u001b[49m\u001b[43m,\u001b[49m\u001b[43m \u001b[49m\u001b[43mhmax\u001b[49m\u001b[43m,\u001b[49m\u001b[43m \u001b[49m\u001b[43mhmin\u001b[49m\u001b[43m,\u001b[49m\n\u001b[1;32m    243\u001b[0m \u001b[43m                         \u001b[49m\u001b[43mixpr\u001b[49m\u001b[43m,\u001b[49m\u001b[43m \u001b[49m\u001b[43mmxstep\u001b[49m\u001b[43m,\u001b[49m\u001b[43m \u001b[49m\u001b[43mmxhnil\u001b[49m\u001b[43m,\u001b[49m\u001b[43m \u001b[49m\u001b[43mmxordn\u001b[49m\u001b[43m,\u001b[49m\u001b[43m \u001b[49m\u001b[43mmxords\u001b[49m\u001b[43m,\u001b[49m\n\u001b[1;32m    244\u001b[0m \u001b[43m                         \u001b[49m\u001b[38;5;28;43mint\u001b[39;49m\u001b[43m(\u001b[49m\u001b[38;5;28;43mbool\u001b[39;49m\u001b[43m(\u001b[49m\u001b[43mtfirst\u001b[49m\u001b[43m)\u001b[49m\u001b[43m)\u001b[49m\u001b[43m)\u001b[49m\n\u001b[1;32m    245\u001b[0m \u001b[38;5;28;01mif\u001b[39;00m output[\u001b[38;5;241m-\u001b[39m\u001b[38;5;241m1\u001b[39m] \u001b[38;5;241m<\u001b[39m \u001b[38;5;241m0\u001b[39m:\n\u001b[1;32m    246\u001b[0m     warning_msg \u001b[38;5;241m=\u001b[39m _msgs[output[\u001b[38;5;241m-\u001b[39m\u001b[38;5;241m1\u001b[39m]] \u001b[38;5;241m+\u001b[39m \u001b[38;5;124m\"\u001b[39m\u001b[38;5;124m Run with full_output = 1 to get quantitative information.\u001b[39m\u001b[38;5;124m\"\u001b[39m\n",
      "Cell \u001b[0;32mIn [22], line 1\u001b[0m, in \u001b[0;36mKG_eqn\u001b[0;34m(y, t, parameters)\u001b[0m\n\u001b[0;32m----> 1\u001b[0m \u001b[38;5;28;01mdef\u001b[39;00m \u001b[38;5;21mKG_eqn\u001b[39m(y, t, parameters):\n\u001b[1;32m      2\u001b[0m     \u001b[38;5;66;03m#a,phi,phi_dot,rho_m = y\u001b[39;00m\n\u001b[1;32m      3\u001b[0m     a,phi,phi_dot \u001b[38;5;241m=\u001b[39m y\n\u001b[1;32m      4\u001b[0m     rho_m \u001b[38;5;241m=\u001b[39m \u001b[38;5;241m4.0\u001b[39m\u001b[38;5;241m/\u001b[39m(\u001b[38;5;241m9.0\u001b[39m\u001b[38;5;241m*\u001b[39ma\u001b[38;5;241m*\u001b[39m\u001b[38;5;241m*\u001b[39m\u001b[38;5;241m3\u001b[39m)\n",
      "\u001b[0;31mKeyboardInterrupt\u001b[0m: "
     ]
    }
   ],
   "source": [
    "for omega in np.arange(1e-6,0.7,1e-5):\n",
    "    start = time.time()\n",
    "    print(Chi_sq([0.25,omega],73.8,2.4,H_obs,sigma_obs,z_obs))\n",
    "    print(omega)\n",
    "    end =time.time()\n",
    "    print(end-start)"
   ]
  },
  {
   "cell_type": "code",
   "execution_count": 37,
   "metadata": {
    "scrolled": true
   },
   "outputs": [
    {
     "name": "stderr",
     "output_type": "stream",
     "text": [
      "<ipython-input-24-8d130fa533c9>:12: RuntimeWarning: invalid value encountered in double_scalars\n",
      "  dydt = [a*Hubble_rate,phi_dot,-3*Hubble_rate*phi_dot+ 0.5*kappa_alpha*alpha/(phi**(alpha+1)) ]\n",
      "<ipython-input-33-60a254515200>:14: RuntimeWarning: divide by zero encountered in true_divide\n",
      "  rho_m = 4.0/(9.0*(a**3))\n",
      "<ipython-input-33-60a254515200>:18: RuntimeWarning: invalid value encountered in true_divide\n",
      "  omega_exp = rho_m/(rho_phi+rho_m)\n",
      "<ipython-input-33-60a254515200>:27: RuntimeWarning: divide by zero encountered in true_divide\n",
      "  a = a/sol[i,0]\n",
      "<ipython-input-33-60a254515200>:27: RuntimeWarning: invalid value encountered in true_divide\n",
      "  a = a/sol[i,0]\n",
      "<ipython-input-11-2317c60a75cb>:2: RuntimeWarning: divide by zero encountered in log\n",
      "  return (-2*np.log(Likelihood(parameters,Ho,sigma_Ho,H_obs,sigma,z)))\n"
     ]
    },
    {
     "name": "stdout",
     "output_type": "stream",
     "text": [
      "      fun: 18.71861206394749\n",
      " hess_inv: <2x2 LbfgsInvHessProduct with dtype=float64>\n",
      "      jac: array([ 0.        , 17.48856242])\n",
      "  message: b'CONVERGENCE: REL_REDUCTION_OF_F_<=_FACTR*EPSMCH'\n",
      "     nfev: 9\n",
      "      nit: 1\n",
      "     njev: 3\n",
      "   status: 0\n",
      "  success: True\n",
      "        x: array([2.7e-01, 1.0e-04])\n"
     ]
    }
   ],
   "source": [
    "best_fit_params = minimize (Chi_sq,x0=[0.27,0.0001],args=(68,2.8,H_obs,sigma_obs,z_obs),method='L-BFGS-B',bounds=[(0,2),(0,5)])\n",
    "print(best_fit_params)"
   ]
  },
  {
   "cell_type": "code",
   "execution_count": 48,
   "metadata": {
    "scrolled": true
   },
   "outputs": [
    {
     "name": "stdout",
     "output_type": "stream",
     "text": [
      "     fun: 20.553044869295917\n",
      " message: ['Maximum number of iteration reached']\n",
      "    nfev: 4061\n",
      "    nhev: 0\n",
      "     nit: 1000\n",
      "    njev: 20\n",
      "  status: 0\n",
      " success: True\n",
      "       x: array([0.25312761, 0.01      ])\n"
     ]
    }
   ],
   "source": [
    "bfp = dict()\n",
    "bfp['DA'] = optimize.dual_annealing(Chi_sq, [(0.1,0.7),(0.01,5)],args =(73.8,2.4,H_obs,sigma_obs,z_obs) )\n",
    "print(bfp[\"DA\"])"
   ]
  },
  {
   "cell_type": "code",
   "execution_count": null,
   "metadata": {},
   "outputs": [],
   "source": [
    "def z_equality(a,rho_critical):\n",
    "    omega_m = rm(a)/rho_critical\n",
    "    omega_phi = rp(a)/rho_critical\n",
    "    "
   ]
  },
  {
   "cell_type": "code",
   "execution_count": 32,
   "metadata": {},
   "outputs": [
    {
     "name": "stdout",
     "output_type": "stream",
     "text": [
      "0.6239414557613749\n",
      "[2.36900626e-03 2.56557998e-03 7.32645304e-03 ... 1.78078263e+05\n",
      " 7.12317854e+05 7.12317543e+24]\n",
      "0.729157279132151\n",
      "[7.05438889e-01 7.03470801e-01 7.07411530e-01 ... 8.42248514e+01\n",
      " 1.34286052e+02 2.91464726e+08]\n"
     ]
    }
   ],
   "source": [
    "parameters = [2.88169954e-01, 1.00000000e-05]\n",
    "omega,alpha=parameters\n",
    "sol_equality = odeint (KG_eqn, y0(alpha), t, args=(parameters,))\n",
    "a=sol_equality[:,0]\n",
    "phi=sol_equality[:,1]\n",
    "phi_dot = sol_equality[:,2]\n",
    "rho_m = 4.0/(9.0*(a**3))\n",
    "kappa_alpha = kappa(alpha)\n",
    "V = (1/2)*kappa_alpha/(phi)**(alpha)\n",
    "rho_phi = (1/6)*(0.5*phi_dot**2 + V)\n",
    "omega_exp = rho_m/(rho_phi+rho_m)\n",
    "omega_exp = np.flipud(omega_exp)\n",
    "omega_exp_diff = omega_exp[1:]\n",
    "omega_exp_diff = np.diff(omega_exp)\n",
    "zeros= np.where(omega_exp_diff>0)\n",
    "zeros=zeros[0]\n",
    "#print(zeros)\n",
    "zeros=zeros+1\n",
    "omega_exp_new= omega_exp[zeros]\n",
    "aflip = np.flipud(a[zeros])\n",
    "\n",
    "g = interpolate.interp1d(omega_exp_new,aflip)\n",
    "a1 = g(omega)\n",
    "#print(a1)\n",
    "rm = interpolate.interp1d(a,rho_m)\n",
    "rp = interpolate.interp1d(a,rho_phi)\n",
    "#rho_critical = rho_m[i]+rho_phi[i]\n",
    "rho_critical = rm(a1)+rp(a1)\n",
    "a=a/a1\n",
    "print(rho_critical)\n",
    "omega_m = rho_m/rho_critical\n",
    "omega_phi = rho_phi/rho_critical\n",
    "womega_phi = (phi_dot**2-kappa_alpha/phi**alpha)/(phi_dot**2+kappa_alpha/phi**alpha)\n",
    "eqn = abs(omega_m+ omega_phi*(1+3*womega_phi))\n",
    "i_equality = np.argsort(eqn)\n",
    "print(eqn[i_equality])\n",
    "eqn = eqn[i_equality]\n",
    "z_eq = 1/a[i_equality]-1\n",
    "h = interpolate.interp1d(eqn,z_eq,fill_value=\"extrapolate\")\n",
    "print(h(0.))\n",
    "\n",
    "real = np.where(z_eq>=0)\n",
    "print(z_eq)"
   ]
  },
  {
   "cell_type": "code",
   "execution_count": 33,
   "metadata": {},
   "outputs": [
    {
     "name": "stdout",
     "output_type": "stream",
     "text": [
      "     fun: 18.081797514453694\n",
      " message: ['Maximum number of iteration reached']\n",
      "    nfev: 4049\n",
      "    nhev: 0\n",
      "     nit: 1000\n",
      "    njev: 16\n",
      "  status: 0\n",
      " success: True\n",
      "       x: array([0.28807432, 0.01      ])\n",
      "138.3314003944397\n"
     ]
    }
   ],
   "source": [
    "start = time.time()\n",
    "bfp2 = dict()\n",
    "bfp2['DA'] = optimize.dual_annealing(Chi_sq, [(0.1,0.7),(0.01,2)],args =(68,2.8,H_obs,sigma_obs,z_obs) )\n",
    "print(bfp2[\"DA\"])\n",
    "end = time.time()\n",
    "print(end-start)\n",
    "#print(bfp)\n",
    "#print(np.round((bfp.x),2))\n",
    "#print(np.round((bfp.fun),2))"
   ]
  },
  {
   "cell_type": "code",
   "execution_count": 33,
   "metadata": {},
   "outputs": [
    {
     "name": "stdout",
     "output_type": "stream",
     "text": [
      "0.5952011280783621\n",
      "[2.48339788e-03 2.68946350e-03 7.68022364e-03 ... 1.86677083e+05\n",
      " 7.46713368e+05 7.46713041e+24]\n",
      "0.8327126475526915\n",
      "[8.07573816e-01 8.05487863e-01 8.09664595e-01 ... 8.93287775e+01\n",
      " 1.42388032e+02 3.08919898e+08]\n"
     ]
    }
   ],
   "source": [
    "parameters = [2.53727071e-01, 1.00000000e-05]\n",
    "omega,alpha=parameters\n",
    "sol_equality = odeint (KG_eqn, y0(alpha), t, args=(parameters,))\n",
    "a=sol_equality[:,0]\n",
    "phi=sol_equality[:,1]\n",
    "phi_dot = sol_equality[:,2]\n",
    "rho_m = 4.0/(9.0*(a**3))\n",
    "kappa_alpha = kappa(alpha)\n",
    "V = (1/2)*kappa_alpha/(phi)**(alpha)\n",
    "rho_phi = (1/6)*(0.5*phi_dot**2 + V)\n",
    "omega_exp = rho_m/(rho_phi+rho_m)\n",
    "omega_exp = np.flipud(omega_exp)\n",
    "omega_exp_diff = omega_exp[1:]\n",
    "omega_exp_diff = np.diff(omega_exp)\n",
    "zeros= np.where(omega_exp_diff>0)\n",
    "zeros=zeros[0]\n",
    "#print(zeros)\n",
    "zeros=zeros+1\n",
    "omega_exp_new= omega_exp[zeros]\n",
    "aflip = np.flipud(a[zeros])\n",
    "\n",
    "g = interpolate.interp1d(omega_exp_new,aflip)\n",
    "a1 = g(omega)\n",
    "#print(a1)\n",
    "rm = interpolate.interp1d(a,rho_m)\n",
    "rp = interpolate.interp1d(a,rho_phi)\n",
    "#rho_critical = rho_m[i]+rho_phi[i]\n",
    "rho_critical = rm(a1)+rp(a1)\n",
    "a=a/a1\n",
    "print(rho_critical)\n",
    "omega_m = rho_m/rho_critical\n",
    "omega_phi = rho_phi/rho_critical\n",
    "womega_phi = (phi_dot**2-kappa_alpha/phi**alpha)/(phi_dot**2+kappa_alpha/phi**alpha)\n",
    "eqn = abs(omega_m+ omega_phi*(1+3*womega_phi))\n",
    "i_equality = np.argsort(eqn)\n",
    "print(eqn[i_equality])\n",
    "eqn = eqn[i_equality]\n",
    "z_eq = 1/a[i_equality]-1\n",
    "h = interpolate.interp1d(eqn,z_eq,fill_value=\"extrapolate\")\n",
    "print(h(0.))\n",
    "\n",
    "real = np.where(z_eq>=0)\n",
    "print(z_eq)"
   ]
  },
  {
   "cell_type": "code",
   "execution_count": 976,
   "metadata": {},
   "outputs": [
    {
     "name": "stdout",
     "output_type": "stream",
     "text": [
      "[ 46.73843358  49.07050131  50.6783947   54.90566107  55.70094723\n",
      "  57.50942125  57.60135957  64.4505272   65.50272627  73.5063504\n",
      "  73.75359464  79.74192816  84.73317609  89.72442402 103.82469943\n",
      " 104.69816781 114.68066368 120.91972359 127.2835647  139.01299734\n",
      " 139.63690333 142.1325273  159.22755146 192.0450066  208.26656238\n",
      " 220.74468221 248.19654583 316.82620487]\n",
      "263.60732117728344\n"
     ]
    },
    {
     "name": "stderr",
     "output_type": "stream",
     "text": [
      "<ipython-input-827-e42e0297d925>:5: RuntimeWarning: invalid value encountered in log\n",
      "  P2= kappa(alpha)*(np.exp((-alpha)*np.log(phi)))/12\n",
      "<ipython-input-885-3bf6cdf1d518>:7: RuntimeWarning: invalid value encountered in double_scalars\n",
      "  dydt = [phi_pr,-(3.0 + HdotoH2)*phi_pr - kappa_alpha*(phi**(-alpha-1))/(2*Hsquared) ]\n",
      "<ipython-input-827-e42e0297d925>:5: RuntimeWarning: divide by zero encountered in log\n",
      "  P2= kappa(alpha)*(np.exp((-alpha)*np.log(phi)))/12\n",
      "<ipython-input-827-e42e0297d925>:6: RuntimeWarning: overflow encountered in square\n",
      "  P3= 1- ((phi_pr)**2)/12\n",
      "<ipython-input-827-e42e0297d925>:7: RuntimeWarning: invalid value encountered in true_divide\n",
      "  return (P1+P2)/P3\n",
      "<ipython-input-964-14e45ff3c626>:7: RuntimeWarning: invalid value encountered in sqrt\n",
      "  H_theo= np.sqrt(Hsq( parameters,Ho,phi,phi_pr,N))\n"
     ]
    }
   ],
   "source": [
    "print(Chi_sq([0.29,0.0001],74,68,2.8,H_obs,sigma_obs,z_obs,N))"
   ]
  },
  {
   "cell_type": "code",
   "execution_count": 968,
   "metadata": {},
   "outputs": [
    {
     "name": "stdout",
     "output_type": "stream",
     "text": [
      "3.612682008024761\n"
     ]
    }
   ],
   "source": [
    "z_initial = 2100\n",
    "z_final = 0\n",
    "N_initial = N_efolds(z_initial)\n",
    "N_final = N_efolds(z_final)\n",
    "timesteps = 5000\n",
    "N = np.linspace(N_initial, N_final, timesteps)\n",
    "redshifts =  np.exp(-N) - 1\n",
    "print(redshifts[4000])"
   ]
  },
  {
   "cell_type": "code",
   "execution_count": 957,
   "metadata": {},
   "outputs": [
    {
     "name": "stdout",
     "output_type": "stream",
     "text": [
      "4.642518241991984\n"
     ]
    }
   ],
   "source": [
    "print(-2*np.log(0.09814992513745828))"
   ]
  },
  {
   "cell_type": "code",
   "execution_count": 63,
   "metadata": {},
   "outputs": [
    {
     "name": "stdout",
     "output_type": "stream",
     "text": [
      "1.1123842134671111\n"
     ]
    }
   ],
   "source": [
    "print(2.36874500e-05**(-0.01))"
   ]
  },
  {
   "cell_type": "code",
   "execution_count": 73,
   "metadata": {},
   "outputs": [
    {
     "name": "stdout",
     "output_type": "stream",
     "text": [
      "(100,)\n"
     ]
    },
    {
     "ename": "ValueError",
     "evalue": "Initial condition y0 must be one-dimensional.",
     "output_type": "error",
     "traceback": [
      "\u001b[1;31m---------------------------------------------------------------------------\u001b[0m",
      "\u001b[1;31mValueError\u001b[0m                                Traceback (most recent call last)",
      "\u001b[1;32m<ipython-input-73-b6dcff446795>\u001b[0m in \u001b[0;36m<module>\u001b[1;34m\u001b[0m\n\u001b[0;32m      8\u001b[0m \u001b[0mprint\u001b[0m\u001b[1;33m(\u001b[0m\u001b[0mY\u001b[0m\u001b[1;33m.\u001b[0m\u001b[0mshape\u001b[0m\u001b[1;33m)\u001b[0m\u001b[1;33m\u001b[0m\u001b[1;33m\u001b[0m\u001b[0m\n\u001b[0;32m      9\u001b[0m \u001b[1;33m\u001b[0m\u001b[0m\n\u001b[1;32m---> 10\u001b[1;33m \u001b[0mZ\u001b[0m\u001b[1;33m=\u001b[0m\u001b[0mChi_sq\u001b[0m\u001b[1;33m(\u001b[0m\u001b[1;33m(\u001b[0m\u001b[0mX\u001b[0m\u001b[1;33m,\u001b[0m\u001b[0mY\u001b[0m\u001b[1;33m)\u001b[0m\u001b[1;33m,\u001b[0m\u001b[1;36m68\u001b[0m\u001b[1;33m,\u001b[0m\u001b[1;36m2.8\u001b[0m\u001b[1;33m,\u001b[0m\u001b[0mH_obs\u001b[0m\u001b[1;33m,\u001b[0m\u001b[0msigma_obs\u001b[0m\u001b[1;33m,\u001b[0m\u001b[0mz_obs\u001b[0m\u001b[1;33m)\u001b[0m\u001b[1;33m\u001b[0m\u001b[1;33m\u001b[0m\u001b[0m\n\u001b[0m\u001b[0;32m     11\u001b[0m \u001b[0mZ\u001b[0m\u001b[1;33m=\u001b[0m\u001b[0mnp\u001b[0m\u001b[1;33m.\u001b[0m\u001b[0mzeros\u001b[0m\u001b[1;33m(\u001b[0m\u001b[1;33m(\u001b[0m\u001b[0mn\u001b[0m\u001b[1;33m,\u001b[0m\u001b[0mn\u001b[0m\u001b[1;33m)\u001b[0m\u001b[1;33m)\u001b[0m\u001b[1;33m\u001b[0m\u001b[1;33m\u001b[0m\u001b[0m\n\u001b[0;32m     12\u001b[0m \u001b[1;32mfor\u001b[0m \u001b[0mi\u001b[0m \u001b[1;32min\u001b[0m \u001b[0mrange\u001b[0m\u001b[1;33m(\u001b[0m\u001b[0mn\u001b[0m\u001b[1;33m)\u001b[0m\u001b[1;33m:\u001b[0m\u001b[1;33m\u001b[0m\u001b[1;33m\u001b[0m\u001b[0m\n",
      "\u001b[1;32m<ipython-input-11-2317c60a75cb>\u001b[0m in \u001b[0;36mChi_sq\u001b[1;34m(parameters, Ho, sigma_Ho, H_obs, sigma, z)\u001b[0m\n\u001b[0;32m      1\u001b[0m \u001b[1;32mdef\u001b[0m \u001b[0mChi_sq\u001b[0m\u001b[1;33m(\u001b[0m\u001b[0mparameters\u001b[0m\u001b[1;33m,\u001b[0m\u001b[0mHo\u001b[0m\u001b[1;33m,\u001b[0m\u001b[0msigma_Ho\u001b[0m\u001b[1;33m,\u001b[0m\u001b[0mH_obs\u001b[0m\u001b[1;33m,\u001b[0m\u001b[0msigma\u001b[0m\u001b[1;33m,\u001b[0m\u001b[0mz\u001b[0m\u001b[1;33m)\u001b[0m\u001b[1;33m:\u001b[0m\u001b[1;33m\u001b[0m\u001b[1;33m\u001b[0m\u001b[0m\n\u001b[1;32m----> 2\u001b[1;33m     \u001b[1;32mreturn\u001b[0m \u001b[1;33m(\u001b[0m\u001b[1;33m-\u001b[0m\u001b[1;36m2\u001b[0m\u001b[1;33m*\u001b[0m\u001b[0mnp\u001b[0m\u001b[1;33m.\u001b[0m\u001b[0mlog\u001b[0m\u001b[1;33m(\u001b[0m\u001b[0mLikelihood\u001b[0m\u001b[1;33m(\u001b[0m\u001b[0mparameters\u001b[0m\u001b[1;33m,\u001b[0m\u001b[0mHo\u001b[0m\u001b[1;33m,\u001b[0m\u001b[0msigma_Ho\u001b[0m\u001b[1;33m,\u001b[0m\u001b[0mH_obs\u001b[0m\u001b[1;33m,\u001b[0m\u001b[0msigma\u001b[0m\u001b[1;33m,\u001b[0m\u001b[0mz\u001b[0m\u001b[1;33m)\u001b[0m\u001b[1;33m)\u001b[0m\u001b[1;33m)\u001b[0m\u001b[1;33m\u001b[0m\u001b[1;33m\u001b[0m\u001b[0m\n\u001b[0m",
      "\u001b[1;32m<ipython-input-53-60a254515200>\u001b[0m in \u001b[0;36mLikelihood\u001b[1;34m(parameters, Ho, sigma_Ho, H_obs, sigma, z)\u001b[0m\n\u001b[0;32m      7\u001b[0m     \u001b[0mt\u001b[0m \u001b[1;33m=\u001b[0m \u001b[0mnp\u001b[0m\u001b[1;33m.\u001b[0m\u001b[0marange\u001b[0m\u001b[1;33m(\u001b[0m\u001b[1;36m0.\u001b[0m\u001b[1;33m,\u001b[0m \u001b[0mt_final\u001b[0m\u001b[1;33m,\u001b[0m \u001b[0mdt\u001b[0m\u001b[1;33m)\u001b[0m\u001b[1;33m\u001b[0m\u001b[1;33m\u001b[0m\u001b[0m\n\u001b[0;32m      8\u001b[0m     \u001b[0mstart\u001b[0m \u001b[1;33m=\u001b[0m \u001b[0mtime\u001b[0m\u001b[1;33m.\u001b[0m\u001b[0mtime\u001b[0m\u001b[1;33m(\u001b[0m\u001b[1;33m)\u001b[0m\u001b[1;33m\u001b[0m\u001b[1;33m\u001b[0m\u001b[0m\n\u001b[1;32m----> 9\u001b[1;33m     \u001b[0msol\u001b[0m \u001b[1;33m=\u001b[0m \u001b[0modeint\u001b[0m \u001b[1;33m(\u001b[0m\u001b[0mKG_eqn\u001b[0m\u001b[1;33m,\u001b[0m \u001b[0my0\u001b[0m\u001b[1;33m(\u001b[0m\u001b[0malpha\u001b[0m\u001b[1;33m)\u001b[0m\u001b[1;33m,\u001b[0m \u001b[0mt\u001b[0m\u001b[1;33m,\u001b[0m \u001b[0margs\u001b[0m\u001b[1;33m=\u001b[0m\u001b[1;33m(\u001b[0m\u001b[0mparameters\u001b[0m\u001b[1;33m,\u001b[0m\u001b[1;33m)\u001b[0m\u001b[1;33m)\u001b[0m\u001b[1;33m\u001b[0m\u001b[1;33m\u001b[0m\u001b[0m\n\u001b[0m\u001b[0;32m     10\u001b[0m     \u001b[0mend\u001b[0m\u001b[1;33m=\u001b[0m \u001b[0mtime\u001b[0m\u001b[1;33m.\u001b[0m\u001b[0mtime\u001b[0m\u001b[1;33m(\u001b[0m\u001b[1;33m)\u001b[0m\u001b[1;33m\u001b[0m\u001b[1;33m\u001b[0m\u001b[0m\n\u001b[0;32m     11\u001b[0m     \u001b[0ma\u001b[0m\u001b[1;33m=\u001b[0m\u001b[0msol\u001b[0m\u001b[1;33m[\u001b[0m\u001b[1;33m:\u001b[0m\u001b[1;33m,\u001b[0m\u001b[1;36m0\u001b[0m\u001b[1;33m]\u001b[0m\u001b[1;33m\u001b[0m\u001b[1;33m\u001b[0m\u001b[0m\n",
      "\u001b[1;32m~\\anaconda3\\lib\\site-packages\\scipy\\integrate\\odepack.py\u001b[0m in \u001b[0;36modeint\u001b[1;34m(func, y0, t, args, Dfun, col_deriv, full_output, ml, mu, rtol, atol, tcrit, h0, hmax, hmin, ixpr, mxstep, mxhnil, mxordn, mxords, printmessg, tfirst)\u001b[0m\n\u001b[0;32m    239\u001b[0m     \u001b[0mt\u001b[0m \u001b[1;33m=\u001b[0m \u001b[0mcopy\u001b[0m\u001b[1;33m(\u001b[0m\u001b[0mt\u001b[0m\u001b[1;33m)\u001b[0m\u001b[1;33m\u001b[0m\u001b[1;33m\u001b[0m\u001b[0m\n\u001b[0;32m    240\u001b[0m     \u001b[0my0\u001b[0m \u001b[1;33m=\u001b[0m \u001b[0mcopy\u001b[0m\u001b[1;33m(\u001b[0m\u001b[0my0\u001b[0m\u001b[1;33m)\u001b[0m\u001b[1;33m\u001b[0m\u001b[1;33m\u001b[0m\u001b[0m\n\u001b[1;32m--> 241\u001b[1;33m     output = _odepack.odeint(func, y0, t, args, Dfun, col_deriv, ml, mu,\n\u001b[0m\u001b[0;32m    242\u001b[0m                              \u001b[0mfull_output\u001b[0m\u001b[1;33m,\u001b[0m \u001b[0mrtol\u001b[0m\u001b[1;33m,\u001b[0m \u001b[0matol\u001b[0m\u001b[1;33m,\u001b[0m \u001b[0mtcrit\u001b[0m\u001b[1;33m,\u001b[0m \u001b[0mh0\u001b[0m\u001b[1;33m,\u001b[0m \u001b[0mhmax\u001b[0m\u001b[1;33m,\u001b[0m \u001b[0mhmin\u001b[0m\u001b[1;33m,\u001b[0m\u001b[1;33m\u001b[0m\u001b[1;33m\u001b[0m\u001b[0m\n\u001b[0;32m    243\u001b[0m                              \u001b[0mixpr\u001b[0m\u001b[1;33m,\u001b[0m \u001b[0mmxstep\u001b[0m\u001b[1;33m,\u001b[0m \u001b[0mmxhnil\u001b[0m\u001b[1;33m,\u001b[0m \u001b[0mmxordn\u001b[0m\u001b[1;33m,\u001b[0m \u001b[0mmxords\u001b[0m\u001b[1;33m,\u001b[0m\u001b[1;33m\u001b[0m\u001b[1;33m\u001b[0m\u001b[0m\n",
      "\u001b[1;31mValueError\u001b[0m: Initial condition y0 must be one-dimensional."
     ]
    }
   ],
   "source": [
    "n=100\n",
    "xlist = np.linspace(0, 0.60, n)\n",
    "ylist = np.linspace(0.000001, 5, n)\n",
    "parameters = np.meshgrid(xlist, ylist,sparse=True)\n",
    "X=parameters[0]\n",
    "Y=parameters[1]\n",
    "Y=np.reshape(Y,(100))\n",
    "print(Y.shape)\n",
    "\n",
    "Z=Chi_sq((X,Y),68,2.8,H_obs,sigma_obs,z_obs)\n",
    "Z=np.zeros((n,n))\n",
    "for i in range(n):\n",
    "    for  j in range (n):\n",
    "        #print(X[i])\n",
    "        Z[i,j]= Chi_sq((xlist[i],ylist[j]),68,2.8,H_obs,sigma_obs,z_obs)"
   ]
  },
  {
   "cell_type": "code",
   "execution_count": 58,
   "metadata": {},
   "outputs": [
    {
     "data": {
      "image/png": "[encoded data removed]",
      "text/plain": [
       "<Figure size 640x480 with 1 Axes>"
      ]
     },
     "metadata": {},
     "output_type": "display_data"
    }
   ],
   "source": [
    "fig, ax1 = plt.subplots()\n",
    "\n",
    "#drawing contour plot\n",
    "\n",
    "cb = ax1.contour(X, Y, Z,levels=[17.63,19.93,23.80,28.71],colors=\"black\",linewidths=0.7,linestyles=\"dashdot\")"
   ]
  },
  {
   "cell_type": "code",
   "execution_count": 34,
   "metadata": {},
   "outputs": [],
   "source": [
    "import os\n",
    "\n",
    "os.environ[\"OMP_NUM_THREADS\"] = \"1\""
   ]
  },
  {
   "cell_type": "code",
   "execution_count": 33,
   "metadata": {},
   "outputs": [
    {
     "name": "stdout",
     "output_type": "stream",
     "text": [
      "done0\n",
      "done1\n"
     ]
    },
    {
     "name": "stderr",
     "output_type": "stream",
     "text": [
      "100%|█████████████████████████████████████| 10000/10000 [02:12<00:00, 75.75it/s]"
     ]
    },
    {
     "name": "stdout",
     "output_type": "stream",
     "text": [
      "132.03077030181885\n"
     ]
    },
    {
     "name": "stderr",
     "output_type": "stream",
     "text": [
      "\n"
     ]
    }
   ],
   "source": [
    "import emcee\n",
    "from multiprocessing import Pool\n",
    "with Pool() as pool:\n",
    "    pos = [0.25312761, 0.01    ] + 1e-4 * np.random.randn(100, 2)\n",
    "    nwalkers, ndim = pos.shape\n",
    "    print(\"done0\")\n",
    "    #filename = \"Ho68_new_phiCDM_new3.h5\"\n",
    "    #backend = emcee.backends.HDFBackend(filename)\n",
    "    #backend.reset(nwalkers, ndim)\n",
    "    print(\"done1\")\n",
    "\n",
    "    #print(best_fit_params)\n",
    "    sampler = emcee.EnsembleSampler(\n",
    "        nwalkers, ndim, log_probability, args=(73.8,2.4,H_obs,sigma_obs,z_obs),pool=pool)\n",
    "    start = time.time()\n",
    "    sampler.run_mcmc(pos,10000, progress=True);\n",
    "    end = time.time()\n",
    "    print(end-start)"
   ]
  },
  {
   "cell_type": "code",
   "execution_count": 30,
   "metadata": {},
   "outputs": [
    {
     "name": "stdout",
     "output_type": "stream",
     "text": [
      "[nan nan]\n"
     ]
    },
    {
     "name": "stderr",
     "output_type": "stream",
     "text": [
      "/home/prakharb16/first_dir/first_env/lib/python3.10/site-packages/emcee/autocorr.py:38: RuntimeWarning: invalid value encountered in divide\n",
      "  acf /= acf[0]\n"
     ]
    },
    {
     "ename": "ValueError",
     "evalue": "cannot convert float NaN to integer",
     "output_type": "error",
     "traceback": [
      "\u001b[0;31m---------------------------------------------------------------------------\u001b[0m",
      "\u001b[0;31mValueError\u001b[0m                                Traceback (most recent call last)",
      "Cell \u001b[0;32mIn [30], line 4\u001b[0m\n\u001b[1;32m      2\u001b[0m \u001b[38;5;28mprint\u001b[39m(tau)\n\u001b[1;32m      3\u001b[0m \u001b[38;5;66;03m#tau = sampler.get_autocorr_time()\u001b[39;00m\n\u001b[0;32m----> 4\u001b[0m burnin \u001b[38;5;241m=\u001b[39m  \u001b[38;5;28;43mint\u001b[39;49m\u001b[43m(\u001b[49m\u001b[38;5;241;43m2\u001b[39;49m\u001b[43m \u001b[49m\u001b[38;5;241;43m*\u001b[39;49m\u001b[43m \u001b[49m\u001b[43mnp\u001b[49m\u001b[38;5;241;43m.\u001b[39;49m\u001b[43mmax\u001b[49m\u001b[43m(\u001b[49m\u001b[43mtau\u001b[49m\u001b[43m)\u001b[49m\u001b[43m)\u001b[49m\n\u001b[1;32m      5\u001b[0m thin \u001b[38;5;241m=\u001b[39m \u001b[38;5;28mint\u001b[39m(\u001b[38;5;241m0.5\u001b[39m \u001b[38;5;241m*\u001b[39m np\u001b[38;5;241m.\u001b[39mmin(tau))\n\u001b[1;32m      6\u001b[0m flat_samples \u001b[38;5;241m=\u001b[39m sampler\u001b[38;5;241m.\u001b[39mget_chain(discard\u001b[38;5;241m=\u001b[39mburnin, thin\u001b[38;5;241m=\u001b[39mthin, flat\u001b[38;5;241m=\u001b[39m\u001b[38;5;28;01mTrue\u001b[39;00m)\n",
      "\u001b[0;31mValueError\u001b[0m: cannot convert float NaN to integer"
     ]
    }
   ],
   "source": [
    "tau = sampler.get_autocorr_time()\n",
    "print(tau)\n",
    "#tau = sampler.get_autocorr_time()\n",
    "burnin =  int(2 * np.max(tau))\n",
    "thin = int(0.5 * np.min(tau))\n",
    "flat_samples = sampler.get_chain(discard=burnin, thin=thin, flat=True)\n",
    "print(\"burn-in: {0}\".format(burnin))\n",
    "print(\"thin: {0}\".format(thin))\n",
    "print(\"flat chain shape: {0}\".format(flat_samples.shape))"
   ]
  },
  {
   "cell_type": "code",
   "execution_count": 78,
   "metadata": {},
   "outputs": [
    {
     "data": {
      "image/png": "[encoded data removed]",
      "text/plain": [
       "<Figure size 550x550 with 4 Axes>"
      ]
     },
     "metadata": {},
     "output_type": "display_data"
    }
   ],
   "source": [
    "import corner\n",
    "labels = [\"omega\",\"alpha\"]\n",
    "fig = corner.corner(\n",
    "    flat_samples, labels=labels, truths= [0.29435933, 0.01217145]\n",
    ");"
   ]
  },
  {
   "cell_type": "code",
   "execution_count": 41,
   "metadata": {},
   "outputs": [
    {
     "ename": "NameError",
     "evalue": "name 'flat_samples' is not defined",
     "output_type": "error",
     "traceback": [
      "\u001b[0;31m---------------------------------------------------------------------------\u001b[0m",
      "\u001b[0;31mNameError\u001b[0m                                 Traceback (most recent call last)",
      "Cell \u001b[0;32mIn [41], line 4\u001b[0m\n\u001b[1;32m      1\u001b[0m \u001b[38;5;28;01mfrom\u001b[39;00m \u001b[38;5;21;01mIPython\u001b[39;00m\u001b[38;5;21;01m.\u001b[39;00m\u001b[38;5;21;01mdisplay\u001b[39;00m \u001b[38;5;28;01mimport\u001b[39;00m display, Math\n\u001b[1;32m      3\u001b[0m \u001b[38;5;28;01mfor\u001b[39;00m i \u001b[38;5;129;01min\u001b[39;00m \u001b[38;5;28mrange\u001b[39m(\u001b[38;5;241m2\u001b[39m):\n\u001b[0;32m----> 4\u001b[0m     mcmc \u001b[38;5;241m=\u001b[39m np\u001b[38;5;241m.\u001b[39mpercentile(\u001b[43mflat_samples\u001b[49m[:, i], [\u001b[38;5;241m4.55\u001b[39m, \u001b[38;5;241m50\u001b[39m, \u001b[38;5;241m95.45\u001b[39m])\n\u001b[1;32m      5\u001b[0m     q \u001b[38;5;241m=\u001b[39m np\u001b[38;5;241m.\u001b[39mdiff(mcmc)\n\u001b[1;32m      6\u001b[0m     minimum \u001b[38;5;241m=\u001b[39m mcmc[\u001b[38;5;241m1\u001b[39m]\u001b[38;5;241m-\u001b[39mq[\u001b[38;5;241m0\u001b[39m]\n",
      "\u001b[0;31mNameError\u001b[0m: name 'flat_samples' is not defined"
     ]
    }
   ],
   "source": [
    "from IPython.display import display, Math\n",
    "\n",
    "for i in range(2):\n",
    "    mcmc = np.percentile(flat_samples[:, i], [4.55, 50, 95.45])\n",
    "    q = np.diff(mcmc)\n",
    "    minimum = mcmc[1]-q[0]\n",
    "    maximum = mcmc[1]+q[1]\n",
    "    #print(f\"{minimum} $\\le \\Omega \\ge$ {maximum}\")\n",
    "    txt = \"\\mathrm{{{3}}} = {0:.2f}_{{{1:.2f}}}^{{{2:.2f}}}\"\n",
    "    txt = txt.format(mcmc[1], mcmc[1]-q[0], mcmc[1]+q[1], labels[i])\n",
    "    display(Math(txt))"
   ]
  },
  {
   "cell_type": "code",
   "execution_count": 29,
   "metadata": {},
   "outputs": [],
   "source": [
    "#ndim = 2\n",
    "#nsamp = 132400\n",
    "samps = flat_samples\n",
    "#samps2 = flat_samples2"
   ]
  },
  {
   "cell_type": "code",
   "execution_count": 30,
   "metadata": {},
   "outputs": [
    {
     "name": "stdout",
     "output_type": "stream",
     "text": [
      "Removed no burn in\n"
     ]
    }
   ],
   "source": [
    "names = [\"omega\",\"alpha\"]\n",
    "labels =  [\"\\Omega_{mo}\",\"alpha\"]\n",
    "samples = MCSamples(samples=samps,names = names, labels = labels)\n",
    "#samples2 = MCSamples(samples=samps2,names = names, labels = labels)"
   ]
  },
  {
   "cell_type": "code",
   "execution_count": 32,
   "metadata": {
    "scrolled": false
   },
   "outputs": [
    {
     "name": "stderr",
     "output_type": "stream",
     "text": [
      "WARNING:root:fine_bins_2D not large enough for optimal density: omega, alpha\n"
     ]
    },
    {
     "data": {
      "text/plain": [
       "(0.0, 5.0)"
      ]
     },
     "execution_count": 32,
     "metadata": {},
     "output_type": "execute_result"
    },
    {
     "data": {
      "image/png": "[encoded data removed]",
      "text/plain": [
       "<Figure size 600x450 with 1 Axes>"
      ]
     },
     "metadata": {},
     "output_type": "display_data"
    }
   ],
   "source": [
    "g = plots.get_single_plotter()\n",
    "ax1= g.get_axes()\n",
    "samples.updateSettings({'contours': [0.001,0.68, 0.95, 0.99]})\n",
    "g.settings.num_plot_contours = 4\n",
    "g.plot_2d(samples, 'omega', 'alpha');\n",
    "ax1.set_ylim(0,5)\n"
   ]
  },
  {
   "cell_type": "code",
   "execution_count": 30,
   "metadata": {},
   "outputs": [
    {
     "name": "stderr",
     "output_type": "stream",
     "text": [
      "  0%|                                                 | 0/30000 [00:00<?, ?it/s]/home/prakharb16/.local/lib/python3.10/site-packages/emcee/moves/red_blue.py:99: RuntimeWarning: invalid value encountered in double_scalars\n",
      "  lnpdiff = f + nlp - state.log_prob[j]\n",
      "100%|██████████████████████████████████| 30000/30000 [29:42:57<00:00,  3.57s/it]"
     ]
    },
    {
     "name": "stdout",
     "output_type": "stream",
     "text": [
      "106980.01049304008\n"
     ]
    },
    {
     "name": "stderr",
     "output_type": "stream",
     "text": [
      "\n"
     ]
    }
   ],
   "source": [
    "#import emcee\n",
    "from multiprocessing import Pool\n",
    "with Pool() as pool:\n",
    "    pos = [0.25312761,0.02] + 1e-4 * np.random.randn(300, 2)\n",
    "    nwalkers, ndim = pos.shape\n",
    "    #print(\"done0\")\n",
    "    #filename = \"Ho68_new_phiCDM_new3.h5\"\n",
    "    #backend = emcee.backends.HDFBackend(filename)\n",
    "    #backend.reset(nwalkers, ndim)\n",
    "    #print(\"done1\")\n",
    "\n",
    "    #print(best_fit_params)\n",
    "    sampler = emcee.EnsembleSampler(\n",
    "        nwalkers, ndim, log_probability, args=(73.8,2.4,H_obs,sigma_obs,z_obs),pool=pool\n",
    "    )\n",
    "    start = time.time()\n",
    "    sampler.run_mcmc(pos, 30000, progress=True);\n",
    "    end = time.time()\n",
    "    print(end-start)"
   ]
  },
  {
   "cell_type": "code",
   "execution_count": 32,
   "metadata": {},
   "outputs": [
    {
     "ename": "SyntaxError",
     "evalue": "invalid syntax (1598779161.py, line 1)",
     "output_type": "error",
     "traceback": [
      "\u001b[0;36m  Cell \u001b[0;32mIn [32], line 1\u001b[0;36m\u001b[0m\n\u001b[0;31m    python -m pip install -U pytest h5py\u001b[0m\n\u001b[0m              ^\u001b[0m\n\u001b[0;31mSyntaxError\u001b[0m\u001b[0;31m:\u001b[0m invalid syntax\n"
     ]
    }
   ],
   "source": [
    "python -m pip install -U pytest h5py"
   ]
  },
  {
   "cell_type": "code",
   "execution_count": 31,
   "metadata": {},
   "outputs": [
    {
     "name": "stdout",
     "output_type": "stream",
     "text": [
      "[40.75981376 52.17119977]\n",
      "burn-in: 104\n",
      "thin: 20\n",
      "flat chain shape: (448200, 2)\n"
     ]
    }
   ],
   "source": [
    "tau = sampler.get_autocorr_time()\n",
    "print(tau)\n",
    "#tau = sampler.get_autocorr_time()\n",
    "burnin =  int(2 * np.max(tau))\n",
    "thin = int(0.5 * np.min(tau))\n",
    "flat_samples2 = sampler.get_chain(discard=burnin, thin=thin, flat=True)\n",
    "print(\"burn-in: {0}\".format(burnin))\n",
    "print(\"thin: {0}\".format(thin))\n",
    "print(\"flat chain shape: {0}\".format(flat_samples2.shape))"
   ]
  },
  {
   "cell_type": "code",
   "execution_count": 42,
   "metadata": {},
   "outputs": [
    {
     "data": {
      "text/latex": [
       "$\\displaystyle \\mathrm{omega} = 0.24_{0.19}^{0.29}$"
      ],
      "text/plain": [
       "<IPython.core.display.Math object>"
      ]
     },
     "metadata": {},
     "output_type": "display_data"
    },
    {
     "data": {
      "text/latex": [
       "$\\displaystyle \\mathrm{alpha} = 0.28_{0.04}^{1.47}$"
      ],
      "text/plain": [
       "<IPython.core.display.Math object>"
      ]
     },
     "metadata": {},
     "output_type": "display_data"
    }
   ],
   "source": [
    "from IPython.display import display, Math\n",
    "\n",
    "for i in range(2):\n",
    "    mcmc = np.percentile(flat_samples2[:, i], [4.55, 50, 95.45])\n",
    "    q = np.diff(mcmc)\n",
    "    minimum = mcmc[1]-q[0]\n",
    "    maximum = mcmc[1]+q[1]\n",
    "    #print(f\"{minimum} $\\le \\Omega \\ge$ {maximum}\")\n",
    "    txt = \"\\mathrm{{{3}}} = {0:.2f}_{{{1:.2f}}}^{{{2:.2f}}}\"\n",
    "    txt = txt.format(mcmc[1], mcmc[1]-q[0], mcmc[1]+q[1], labels[i])\n",
    "    display(Math(txt))"
   ]
  },
  {
   "cell_type": "code",
   "execution_count": 34,
   "metadata": {},
   "outputs": [],
   "source": [
    "#ndim = 2\n",
    "#nsamp = 132400\n",
    "samps2 = flat_samples2\n",
    "#samps2 = flat_samples2"
   ]
  },
  {
   "cell_type": "code",
   "execution_count": 35,
   "metadata": {},
   "outputs": [
    {
     "name": "stdout",
     "output_type": "stream",
     "text": [
      "Removed no burn in\n"
     ]
    }
   ],
   "source": [
    "names = [\"omega\",\"alpha\"]\n",
    "labels =  [\"\\Omega_{mo}\",\"alpha\"]\n",
    "samples2 = MCSamples(samples=samps2,names = names, labels = labels)\n",
    "#samples2 = MCSamples(samples=samps2,names = names, labels = labels)"
   ]
  },
  {
   "cell_type": "code",
   "execution_count": 43,
   "metadata": {},
   "outputs": [
    {
     "name": "stderr",
     "output_type": "stream",
     "text": [
      "WARNING:root:fine_bins_2D not large enough for optimal density: omega, alpha\n"
     ]
    },
    {
     "data": {
      "text/plain": [
       "(0.0, 5.0)"
      ]
     },
     "execution_count": 43,
     "metadata": {},
     "output_type": "execute_result"
    },
    {
     "data": {
      "image/png": "[encoded data removed]",
      "text/plain": [
       "<Figure size 600x450 with 1 Axes>"
      ]
     },
     "metadata": {},
     "output_type": "display_data"
    }
   ],
   "source": [
    "g = plots.get_single_plotter()\n",
    "ax1= g.get_axes()\n",
    "samples2.updateSettings({'contours': [0.001,0.68, 0.9545, 0.9971]})\n",
    "g.settings.num_plot_contours = 4\n",
    "g.plot_2d(samples2, 'omega', 'alpha');\n",
    "ax1.set_ylim(0,5)\n"
   ]
  },
  {
   "cell_type": "code",
   "execution_count": 4,
   "metadata": {},
   "outputs": [],
   "source": [
    "reader = emcee.backends.HDFBackend(\"Ho73.8_phiCDM.h5\", read_only=True)\n",
    "flatchain = reader.get_chain(flat=True)\n"
   ]
  },
  {
   "cell_type": "code",
   "execution_count": 6,
   "metadata": {},
   "outputs": [
    {
     "name": "stdout",
     "output_type": "stream",
     "text": [
      "[40.83026447 50.55767747]\n"
     ]
    }
   ],
   "source": [
    "tau = reader.get_autocorr_time(discard=0, thin=1)\n",
    "print(tau)"
   ]
  },
  {
   "cell_type": "code",
   "execution_count": 39,
   "metadata": {},
   "outputs": [
    {
     "name": "stdout",
     "output_type": "stream",
     "text": [
      "Defaulting to user installation because normal site-packages is not writeable\n",
      "Collecting corner\n",
      "  Downloading corner-2.2.1-py3-none-any.whl (15 kB)\n",
      "Requirement already satisfied: matplotlib>=2.1 in /usr/lib/python3/dist-packages (from corner) (3.5.1)\n",
      "Installing collected packages: corner\n",
      "Successfully installed corner-2.2.1\n",
      "Note: you may need to restart the kernel to use updated packages.\n"
     ]
    }
   ],
   "source": [
    "pip install corner"
   ]
  },
  {
   "cell_type": "code",
   "execution_count": 40,
   "metadata": {},
   "outputs": [
    {
     "data": {
      "image/png": "[encoded data removed]",
      "text/plain": [
       "<Figure size 550x550 with 4 Axes>"
      ]
     },
     "metadata": {},
     "output_type": "display_data"
    }
   ],
   "source": [
    "import corner\n",
    "labels = [\"omega\",\"alpha\"]\n",
    "fig = corner.corner(\n",
    "    flat_samples2, labels=labels, truths= [2.53516085e-01, 1.00000000e-05]\n",
    ");"
   ]
  },
  {
   "cell_type": "markdown",
   "metadata": {},
   "source": [
    "# Variable Moves\n"
   ]
  },
  {
   "cell_type": "code",
   "execution_count": 29,
   "metadata": {},
   "outputs": [
    {
     "name": "stderr",
     "output_type": "stream",
     "text": [
      "100%|████████████████████████████████████| 5000/5000 [11:48:31<00:00,  8.50s/it]"
     ]
    },
    {
     "name": "stdout",
     "output_type": "stream",
     "text": [
      "42517.77132964134\n"
     ]
    },
    {
     "name": "stderr",
     "output_type": "stream",
     "text": [
      "\n"
     ]
    }
   ],
   "source": [
    "#import emcee\n",
    "from multiprocessing import Pool\n",
    "with Pool() as pool:\n",
    "    pos = [0.25312761,0.0] + 1e-4 * np.random.randn(100, 2)\n",
    "    nwalkers, ndim = pos.shape\n",
    "    #print(\"done0\")\n",
    "    #filename = \"Ho68_new_phiCDM_new3.h5\"\n",
    "    #backend = emcee.backends.HDFBackend(filename)\n",
    "    #backend.reset(nwalkers, ndim)\n",
    "    #print(\"done1\")\n",
    "\n",
    "    #print(best_fit_params)\n",
    "    sampler = emcee.EnsembleSampler(\n",
    "        nwalkers, ndim, log_probability, args=(73.8,2.4,H_obs,sigma_obs,z_obs),pool=pool,\n",
    "        moves=[\n",
    "        (emcee.moves.WalkMove())\n",
    "    ]\n",
    "    )\n",
    "    start = time.time()\n",
    "    sampler.run_mcmc(pos, 5000, progress=True);\n",
    "    end = time.time()\n",
    "    print(end-start)"
   ]
  },
  {
   "cell_type": "code",
   "execution_count": 30,
   "metadata": {},
   "outputs": [
    {
     "name": "stdout",
     "output_type": "stream",
     "text": [
      "[19.52533809 30.34022357]\n",
      "burn-in: 60\n",
      "thin: 9\n",
      "flat chain shape: (54800, 2)\n"
     ]
    }
   ],
   "source": [
    "tau = sampler.get_autocorr_time()\n",
    "print(tau)\n",
    "#tau = sampler.get_autocorr_time()\n",
    "burnin =  int(2 * np.max(tau))\n",
    "thin = int(0.5 * np.min(tau))\n",
    "flat_samples3 = sampler.get_chain(discard=burnin, thin=thin, flat=True)\n",
    "print(\"burn-in: {0}\".format(burnin))\n",
    "print(\"thin: {0}\".format(thin))\n",
    "print(\"flat chain shape: {0}\".format(flat_samples3.shape))"
   ]
  },
  {
   "cell_type": "code",
   "execution_count": 31,
   "metadata": {},
   "outputs": [],
   "source": [
    "#ndim = 2\n",
    "#nsamp = 132400\n",
    "samps3 = flat_samples3\n",
    "#samps2 = flat_samples2"
   ]
  },
  {
   "cell_type": "code",
   "execution_count": 32,
   "metadata": {},
   "outputs": [
    {
     "name": "stdout",
     "output_type": "stream",
     "text": [
      "Removed no burn in\n"
     ]
    }
   ],
   "source": [
    "names = [\"omega\",\"alpha\"]\n",
    "labels =  [\"\\Omega_{mo}\",\"alpha\"]\n",
    "samples3 = MCSamples(samples=samps3,names = names, labels = labels)\n",
    "#samples2 = MCSamples(samples=samps2,names = names, labels = labels)"
   ]
  },
  {
   "cell_type": "code",
   "execution_count": 33,
   "metadata": {},
   "outputs": [
    {
     "data": {
      "text/latex": [
       "$\\displaystyle \\mathrm{\\Omega_{mo}} = 0.24_{0.19}^{0.29}$"
      ],
      "text/plain": [
       "<IPython.core.display.Math object>"
      ]
     },
     "metadata": {},
     "output_type": "display_data"
    },
    {
     "data": {
      "text/latex": [
       "$\\displaystyle \\mathrm{alpha} = 0.25_{0.02}^{1.48}$"
      ],
      "text/plain": [
       "<IPython.core.display.Math object>"
      ]
     },
     "metadata": {},
     "output_type": "display_data"
    }
   ],
   "source": [
    "from IPython.display import display, Math\n",
    "\n",
    "for i in range(2):\n",
    "    mcmc = np.percentile(flat_samples3[:, i], [4.55, 50, 95.45])\n",
    "    q = np.diff(mcmc)\n",
    "    minimum = mcmc[1]-q[0]\n",
    "    maximum = mcmc[1]+q[1]\n",
    "    #print(f\"{minimum} $\\le \\Omega \\ge$ {maximum}\")\n",
    "    txt = \"\\mathrm{{{3}}} = {0:.2f}_{{{1:.2f}}}^{{{2:.2f}}}\"\n",
    "    txt = txt.format(mcmc[1], mcmc[1]-q[0], mcmc[1]+q[1], labels[i])\n",
    "    display(Math(txt))"
   ]
  },
  {
   "cell_type": "code",
   "execution_count": 34,
   "metadata": {},
   "outputs": [
    {
     "name": "stderr",
     "output_type": "stream",
     "text": [
      "WARNING:root:fine_bins_2D not large enough for optimal density: omega, alpha\n"
     ]
    },
    {
     "data": {
      "text/plain": [
       "(0.0, 5.0)"
      ]
     },
     "execution_count": 34,
     "metadata": {},
     "output_type": "execute_result"
    },
    {
     "data": {
      "image/png": "[encoded data removed]",
      "text/plain": [
       "<Figure size 600x450 with 1 Axes>"
      ]
     },
     "metadata": {},
     "output_type": "display_data"
    }
   ],
   "source": [
    "g = plots.get_single_plotter()\n",
    "ax1= g.get_axes()\n",
    "samples3.updateSettings({'contours': [0.001,0.68, 0.9545, 0.9971]})\n",
    "g.settings.num_plot_contours = 4\n",
    "g.plot_2d(samples3, 'omega', 'alpha');\n",
    "ax1.set_ylim(0,5)\n"
   ]
  },
  {
   "cell_type": "code",
   "execution_count": 85,
   "metadata": {},
   "outputs": [
    {
     "data": {
      "text/plain": [
       "(0.0, 5.0)"
      ]
     },
     "execution_count": 85,
     "metadata": {},
     "output_type": "execute_result"
    },
    {
     "data": {
      "image/png": "[encoded data removed]",
      "text/plain": [
       "<Figure size 600x450 with 1 Axes>"
      ]
     },
     "metadata": {},
     "output_type": "display_data"
    }
   ],
   "source": [
    "g = plots.get_single_plotter()\n",
    "ax1= g.get_axes()\n",
    "samples3.updateSettings({'contours': [0.001,0.68, 0.9545, 0.9971]})\n",
    "g.settings.num_plot_contours = 4\n",
    "g.plot_2d(samples3, 'omega', 'alpha');\n",
    "ax1.set_ylim(0,5)\n"
   ]
  },
  {
   "cell_type": "code",
   "execution_count": 54,
   "metadata": {},
   "outputs": [
    {
     "name": "stderr",
     "output_type": "stream",
     "text": [
      "  0%|                                                  | 0/5000 [00:00<?, ?it/s]/home/prakharb16/.local/lib/python3.10/site-packages/emcee/moves/red_blue.py:99: RuntimeWarning: invalid value encountered in double_scalars\n",
      "  lnpdiff = f + nlp - state.log_prob[j]\n",
      "100%|█████████████████████████████████████| 5000/5000 [1:37:14<00:00,  1.17s/it]"
     ]
    },
    {
     "name": "stdout",
     "output_type": "stream",
     "text": [
      "5835.085494279861\n"
     ]
    },
    {
     "name": "stderr",
     "output_type": "stream",
     "text": [
      "\n"
     ]
    }
   ],
   "source": [
    "#import emcee\n",
    "from multiprocessing import Pool\n",
    "with Pool() as pool:\n",
    "    pos = [0.25312761,0.02] + 1e-4 * np.random.randn(100, 2)\n",
    "    nwalkers, ndim = pos.shape\n",
    "    #print(\"done0\")\n",
    "    #filename = \"Ho68_new_phiCDM_new3.h5\"\n",
    "    #backend = emcee.backends.HDFBackend(filename)\n",
    "    #backend.reset(nwalkers, ndim)\n",
    "    #print(\"done1\")\n",
    "\n",
    "    #print(best_fit_params)\n",
    "    sampler = emcee.EnsembleSampler(\n",
    "        nwalkers, ndim, log_probability, args=(73.8,2.4,H_obs,sigma_obs,z_obs),pool=pool\n",
    "        \n",
    "    )\n",
    "    start = time.time()\n",
    "    sampler.run_mcmc(pos, 5000, progress=True);\n",
    "    end = time.time()\n",
    "    print(end-start)"
   ]
  },
  {
   "cell_type": "code",
   "execution_count": 55,
   "metadata": {},
   "outputs": [
    {
     "name": "stdout",
     "output_type": "stream",
     "text": [
      "[38.12599475 48.68548682]\n",
      "burn-in: 97\n",
      "thin: 19\n",
      "flat chain shape: (49400, 2)\n"
     ]
    }
   ],
   "source": [
    "tau = sampler.get_autocorr_time()\n",
    "print(tau)\n",
    "#tau = sampler.get_autocorr_time()\n",
    "burnin =  int(2 * np.max(tau))\n",
    "thin = int(0.5 * np.min(tau))\n",
    "flat_samples4 = sampler.get_chain(discard=burnin, thin=thin, flat=True)\n",
    "print(\"burn-in: {0}\".format(burnin))\n",
    "print(\"thin: {0}\".format(thin))\n",
    "print(\"flat chain shape: {0}\".format(flat_samples3.shape))"
   ]
  },
  {
   "cell_type": "code",
   "execution_count": 56,
   "metadata": {},
   "outputs": [],
   "source": [
    "#ndim = 2\n",
    "#nsamp = 132400\n",
    "samps4 = flat_samples4\n",
    "#samps2 = flat_samples2"
   ]
  },
  {
   "cell_type": "code",
   "execution_count": 57,
   "metadata": {},
   "outputs": [
    {
     "name": "stdout",
     "output_type": "stream",
     "text": [
      "Removed no burn in\n"
     ]
    }
   ],
   "source": [
    "names = [\"omega\",\"alpha\"]\n",
    "labels =  [\"\\Omega_{mo}\",\"alpha\"]\n",
    "samples4 = MCSamples(samples=samps4,names = names, labels = labels)\n",
    "#samples2 = MCSamples(samples=samps2,names = names, labels = labels)"
   ]
  },
  {
   "cell_type": "code",
   "execution_count": 59,
   "metadata": {},
   "outputs": [
    {
     "data": {
      "text/latex": [
       "$\\displaystyle \\mathrm{\\Omega_{mo}} = 0.24_{0.19}^{0.29}$"
      ],
      "text/plain": [
       "<IPython.core.display.Math object>"
      ]
     },
     "metadata": {},
     "output_type": "display_data"
    },
    {
     "data": {
      "text/latex": [
       "$\\displaystyle \\mathrm{alpha} = 0.28_{0.04}^{1.53}$"
      ],
      "text/plain": [
       "<IPython.core.display.Math object>"
      ]
     },
     "metadata": {},
     "output_type": "display_data"
    }
   ],
   "source": [
    "from IPython.display import display, Math\n",
    "\n",
    "for i in range(2):\n",
    "    mcmc = np.percentile(flat_samples4[:, i], [4.55, 50, 95.45])\n",
    "    q = np.diff(mcmc)\n",
    "    minimum = mcmc[1]-q[0]\n",
    "    maximum = mcmc[1]+q[1]\n",
    "    #print(f\"{minimum} $\\le \\Omega \\ge$ {maximum}\")\n",
    "    txt = \"\\mathrm{{{3}}} = {0:.2f}_{{{1:.2f}}}^{{{2:.2f}}}\"\n",
    "    txt = txt.format(mcmc[1], mcmc[1]-q[0], mcmc[1]+q[1], labels[i])\n",
    "    display(Math(txt))"
   ]
  },
  {
   "cell_type": "code",
   "execution_count": 61,
   "metadata": {},
   "outputs": [
    {
     "data": {
      "text/plain": [
       "(0.0, 5.0)"
      ]
     },
     "execution_count": 61,
     "metadata": {},
     "output_type": "execute_result"
    },
    {
     "data": {
      "image/png": "[encoded data removed]",
      "text/plain": [
       "<Figure size 600x450 with 1 Axes>"
      ]
     },
     "metadata": {},
     "output_type": "display_data"
    }
   ],
   "source": [
    "g = plots.get_single_plotter()\n",
    "ax1= g.get_axes()\n",
    "samples4.updateSettings({'contours': [0.001,0.68, 0.9545, 0.9971]})\n",
    "g.settings.num_plot_contours = 4\n",
    "g.plot_2d(samples4, 'omega', 'alpha');\n",
    "ax1.set_ylim(0,5)"
   ]
  },
  {
   "cell_type": "code",
   "execution_count": null,
   "metadata": {},
   "outputs": [],
   "source": []
  }
 ],
 "metadata": {
  "kernelspec": {
   "display_name": "Python 3 (ipykernel)",
   "language": "python",
   "name": "python3"
  },
  "language_info": {
   "codemirror_mode": {
    "name": "ipython",
    "version": 3
   },
   "file_extension": ".py",
   "mimetype": "text/x-python",
   "name": "python",
   "nbconvert_exporter": "python",
   "pygments_lexer": "ipython3",
   "version": "3.10.6"
  }
 },
 "nbformat": 4,
 "nbformat_minor": 4
}
