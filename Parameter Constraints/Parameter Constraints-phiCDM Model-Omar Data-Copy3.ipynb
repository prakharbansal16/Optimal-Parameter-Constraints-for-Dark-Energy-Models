{
 "cells": [
  {
   "cell_type": "code",
   "execution_count": 1,
   "metadata": {},
   "outputs": [],
   "source": [
    "import numpy as np\n",
    "import matplotlib.pyplot as plt\n",
    "import scipy.integrate\n",
    "from scipy import integrate as integrate\n",
    "import pandas as pd\n",
    "from scipy.optimize import minimize\n",
    "from scipy.special import erf\n",
    "from matplotlib import cm\n",
    "import scipy.integrate\n",
    "from scipy import optimize\n",
    "from scipy.integrate import odeint\n",
    "from scipy import integrate as integrate"
   ]
  },
  {
   "cell_type": "code",
   "execution_count": 2,
   "metadata": {},
   "outputs": [],
   "source": [
    "from getdist import plots, MCSamples\n",
    "import getdist\n",
    "import time"
   ]
  },
  {
   "cell_type": "code",
   "execution_count": 3,
   "metadata": {},
   "outputs": [],
   "source": [
    "plt.style.use('default')\n",
    "from matplotlib.ticker import (MultipleLocator, AutoMinorLocator)"
   ]
  },
  {
   "cell_type": "code",
   "execution_count": 4,
   "metadata": {},
   "outputs": [],
   "source": [
    "def E( parameters,z):  \n",
    "    omega=parameters[0]\n",
    "    alpha=parameters[1]\n",
    "    #Ho= parameters[2]\n",
    "    #print(alpha)\n",
    "    sol = odeint (KG_eqn, y0(alpha), t, args=(parameters,))\n",
    "    a=sol[:,0]\n",
    "    phi=sol[:,1]\n",
    "    phi_dot = sol[:,2]\n",
    "    rho_m = 4.0/(9.0*(a**3))\n",
    "    kappa_alpha = kappa(alpha)\n",
    "    V = (1/2)*kappa_alpha/(phi)**(alpha)\n",
    "    rho_phi = (1/32*np.pi)*(0.5*phi_dot**2 + V)\n",
    "    omega_exp = rho_m/(rho_phi+rho_m)\n",
    "    i = np.where(omega_exp>=omega)\n",
    "    i=i[0]\n",
    "    if (len(i)>1):\n",
    "        i=i[-1]\n",
    "    else:\n",
    "        i=i[0]\n",
    "    #print(i)\n",
    "    rho_critical = rho_m[i]+rho_phi[i]\n",
    "    a_z = 1/(1+z)\n",
    "    #print(sol[i,0])\n",
    "    a = a/sol[i,0]\n",
    "    j = np.where(a >= a_z)[0]\n",
    "    j=j[0]\n",
    "    #print(j)\n",
    "    omega_m_theo = rho_m[j]/(rho_critical)\n",
    "    omega_phi_theo = rho_phi[j]/(rho_critical)\n",
    "    return np.sqrt(omega_m_theo+omega_phi_theo)"
   ]
  },
  {
   "cell_type": "code",
   "execution_count": 106,
   "metadata": {},
   "outputs": [],
   "source": [
    "def E_sol(rho_critical,rho_m,rho_phi,a,z):\n",
    "    a_z = 1/(1+z)\n",
    "    #print(sol[i,0])\n",
    "    \n",
    "    j = np.where(a >= a_z)[0]\n",
    "    #print(j)\n",
    "    if(len(j)>1):\n",
    "        j=j[0]\n",
    "    else:\n",
    "        j=len(a)-1\n",
    "    #print(j)\n",
    "    omega_m_theo = rho_m[j]/(rho_critical)\n",
    "    omega_phi_theo = rho_phi[j]/(rho_critical)\n",
    "    return np.sqrt(omega_m_theo+omega_phi_theo)  "
   ]
  },
  {
   "cell_type": "code",
   "execution_count": 6,
   "metadata": {},
   "outputs": [],
   "source": [
    "def erf_new(x):\n",
    "    return ((4/np.pi)**(1/2))*(erf(x)-erf(0))"
   ]
  },
  {
   "cell_type": "code",
   "execution_count": 7,
   "metadata": {},
   "outputs": [],
   "source": [
    "def alphaf(parameters,sigma_Ho,sigma,z,E_array):\n",
    "    #sigma,z,H_obs are vectors\n",
    "\n",
    "    n = len(sigma)\n",
    "    alpha0=1/(sigma_Ho)**2\n",
    "    for i in range(n):\n",
    "        alpha0 = alpha0 + (E_array[i]/sigma[i])**2\n",
    "        \n",
    "    return alpha0"
   ]
  },
  {
   "cell_type": "code",
   "execution_count": 8,
   "metadata": {},
   "outputs": [],
   "source": [
    "def beta(parameters,Ho,sigma_Ho,H_obs,sigma,z,E_array):\n",
    "    n = len(sigma)\n",
    "    beta0=Ho/((sigma_Ho)**2)\n",
    "    for i in range(n):\n",
    "        beta0 = beta0 + (E_array[i]*H_obs[i]/((sigma[i])**2))\n",
    "        \n",
    "    return beta0"
   ]
  },
  {
   "cell_type": "code",
   "execution_count": 9,
   "metadata": {},
   "outputs": [],
   "source": [
    "def gamma(Ho,sigma_Ho,H_obs,sigma,E_array):\n",
    "    n = len(sigma)\n",
    "    gamma0=(Ho/(sigma_Ho))**2\n",
    "    for i in range(n):\n",
    "        gamma0 = gamma0 + (H_obs[i]/sigma[i])**2\n",
    "        \n",
    "    return gamma0 "
   ]
  },
  {
   "cell_type": "code",
   "execution_count": 128,
   "metadata": {},
   "outputs": [],
   "source": [
    "def Likelihood(parameters,Ho,sigma_Ho,H_obs,sigma,z):\n",
    "    omega=parameters[0]\n",
    "    alpha=parameters[1]\n",
    "    t_initial = 10**(-5)\n",
    "    t_final = 150\n",
    "    dt = 10**(-4)\n",
    "    t = np.arange(0., t_final, dt)\n",
    "    start = time.time()\n",
    "    #print(y0(alpha))\n",
    "    sol = odeint (KG_eqn, y0(alpha), t, args=(parameters,))\n",
    "    end= time.time()\n",
    "    a=sol[:,0]\n",
    "    phi=sol[:,1]\n",
    "    phi_dot = sol[:,2]\n",
    "    rho_m = 4.0/(9.0*(a**3))\n",
    "    kappa_alpha = kappa(alpha)\n",
    "    V = (1/2)*kappa_alpha/(phi)**(alpha)\n",
    "    rho_phi = (1/12)*(0.5*phi_dot**2 + V)\n",
    "    omega_exp = rho_m/(rho_phi+rho_m)\n",
    "    i = np.where(omega_exp>=omega)\n",
    "    i=i[0]\n",
    "    if (len(i)>1):\n",
    "        i=i[-1]\n",
    "    else:\n",
    "        i=len(t)-1\n",
    "    #print(i)\n",
    "    rho_critical = rho_m[i]+rho_phi[i]\n",
    "    a = a/sol[i,0]\n",
    "    E_array = np.zeros(len(z_obs))\n",
    "    \n",
    "    #print(end-start)\n",
    "    for i in range(len(z_obs)):\n",
    "        \n",
    "        E_array[i] = E_sol(rho_critical,rho_m,rho_phi,a,z_obs[i])\n",
    "        \n",
    "    #print(E_array)\n",
    "    \n",
    "    \n",
    "    alpha0= alphaf(parameters,sigma_Ho,sigma,z,E_array)\n",
    "    beta0= beta(parameters,Ho,sigma_Ho,H_obs,sigma,z,E_array)\n",
    "    gamma0= gamma(Ho,sigma_Ho,H_obs,sigma,E_array)\n",
    "    LH1= (1/(4*alpha0*((sigma_Ho)**2)))**(1/2)\n",
    "    LH2= np.exp(-gamma0/2+(((beta0)**2)/(2*alpha0)))\n",
    "    LH3 = 1+ erf_new(beta0/((2*alpha0)**(1/2)))\n",
    "    \n",
    "    return (LH1*LH2*LH3)"
   ]
  },
  {
   "cell_type": "code",
   "execution_count": 78,
   "metadata": {},
   "outputs": [],
   "source": [
    "def Chi_sq(parameters,Ho,sigma_Ho,H_obs,sigma,z):\n",
    "    return (-2*np.log(Likelihood(parameters,Ho,sigma_Ho,H_obs,sigma,z)))"
   ]
  },
  {
   "cell_type": "code",
   "execution_count": 79,
   "metadata": {},
   "outputs": [],
   "source": [
    "def log_likelihood(parameters,Ho,sigma_Ho,H_obs,sigma,z):\n",
    "    return np.log(Likelihood(parameters,Ho,sigma_Ho,H_obs,sigma,z))"
   ]
  },
  {
   "cell_type": "code",
   "execution_count": 80,
   "metadata": {},
   "outputs": [],
   "source": [
    "def log_prior(parameters):\n",
    "    omega,alpha = parameters\n",
    "    if 0.01 < omega < 2 and 0.00001 < alpha < 5:\n",
    "        return 0.0\n",
    "    return -np.inf"
   ]
  },
  {
   "cell_type": "code",
   "execution_count": 81,
   "metadata": {},
   "outputs": [],
   "source": [
    "def log_probability(parameters,Ho,sigma_Ho,H_obs,sigma,z):\n",
    "    lp = log_prior(parameters)\n",
    "    if not np.isfinite(lp):\n",
    "        return -np.inf\n",
    "   \n",
    "    return lp + log_likelihood(parameters,Ho,sigma_Ho,H_obs,sigma,z)"
   ]
  },
  {
   "cell_type": "code",
   "execution_count": null,
   "metadata": {},
   "outputs": [],
   "source": []
  },
  {
   "cell_type": "code",
   "execution_count": 15,
   "metadata": {},
   "outputs": [
    {
     "ename": "NameError",
     "evalue": "name 'KG_eqn' is not defined",
     "output_type": "error",
     "traceback": [
      "\u001b[1;31m---------------------------------------------------------------------------\u001b[0m",
      "\u001b[1;31mNameError\u001b[0m                                 Traceback (most recent call last)",
      "\u001b[1;32m<ipython-input-15-d08da0f9daae>\u001b[0m in \u001b[0;36m<module>\u001b[1;34m\u001b[0m\n\u001b[1;32m----> 1\u001b[1;33m \u001b[0mprint\u001b[0m\u001b[1;33m(\u001b[0m\u001b[0mE\u001b[0m\u001b[1;33m(\u001b[0m\u001b[1;33m[\u001b[0m\u001b[1;36m0.30\u001b[0m\u001b[1;33m,\u001b[0m\u001b[1;36m0.01\u001b[0m\u001b[1;33m,\u001b[0m\u001b[1;36m70\u001b[0m\u001b[1;33m]\u001b[0m\u001b[1;33m,\u001b[0m\u001b[1;36m1.965\u001b[0m\u001b[1;33m)\u001b[0m\u001b[1;33m)\u001b[0m\u001b[1;33m\u001b[0m\u001b[1;33m\u001b[0m\u001b[0m\n\u001b[0m",
      "\u001b[1;32m<ipython-input-4-12f5d382cbb6>\u001b[0m in \u001b[0;36mE\u001b[1;34m(parameters, z)\u001b[0m\n\u001b[0;32m      4\u001b[0m     \u001b[1;31m#Ho= parameters[2]\u001b[0m\u001b[1;33m\u001b[0m\u001b[1;33m\u001b[0m\u001b[1;33m\u001b[0m\u001b[0m\n\u001b[0;32m      5\u001b[0m     \u001b[1;31m#print(alpha)\u001b[0m\u001b[1;33m\u001b[0m\u001b[1;33m\u001b[0m\u001b[1;33m\u001b[0m\u001b[0m\n\u001b[1;32m----> 6\u001b[1;33m     \u001b[0msol\u001b[0m \u001b[1;33m=\u001b[0m \u001b[0modeint\u001b[0m \u001b[1;33m(\u001b[0m\u001b[0mKG_eqn\u001b[0m\u001b[1;33m,\u001b[0m \u001b[0my0\u001b[0m\u001b[1;33m(\u001b[0m\u001b[0malpha\u001b[0m\u001b[1;33m)\u001b[0m\u001b[1;33m,\u001b[0m \u001b[0mt\u001b[0m\u001b[1;33m,\u001b[0m \u001b[0margs\u001b[0m\u001b[1;33m=\u001b[0m\u001b[1;33m(\u001b[0m\u001b[0mparameters\u001b[0m\u001b[1;33m,\u001b[0m\u001b[1;33m)\u001b[0m\u001b[1;33m)\u001b[0m\u001b[1;33m\u001b[0m\u001b[1;33m\u001b[0m\u001b[0m\n\u001b[0m\u001b[0;32m      7\u001b[0m     \u001b[0ma\u001b[0m\u001b[1;33m=\u001b[0m\u001b[0msol\u001b[0m\u001b[1;33m[\u001b[0m\u001b[1;33m:\u001b[0m\u001b[1;33m,\u001b[0m\u001b[1;36m0\u001b[0m\u001b[1;33m]\u001b[0m\u001b[1;33m\u001b[0m\u001b[1;33m\u001b[0m\u001b[0m\n\u001b[0;32m      8\u001b[0m     \u001b[0mphi\u001b[0m\u001b[1;33m=\u001b[0m\u001b[0msol\u001b[0m\u001b[1;33m[\u001b[0m\u001b[1;33m:\u001b[0m\u001b[1;33m,\u001b[0m\u001b[1;36m1\u001b[0m\u001b[1;33m]\u001b[0m\u001b[1;33m\u001b[0m\u001b[1;33m\u001b[0m\u001b[0m\n",
      "\u001b[1;31mNameError\u001b[0m: name 'KG_eqn' is not defined"
     ]
    }
   ],
   "source": [
    "print(E([0.30,0.01,70],1.965))"
   ]
  },
  {
   "cell_type": "code",
   "execution_count": 17,
   "metadata": {},
   "outputs": [],
   "source": [
    "def kappa(alpha):\n",
    "    #print(alpha)\n",
    "    #print(type(alpha))\n",
    "    p1= (8*alpha+32)/(3*alpha+6)\n",
    "    p2= ((2*(alpha**2)+4*alpha)/3)**(alpha/2)\n",
    "    #print(f\"kappa:{p1*p2}\")\n",
    "    return p1*p2"
   ]
  },
  {
   "cell_type": "code",
   "execution_count": 18,
   "metadata": {},
   "outputs": [
    {
     "name": "stdout",
     "output_type": "stream",
     "text": [
      "4.586125402580961\n",
      "0.48047102316806106\n"
     ]
    }
   ],
   "source": [
    "print(kappa(0.5))\n",
    "print((1/12)*kappa(0.1)*0.13486911**(-0.1))"
   ]
  },
  {
   "cell_type": "code",
   "execution_count": 94,
   "metadata": {},
   "outputs": [],
   "source": [
    "def y0(alpha):\n",
    "    t0 = 10**(-5)\n",
    "    a_initial = (t0**(2/3))*(alpha)\n",
    "    phi_initial =   ((2*alpha*(alpha+2)/3)**(1/2))*((t0)**(2/(alpha+2)))\n",
    "   \n",
    "    phi_dot_initial = (2/(alpha+2))*(phi_initial)/t0\n",
    "    \n",
    "    Ho = 70 # Hubble parameter today in units of 100 km/s/Mpc (Planck 2015)\n",
    "    rho_cr0 = 3*Ho**2/(8*np.pi)\n",
    "    #h = 0.678 # Hubble parameter today in units of 100 km/s/Mpc (Planck 2015)\n",
    "    #rho_cr0 = 8.0992*(h**2)*10**(-47) / (2.435*10**18)**4\n",
    "    # calculate the matter density today\n",
    "    \n",
    "    #Omega_m = 0.28\n",
    "    #rho_m0 = Omega_m*rho_cr0\n",
    "    #rho_initial = rho_m0/(a_initial**3) # initial value for the matter density\n",
    "    \n",
    "    return a_initial,phi_initial,phi_dot_initial\n",
    "    #,rho_initial"
   ]
  },
  {
   "cell_type": "code",
   "execution_count": 95,
   "metadata": {},
   "outputs": [
    {
     "name": "stdout",
     "output_type": "stream",
     "text": [
      "(0.0018566355334451124, 0.08617738760127537, 2872.579586709179)\n"
     ]
    }
   ],
   "source": [
    "print(y0(4))"
   ]
  },
  {
   "cell_type": "code",
   "execution_count": 68,
   "metadata": {},
   "outputs": [
    {
     "name": "stdout",
     "output_type": "stream",
     "text": [
      "([0.0004641588833612781, 0.0004641588833612781, 0.0004641588833612781], array([1.22582372e-06, 1.83928913e-06, 2.38866168e-06]), array([0.12197251, 0.18210783, 0.23533613]))\n"
     ]
    }
   ],
   "source": [
    "print(y0(np.array([0.01,0.02,0.03])))"
   ]
  },
  {
   "cell_type": "code",
   "execution_count": 20,
   "metadata": {},
   "outputs": [],
   "source": [
    "t_initial = 10**(-5)\n",
    "t_final = 150\n",
    "dt = t_initial\n",
    "t = np.arange(0., t_final, dt)\n",
    "\n",
    "\n",
    "    "
   ]
  },
  {
   "cell_type": "code",
   "execution_count": 127,
   "metadata": {},
   "outputs": [],
   "source": [
    "def KG_eqn(y, t, parameters):\n",
    "    #a,phi,phi_dot,rho_m = y\n",
    "    a,phi,phi_dot = y\n",
    "    rho_m = 4.0/(9.0*a**3)\n",
    "    alpha=parameters[1]\n",
    "    kappa_alpha = kappa(alpha)\n",
    "    mp = 1\n",
    "    V = (1/2)*kappa_alpha*mp**2/(phi)**(alpha)\n",
    "    rho_phi = (1/6)*(0.5*phi_dot**2 + V)\n",
    "    Hubble_rate = np.sqrt( (rho_phi + rho_m))\n",
    "    #dydt = [a*Hubble_rate,phi_dot,-3*Hubble_rate*phi_dot+ 0.5*kappa_alpha*alpha/(phi**(alpha+1)), -3*rho_m*Hubble_rate ]\n",
    "    dydt = [a*Hubble_rate,phi_dot,-3*Hubble_rate*phi_dot+ 0.5*kappa_alpha*alpha/(phi**(alpha+1)) ]\n",
    "    return dydt"
   ]
  },
  {
   "cell_type": "code",
   "execution_count": 22,
   "metadata": {},
   "outputs": [],
   "source": [
    "parameters = [0.30,0.01]\n",
    "Ho=70"
   ]
  },
  {
   "cell_type": "code",
   "execution_count": 23,
   "metadata": {
    "scrolled": true
   },
   "outputs": [
    {
     "name": "stdout",
     "output_type": "stream",
     "text": [
      "233.22343602502858\n"
     ]
    }
   ],
   "source": [
    "from scipy.integrate import odeint\n",
    "#sol = odeint(KG_eqn, y0(0.01), t, args=(parameters,))\n",
    "print(68.8*E(parameters,2.30))"
   ]
  },
  {
   "cell_type": "code",
   "execution_count": 40,
   "metadata": {},
   "outputs": [
    {
     "ename": "NameError",
     "evalue": "name 'sol' is not defined",
     "output_type": "error",
     "traceback": [
      "\u001b[1;31m---------------------------------------------------------------------------\u001b[0m",
      "\u001b[1;31mNameError\u001b[0m                                 Traceback (most recent call last)",
      "\u001b[1;32m<ipython-input-40-f3e48dd9ba0a>\u001b[0m in \u001b[0;36m<module>\u001b[1;34m\u001b[0m\n\u001b[1;32m----> 1\u001b[1;33m \u001b[0mprint\u001b[0m\u001b[1;33m(\u001b[0m\u001b[0msol\u001b[0m\u001b[1;33m[\u001b[0m\u001b[1;36m0\u001b[0m\u001b[1;33m:\u001b[0m\u001b[1;36m1678\u001b[0m\u001b[1;33m,\u001b[0m\u001b[1;36m2\u001b[0m\u001b[1;33m]\u001b[0m\u001b[1;33m)\u001b[0m\u001b[1;33m\u001b[0m\u001b[1;33m\u001b[0m\u001b[0m\n\u001b[0m",
      "\u001b[1;31mNameError\u001b[0m: name 'sol' is not defined"
     ]
    }
   ],
   "source": [
    "print(sol[0:1678,2])"
   ]
  },
  {
   "cell_type": "code",
   "execution_count": 41,
   "metadata": {},
   "outputs": [
    {
     "ename": "NameError",
     "evalue": "name 'sol' is not defined",
     "output_type": "error",
     "traceback": [
      "\u001b[1;31m---------------------------------------------------------------------------\u001b[0m",
      "\u001b[1;31mNameError\u001b[0m                                 Traceback (most recent call last)",
      "\u001b[1;32m<ipython-input-41-bd5b46731831>\u001b[0m in \u001b[0;36m<module>\u001b[1;34m\u001b[0m\n\u001b[1;32m----> 1\u001b[1;33m \u001b[0ma\u001b[0m \u001b[1;33m=\u001b[0m \u001b[0msol\u001b[0m\u001b[1;33m[\u001b[0m\u001b[1;33m:\u001b[0m\u001b[1;33m,\u001b[0m\u001b[1;36m0\u001b[0m\u001b[1;33m]\u001b[0m\u001b[1;33m\u001b[0m\u001b[1;33m\u001b[0m\u001b[0m\n\u001b[0m\u001b[0;32m      2\u001b[0m \u001b[0mphi\u001b[0m\u001b[1;33m=\u001b[0m\u001b[0msol\u001b[0m\u001b[1;33m[\u001b[0m\u001b[1;33m:\u001b[0m\u001b[1;33m,\u001b[0m\u001b[1;36m1\u001b[0m\u001b[1;33m]\u001b[0m\u001b[1;33m\u001b[0m\u001b[1;33m\u001b[0m\u001b[0m\n\u001b[0;32m      3\u001b[0m \u001b[0mphi_dot\u001b[0m\u001b[1;33m=\u001b[0m\u001b[0msol\u001b[0m\u001b[1;33m[\u001b[0m\u001b[1;33m:\u001b[0m\u001b[1;33m,\u001b[0m\u001b[1;36m2\u001b[0m\u001b[1;33m]\u001b[0m\u001b[1;33m\u001b[0m\u001b[1;33m\u001b[0m\u001b[0m\n\u001b[0;32m      4\u001b[0m \u001b[0mrho_m\u001b[0m \u001b[1;33m=\u001b[0m \u001b[0msol\u001b[0m\u001b[1;33m[\u001b[0m\u001b[1;33m:\u001b[0m\u001b[1;33m,\u001b[0m\u001b[1;36m3\u001b[0m\u001b[1;33m]\u001b[0m\u001b[1;33m\u001b[0m\u001b[1;33m\u001b[0m\u001b[0m\n\u001b[0;32m      5\u001b[0m \u001b[0mH\u001b[0m\u001b[1;33m=\u001b[0m\u001b[1;33m[\u001b[0m\u001b[1;33m]\u001b[0m\u001b[1;33m\u001b[0m\u001b[1;33m\u001b[0m\u001b[0m\n",
      "\u001b[1;31mNameError\u001b[0m: name 'sol' is not defined"
     ]
    }
   ],
   "source": [
    "a = sol[:,0]\n",
    "phi=sol[:,1]\n",
    "phi_dot=sol[:,2]\n",
    "rho_m = sol[:,3]\n",
    "H=[]\n",
    "alpha = 0.01\n",
    "print(phi,phi_dot,rho_m)\n",
    "kappa_alpha = kappa(alpha)\n",
    "V = (1/2)*kappa_alpha/(phi)**(alpha)\n",
    "rho_phi = 0.5*phi_dot**2 + V\n",
    "Hubble_rate = np.sqrt((8*np.pi/3)* (rho_phi + rho_m))\n",
    "print(V)\n",
    "\n",
    "print(Hubble_rate[16906])\n"
   ]
  },
  {
   "cell_type": "code",
   "execution_count": 24,
   "metadata": {},
   "outputs": [
    {
     "name": "stdout",
     "output_type": "stream",
     "text": [
      "    Unnamed: 0      z      H  Sigma\n",
      "0          NaN  0.070   69.0   19.6\n",
      "1          NaN  0.100   69.0   12.0\n",
      "2          NaN  0.120   68.6   26.2\n",
      "3          NaN  0.170   83.0    8.0\n",
      "4          NaN  0.179   75.0    4.0\n",
      "5          NaN  0.199   75.0    5.0\n",
      "6          NaN  0.200   72.9   29.6\n",
      "7          NaN  0.270   77.0   14.0\n",
      "8          NaN  0.280   88.8   36.6\n",
      "9          NaN  0.350   76.3    5.6\n",
      "10         NaN  0.352   83.0   14.0\n",
      "11         NaN  0.400   95.0   17.0\n",
      "12         NaN  0.440   82.6    7.8\n",
      "13         NaN  0.480   97.0   62.0\n",
      "14         NaN  0.593  104.0   13.0\n",
      "15         NaN  0.600   87.9    6.1\n",
      "16         NaN  0.680   92.0    8.0\n",
      "17         NaN  0.730   97.3    7.0\n",
      "18         NaN  0.781  105.0   12.0\n",
      "19         NaN  0.875  125.0   17.0\n",
      "20         NaN  0.880   90.0   40.0\n",
      "21         NaN  0.900  117.0   23.0\n",
      "22         NaN  1.037  154.0   20.0\n",
      "23         NaN  1.300  168.0   17.0\n",
      "24         NaN  1.430  177.0   18.0\n",
      "25         NaN  1.530  140.0   14.0\n",
      "26         NaN  1.750  202.0   40.0\n",
      "27         NaN  2.300  224.0    8.0\n",
      "[0.07  0.1   0.12  0.17  0.179 0.199 0.2   0.27  0.28  0.35  0.352 0.4\n",
      " 0.44  0.48  0.593 0.6   0.68  0.73  0.781 0.875 0.88  0.9   1.037 1.3\n",
      " 1.43  1.53  1.75  2.3  ]\n"
     ]
    }
   ],
   "source": [
    "Data = pd.read_csv(\"Hdata - Table 1.csv\")\n",
    "print(Data)\n",
    "Data = Data.to_numpy()\n",
    "z_obs = Data[:,1]\n",
    "H_obs = Data[:,2]\n",
    "sigma_obs = Data[:,3]\n",
    "print(z_obs)"
   ]
  },
  {
   "cell_type": "code",
   "execution_count": 25,
   "metadata": {},
   "outputs": [],
   "source": [
    "Ho= 68\n",
    "sigma_Ho=2.8"
   ]
  },
  {
   "cell_type": "code",
   "execution_count": 130,
   "metadata": {},
   "outputs": [
    {
     "name": "stdout",
     "output_type": "stream",
     "text": [
      "20.51466928103022\n",
      "0.44600772857666016\n"
     ]
    }
   ],
   "source": [
    "start = time.time()\n",
    "print(Chi_sq([0.25,0.0001],73.8,2.4,H_obs,sigma_obs,z_obs))\n",
    "end =time.time()\n",
    "print(end-start)"
   ]
  },
  {
   "cell_type": "code",
   "execution_count": 37,
   "metadata": {
    "scrolled": true
   },
   "outputs": [
    {
     "name": "stderr",
     "output_type": "stream",
     "text": [
      "<ipython-input-24-8d130fa533c9>:12: RuntimeWarning: invalid value encountered in double_scalars\n",
      "  dydt = [a*Hubble_rate,phi_dot,-3*Hubble_rate*phi_dot+ 0.5*kappa_alpha*alpha/(phi**(alpha+1)) ]\n",
      "<ipython-input-33-60a254515200>:14: RuntimeWarning: divide by zero encountered in true_divide\n",
      "  rho_m = 4.0/(9.0*(a**3))\n",
      "<ipython-input-33-60a254515200>:18: RuntimeWarning: invalid value encountered in true_divide\n",
      "  omega_exp = rho_m/(rho_phi+rho_m)\n",
      "<ipython-input-33-60a254515200>:27: RuntimeWarning: divide by zero encountered in true_divide\n",
      "  a = a/sol[i,0]\n",
      "<ipython-input-33-60a254515200>:27: RuntimeWarning: invalid value encountered in true_divide\n",
      "  a = a/sol[i,0]\n",
      "<ipython-input-11-2317c60a75cb>:2: RuntimeWarning: divide by zero encountered in log\n",
      "  return (-2*np.log(Likelihood(parameters,Ho,sigma_Ho,H_obs,sigma,z)))\n"
     ]
    },
    {
     "name": "stdout",
     "output_type": "stream",
     "text": [
      "      fun: 18.71861206394749\n",
      " hess_inv: <2x2 LbfgsInvHessProduct with dtype=float64>\n",
      "      jac: array([ 0.        , 17.48856242])\n",
      "  message: b'CONVERGENCE: REL_REDUCTION_OF_F_<=_FACTR*EPSMCH'\n",
      "     nfev: 9\n",
      "      nit: 1\n",
      "     njev: 3\n",
      "   status: 0\n",
      "  success: True\n",
      "        x: array([2.7e-01, 1.0e-04])\n"
     ]
    }
   ],
   "source": [
    "best_fit_params = minimize (Chi_sq,x0=[0.27,0.0001],args=(68,2.8,H_obs,sigma_obs,z_obs),method='L-BFGS-B',bounds=[(0,2),(0,5)])\n",
    "print(best_fit_params)"
   ]
  },
  {
   "cell_type": "code",
   "execution_count": 107,
   "metadata": {},
   "outputs": [
    {
     "name": "stderr",
     "output_type": "stream",
     "text": [
      "<ipython-input-83-70fd875e8c66>:4: RuntimeWarning: divide by zero encountered in double_scalars\n",
      "  rho_m = 4.0/(9.0*a**3)\n",
      "<ipython-input-83-70fd875e8c66>:12: RuntimeWarning: invalid value encountered in double_scalars\n",
      "  dydt = [a*Hubble_rate,phi_dot,-3*Hubble_rate*phi_dot+ 0.5*kappa_alpha*alpha/(phi**(alpha+1)) ]\n",
      "<ipython-input-104-eac0e7763ea6>:15: RuntimeWarning: divide by zero encountered in true_divide\n",
      "  rho_m = 4.0/(9.0*(a**3))\n",
      "<ipython-input-104-eac0e7763ea6>:19: RuntimeWarning: invalid value encountered in true_divide\n",
      "  omega_exp = rho_m/(rho_phi+rho_m)\n",
      "<ipython-input-104-eac0e7763ea6>:28: RuntimeWarning: invalid value encountered in true_divide\n",
      "  a = a/sol[i,0]\n"
     ]
    },
    {
     "name": "stdout",
     "output_type": "stream",
     "text": [
      "     fun: 18.011537353095477\n",
      " message: ['Maximum number of iteration reached']\n",
      "    nfev: 4373\n",
      "    nhev: 0\n",
      "     nit: 1000\n",
      "    njev: 124\n",
      "  status: 0\n",
      " success: True\n",
      "       x: array([0.28967583, 0.00041526])\n"
     ]
    }
   ],
   "source": [
    "bfp = dict()\n",
    "bfp['DA'] = optimize.dual_annealing(Chi_sq, [(0,2),(0,5)],args =(68,2.8,H_obs,sigma_obs,z_obs) )\n",
    "print(bfp[\"DA\"])"
   ]
  },
  {
   "cell_type": "code",
   "execution_count": 108,
   "metadata": {},
   "outputs": [
    {
     "name": "stderr",
     "output_type": "stream",
     "text": [
      "<ipython-input-83-70fd875e8c66>:4: RuntimeWarning: divide by zero encountered in double_scalars\n",
      "  rho_m = 4.0/(9.0*a**3)\n",
      "<ipython-input-83-70fd875e8c66>:12: RuntimeWarning: invalid value encountered in double_scalars\n",
      "  dydt = [a*Hubble_rate,phi_dot,-3*Hubble_rate*phi_dot+ 0.5*kappa_alpha*alpha/(phi**(alpha+1)) ]\n",
      "<ipython-input-104-eac0e7763ea6>:15: RuntimeWarning: divide by zero encountered in true_divide\n",
      "  rho_m = 4.0/(9.0*(a**3))\n",
      "<ipython-input-104-eac0e7763ea6>:19: RuntimeWarning: invalid value encountered in true_divide\n",
      "  omega_exp = rho_m/(rho_phi+rho_m)\n",
      "<ipython-input-104-eac0e7763ea6>:28: RuntimeWarning: invalid value encountered in true_divide\n",
      "  a = a/sol[i,0]\n"
     ]
    },
    {
     "name": "stdout",
     "output_type": "stream",
     "text": [
      "     fun: 20.455443204694014\n",
      " message: ['Maximum number of iteration reached']\n",
      "    nfev: 4940\n",
      "    nhev: 0\n",
      "     nit: 1000\n",
      "    njev: 313\n",
      "  status: 0\n",
      " success: True\n",
      "       x: array([2.53201062e-01, 3.93922722e-05])\n",
      "289.91734313964844\n"
     ]
    }
   ],
   "source": [
    "start = time.time()\n",
    "bfp2 = dict()\n",
    "bfp2['DA'] = optimize.dual_annealing(Chi_sq, [(0,2),(0,5)],args =(73.8,2.4,H_obs,sigma_obs,z_obs) )\n",
    "print(bfp2[\"DA\"])\n",
    "end = time.time()\n",
    "print(end-start)\n",
    "#print(bfp)\n",
    "#print(np.round((bfp.x),2))\n",
    "#print(np.round((bfp.fun),2))"
   ]
  },
  {
   "cell_type": "code",
   "execution_count": 976,
   "metadata": {},
   "outputs": [
    {
     "name": "stdout",
     "output_type": "stream",
     "text": [
      "[ 46.73843358  49.07050131  50.6783947   54.90566107  55.70094723\n",
      "  57.50942125  57.60135957  64.4505272   65.50272627  73.5063504\n",
      "  73.75359464  79.74192816  84.73317609  89.72442402 103.82469943\n",
      " 104.69816781 114.68066368 120.91972359 127.2835647  139.01299734\n",
      " 139.63690333 142.1325273  159.22755146 192.0450066  208.26656238\n",
      " 220.74468221 248.19654583 316.82620487]\n",
      "263.60732117728344\n"
     ]
    },
    {
     "name": "stderr",
     "output_type": "stream",
     "text": [
      "<ipython-input-827-e42e0297d925>:5: RuntimeWarning: invalid value encountered in log\n",
      "  P2= kappa(alpha)*(np.exp((-alpha)*np.log(phi)))/12\n",
      "<ipython-input-885-3bf6cdf1d518>:7: RuntimeWarning: invalid value encountered in double_scalars\n",
      "  dydt = [phi_pr,-(3.0 + HdotoH2)*phi_pr - kappa_alpha*(phi**(-alpha-1))/(2*Hsquared) ]\n",
      "<ipython-input-827-e42e0297d925>:5: RuntimeWarning: divide by zero encountered in log\n",
      "  P2= kappa(alpha)*(np.exp((-alpha)*np.log(phi)))/12\n",
      "<ipython-input-827-e42e0297d925>:6: RuntimeWarning: overflow encountered in square\n",
      "  P3= 1- ((phi_pr)**2)/12\n",
      "<ipython-input-827-e42e0297d925>:7: RuntimeWarning: invalid value encountered in true_divide\n",
      "  return (P1+P2)/P3\n",
      "<ipython-input-964-14e45ff3c626>:7: RuntimeWarning: invalid value encountered in sqrt\n",
      "  H_theo= np.sqrt(Hsq( parameters,Ho,phi,phi_pr,N))\n"
     ]
    }
   ],
   "source": [
    "print(Chi_sq([0.29,0.0001],74,68,2.8,H_obs,sigma_obs,z_obs,N))"
   ]
  },
  {
   "cell_type": "code",
   "execution_count": 968,
   "metadata": {},
   "outputs": [
    {
     "name": "stdout",
     "output_type": "stream",
     "text": [
      "3.612682008024761\n"
     ]
    }
   ],
   "source": [
    "z_initial = 2100\n",
    "z_final = 0\n",
    "N_initial = N_efolds(z_initial)\n",
    "N_final = N_efolds(z_final)\n",
    "timesteps = 5000\n",
    "N = np.linspace(N_initial, N_final, timesteps)\n",
    "redshifts =  np.exp(-N) - 1\n",
    "print(redshifts[4000])"
   ]
  },
  {
   "cell_type": "code",
   "execution_count": 957,
   "metadata": {},
   "outputs": [
    {
     "name": "stdout",
     "output_type": "stream",
     "text": [
      "4.642518241991984\n"
     ]
    }
   ],
   "source": [
    "print(-2*np.log(0.09814992513745828))"
   ]
  },
  {
   "cell_type": "code",
   "execution_count": 63,
   "metadata": {},
   "outputs": [
    {
     "name": "stdout",
     "output_type": "stream",
     "text": [
      "1.1123842134671111\n"
     ]
    }
   ],
   "source": [
    "print(2.36874500e-05**(-0.01))"
   ]
  },
  {
   "cell_type": "code",
   "execution_count": 73,
   "metadata": {},
   "outputs": [
    {
     "name": "stdout",
     "output_type": "stream",
     "text": [
      "(100,)\n"
     ]
    },
    {
     "ename": "ValueError",
     "evalue": "Initial condition y0 must be one-dimensional.",
     "output_type": "error",
     "traceback": [
      "\u001b[1;31m---------------------------------------------------------------------------\u001b[0m",
      "\u001b[1;31mValueError\u001b[0m                                Traceback (most recent call last)",
      "\u001b[1;32m<ipython-input-73-b6dcff446795>\u001b[0m in \u001b[0;36m<module>\u001b[1;34m\u001b[0m\n\u001b[0;32m      8\u001b[0m \u001b[0mprint\u001b[0m\u001b[1;33m(\u001b[0m\u001b[0mY\u001b[0m\u001b[1;33m.\u001b[0m\u001b[0mshape\u001b[0m\u001b[1;33m)\u001b[0m\u001b[1;33m\u001b[0m\u001b[1;33m\u001b[0m\u001b[0m\n\u001b[0;32m      9\u001b[0m \u001b[1;33m\u001b[0m\u001b[0m\n\u001b[1;32m---> 10\u001b[1;33m \u001b[0mZ\u001b[0m\u001b[1;33m=\u001b[0m\u001b[0mChi_sq\u001b[0m\u001b[1;33m(\u001b[0m\u001b[1;33m(\u001b[0m\u001b[0mX\u001b[0m\u001b[1;33m,\u001b[0m\u001b[0mY\u001b[0m\u001b[1;33m)\u001b[0m\u001b[1;33m,\u001b[0m\u001b[1;36m68\u001b[0m\u001b[1;33m,\u001b[0m\u001b[1;36m2.8\u001b[0m\u001b[1;33m,\u001b[0m\u001b[0mH_obs\u001b[0m\u001b[1;33m,\u001b[0m\u001b[0msigma_obs\u001b[0m\u001b[1;33m,\u001b[0m\u001b[0mz_obs\u001b[0m\u001b[1;33m)\u001b[0m\u001b[1;33m\u001b[0m\u001b[1;33m\u001b[0m\u001b[0m\n\u001b[0m\u001b[0;32m     11\u001b[0m \u001b[0mZ\u001b[0m\u001b[1;33m=\u001b[0m\u001b[0mnp\u001b[0m\u001b[1;33m.\u001b[0m\u001b[0mzeros\u001b[0m\u001b[1;33m(\u001b[0m\u001b[1;33m(\u001b[0m\u001b[0mn\u001b[0m\u001b[1;33m,\u001b[0m\u001b[0mn\u001b[0m\u001b[1;33m)\u001b[0m\u001b[1;33m)\u001b[0m\u001b[1;33m\u001b[0m\u001b[1;33m\u001b[0m\u001b[0m\n\u001b[0;32m     12\u001b[0m \u001b[1;32mfor\u001b[0m \u001b[0mi\u001b[0m \u001b[1;32min\u001b[0m \u001b[0mrange\u001b[0m\u001b[1;33m(\u001b[0m\u001b[0mn\u001b[0m\u001b[1;33m)\u001b[0m\u001b[1;33m:\u001b[0m\u001b[1;33m\u001b[0m\u001b[1;33m\u001b[0m\u001b[0m\n",
      "\u001b[1;32m<ipython-input-11-2317c60a75cb>\u001b[0m in \u001b[0;36mChi_sq\u001b[1;34m(parameters, Ho, sigma_Ho, H_obs, sigma, z)\u001b[0m\n\u001b[0;32m      1\u001b[0m \u001b[1;32mdef\u001b[0m \u001b[0mChi_sq\u001b[0m\u001b[1;33m(\u001b[0m\u001b[0mparameters\u001b[0m\u001b[1;33m,\u001b[0m\u001b[0mHo\u001b[0m\u001b[1;33m,\u001b[0m\u001b[0msigma_Ho\u001b[0m\u001b[1;33m,\u001b[0m\u001b[0mH_obs\u001b[0m\u001b[1;33m,\u001b[0m\u001b[0msigma\u001b[0m\u001b[1;33m,\u001b[0m\u001b[0mz\u001b[0m\u001b[1;33m)\u001b[0m\u001b[1;33m:\u001b[0m\u001b[1;33m\u001b[0m\u001b[1;33m\u001b[0m\u001b[0m\n\u001b[1;32m----> 2\u001b[1;33m     \u001b[1;32mreturn\u001b[0m \u001b[1;33m(\u001b[0m\u001b[1;33m-\u001b[0m\u001b[1;36m2\u001b[0m\u001b[1;33m*\u001b[0m\u001b[0mnp\u001b[0m\u001b[1;33m.\u001b[0m\u001b[0mlog\u001b[0m\u001b[1;33m(\u001b[0m\u001b[0mLikelihood\u001b[0m\u001b[1;33m(\u001b[0m\u001b[0mparameters\u001b[0m\u001b[1;33m,\u001b[0m\u001b[0mHo\u001b[0m\u001b[1;33m,\u001b[0m\u001b[0msigma_Ho\u001b[0m\u001b[1;33m,\u001b[0m\u001b[0mH_obs\u001b[0m\u001b[1;33m,\u001b[0m\u001b[0msigma\u001b[0m\u001b[1;33m,\u001b[0m\u001b[0mz\u001b[0m\u001b[1;33m)\u001b[0m\u001b[1;33m)\u001b[0m\u001b[1;33m)\u001b[0m\u001b[1;33m\u001b[0m\u001b[1;33m\u001b[0m\u001b[0m\n\u001b[0m",
      "\u001b[1;32m<ipython-input-53-60a254515200>\u001b[0m in \u001b[0;36mLikelihood\u001b[1;34m(parameters, Ho, sigma_Ho, H_obs, sigma, z)\u001b[0m\n\u001b[0;32m      7\u001b[0m     \u001b[0mt\u001b[0m \u001b[1;33m=\u001b[0m \u001b[0mnp\u001b[0m\u001b[1;33m.\u001b[0m\u001b[0marange\u001b[0m\u001b[1;33m(\u001b[0m\u001b[1;36m0.\u001b[0m\u001b[1;33m,\u001b[0m \u001b[0mt_final\u001b[0m\u001b[1;33m,\u001b[0m \u001b[0mdt\u001b[0m\u001b[1;33m)\u001b[0m\u001b[1;33m\u001b[0m\u001b[1;33m\u001b[0m\u001b[0m\n\u001b[0;32m      8\u001b[0m     \u001b[0mstart\u001b[0m \u001b[1;33m=\u001b[0m \u001b[0mtime\u001b[0m\u001b[1;33m.\u001b[0m\u001b[0mtime\u001b[0m\u001b[1;33m(\u001b[0m\u001b[1;33m)\u001b[0m\u001b[1;33m\u001b[0m\u001b[1;33m\u001b[0m\u001b[0m\n\u001b[1;32m----> 9\u001b[1;33m     \u001b[0msol\u001b[0m \u001b[1;33m=\u001b[0m \u001b[0modeint\u001b[0m \u001b[1;33m(\u001b[0m\u001b[0mKG_eqn\u001b[0m\u001b[1;33m,\u001b[0m \u001b[0my0\u001b[0m\u001b[1;33m(\u001b[0m\u001b[0malpha\u001b[0m\u001b[1;33m)\u001b[0m\u001b[1;33m,\u001b[0m \u001b[0mt\u001b[0m\u001b[1;33m,\u001b[0m \u001b[0margs\u001b[0m\u001b[1;33m=\u001b[0m\u001b[1;33m(\u001b[0m\u001b[0mparameters\u001b[0m\u001b[1;33m,\u001b[0m\u001b[1;33m)\u001b[0m\u001b[1;33m)\u001b[0m\u001b[1;33m\u001b[0m\u001b[1;33m\u001b[0m\u001b[0m\n\u001b[0m\u001b[0;32m     10\u001b[0m     \u001b[0mend\u001b[0m\u001b[1;33m=\u001b[0m \u001b[0mtime\u001b[0m\u001b[1;33m.\u001b[0m\u001b[0mtime\u001b[0m\u001b[1;33m(\u001b[0m\u001b[1;33m)\u001b[0m\u001b[1;33m\u001b[0m\u001b[1;33m\u001b[0m\u001b[0m\n\u001b[0;32m     11\u001b[0m     \u001b[0ma\u001b[0m\u001b[1;33m=\u001b[0m\u001b[0msol\u001b[0m\u001b[1;33m[\u001b[0m\u001b[1;33m:\u001b[0m\u001b[1;33m,\u001b[0m\u001b[1;36m0\u001b[0m\u001b[1;33m]\u001b[0m\u001b[1;33m\u001b[0m\u001b[1;33m\u001b[0m\u001b[0m\n",
      "\u001b[1;32m~\\anaconda3\\lib\\site-packages\\scipy\\integrate\\odepack.py\u001b[0m in \u001b[0;36modeint\u001b[1;34m(func, y0, t, args, Dfun, col_deriv, full_output, ml, mu, rtol, atol, tcrit, h0, hmax, hmin, ixpr, mxstep, mxhnil, mxordn, mxords, printmessg, tfirst)\u001b[0m\n\u001b[0;32m    239\u001b[0m     \u001b[0mt\u001b[0m \u001b[1;33m=\u001b[0m \u001b[0mcopy\u001b[0m\u001b[1;33m(\u001b[0m\u001b[0mt\u001b[0m\u001b[1;33m)\u001b[0m\u001b[1;33m\u001b[0m\u001b[1;33m\u001b[0m\u001b[0m\n\u001b[0;32m    240\u001b[0m     \u001b[0my0\u001b[0m \u001b[1;33m=\u001b[0m \u001b[0mcopy\u001b[0m\u001b[1;33m(\u001b[0m\u001b[0my0\u001b[0m\u001b[1;33m)\u001b[0m\u001b[1;33m\u001b[0m\u001b[1;33m\u001b[0m\u001b[0m\n\u001b[1;32m--> 241\u001b[1;33m     output = _odepack.odeint(func, y0, t, args, Dfun, col_deriv, ml, mu,\n\u001b[0m\u001b[0;32m    242\u001b[0m                              \u001b[0mfull_output\u001b[0m\u001b[1;33m,\u001b[0m \u001b[0mrtol\u001b[0m\u001b[1;33m,\u001b[0m \u001b[0matol\u001b[0m\u001b[1;33m,\u001b[0m \u001b[0mtcrit\u001b[0m\u001b[1;33m,\u001b[0m \u001b[0mh0\u001b[0m\u001b[1;33m,\u001b[0m \u001b[0mhmax\u001b[0m\u001b[1;33m,\u001b[0m \u001b[0mhmin\u001b[0m\u001b[1;33m,\u001b[0m\u001b[1;33m\u001b[0m\u001b[1;33m\u001b[0m\u001b[0m\n\u001b[0;32m    243\u001b[0m                              \u001b[0mixpr\u001b[0m\u001b[1;33m,\u001b[0m \u001b[0mmxstep\u001b[0m\u001b[1;33m,\u001b[0m \u001b[0mmxhnil\u001b[0m\u001b[1;33m,\u001b[0m \u001b[0mmxordn\u001b[0m\u001b[1;33m,\u001b[0m \u001b[0mmxords\u001b[0m\u001b[1;33m,\u001b[0m\u001b[1;33m\u001b[0m\u001b[1;33m\u001b[0m\u001b[0m\n",
      "\u001b[1;31mValueError\u001b[0m: Initial condition y0 must be one-dimensional."
     ]
    }
   ],
   "source": [
    "n=100\n",
    "xlist = np.linspace(0, 0.60, n)\n",
    "ylist = np.linspace(0.000001, 5, n)\n",
    "parameters = np.meshgrid(xlist, ylist,sparse=True)\n",
    "X=parameters[0]\n",
    "Y=parameters[1]\n",
    "Y=np.reshape(Y,(100))\n",
    "print(Y.shape)\n",
    "\n",
    "Z=Chi_sq((X,Y),68,2.8,H_obs,sigma_obs,z_obs)\n",
    "Z=np.zeros((n,n))\n",
    "for i in range(n):\n",
    "    for  j in range (n):\n",
    "        #print(X[i])\n",
    "        Z[i,j]= Chi_sq((xlist[i],ylist[j]),68,2.8,H_obs,sigma_obs,z_obs)"
   ]
  },
  {
   "cell_type": "code",
   "execution_count": 58,
   "metadata": {},
   "outputs": [
    {
     "data": {
      "image/png": "[encoded data removed]",
      "text/plain": [
       "<Figure size 640x480 with 1 Axes>"
      ]
     },
     "metadata": {},
     "output_type": "display_data"
    }
   ],
   "source": [
    "fig, ax1 = plt.subplots()\n",
    "\n",
    "#drawing contour plot\n",
    "\n",
    "cb = ax1.contour(X, Y, Z,levels=[17.63,19.93,23.80,28.71],colors=\"black\",linewidths=0.7,linestyles=\"dashdot\")"
   ]
  },
  {
   "cell_type": "code",
   "execution_count": 117,
   "metadata": {},
   "outputs": [
    {
     "name": "stdout",
     "output_type": "stream",
     "text": [
      "done0\n",
      "done1\n"
     ]
    },
    {
     "name": "stderr",
     "output_type": "stream",
     "text": [
      "100%|███████████████████████████████████████████████████████████████████████████| 7000/7000 [10:04:47<00:00,  5.18s/it]"
     ]
    },
    {
     "name": "stdout",
     "output_type": "stream",
     "text": [
      "36294.565079927444\n"
     ]
    },
    {
     "name": "stderr",
     "output_type": "stream",
     "text": [
      "\n"
     ]
    }
   ],
   "source": [
    "import emcee\n",
    "from multiprocessing import Pool\n",
    "pos = [0.28967583, 0.00041526] + 1e-4 * np.random.randn(100, 2)\n",
    "nwalkers, ndim = pos.shape\n",
    "print(\"done0\")\n",
    "filename = \"Ho68_phiCDM.h5\"\n",
    "backend = emcee.backends.HDFBackend(filename)\n",
    "backend.reset(nwalkers, ndim)\n",
    "print(\"done1\")\n",
    "\n",
    "#print(best_fit_params)\n",
    "sampler = emcee.EnsembleSampler(\n",
    "    nwalkers, ndim, log_probability, args=(68,2.8,H_obs,sigma_obs,z_obs),backend=backend\n",
    ")\n",
    "start = time.time()\n",
    "sampler.run_mcmc(pos, 7000, progress=True);\n",
    "end = time.time()\n",
    "print(end-start)"
   ]
  },
  {
   "cell_type": "code",
   "execution_count": 124,
   "metadata": {},
   "outputs": [
    {
     "name": "stdout",
     "output_type": "stream",
     "text": [
      "[40.35106551 45.71069788]\n",
      "burn-in: 91\n",
      "thin: 20\n",
      "flat chain shape: (34500, 2)\n"
     ]
    }
   ],
   "source": [
    "tau = sampler.get_autocorr_time()\n",
    "print(tau)\n",
    "#tau = sampler.get_autocorr_time()\n",
    "burnin =  int(2 * np.max(tau))\n",
    "thin = int(0.5 * np.min(tau))\n",
    "flat_samples = sampler.get_chain(discard=burnin, thin=thin, flat=True)\n",
    "print(\"burn-in: {0}\".format(burnin))\n",
    "print(\"thin: {0}\".format(thin))\n",
    "print(\"flat chain shape: {0}\".format(flat_samples.shape))"
   ]
  },
  {
   "cell_type": "code",
   "execution_count": 119,
   "metadata": {},
   "outputs": [
    {
     "data": {
      "image/png": "[encoded data removed]",
      "text/plain": [
       "<Figure size 550x550 with 4 Axes>"
      ]
     },
     "metadata": {},
     "output_type": "display_data"
    }
   ],
   "source": [
    "import corner\n",
    "labels = [\"omega\",\"alpha\"]\n",
    "fig = corner.corner(\n",
    "    flat_samples, labels=labels, truths= [0.29435933, 0.01217145]\n",
    ");"
   ]
  },
  {
   "cell_type": "code",
   "execution_count": 120,
   "metadata": {},
   "outputs": [
    {
     "data": {
      "text/latex": [
       "$\\displaystyle \\mathrm{omega} = 0.26_{0.17}^{0.32}$"
      ],
      "text/plain": [
       "<IPython.core.display.Math object>"
      ]
     },
     "metadata": {},
     "output_type": "display_data"
    },
    {
     "data": {
      "text/latex": [
       "$\\displaystyle \\mathrm{alpha} = 0.77_{0.06}^{3.65}$"
      ],
      "text/plain": [
       "<IPython.core.display.Math object>"
      ]
     },
     "metadata": {},
     "output_type": "display_data"
    }
   ],
   "source": [
    "from IPython.display import display, Math\n",
    "\n",
    "for i in range(2):\n",
    "    mcmc = np.percentile(flat_samples[:, i], [5, 50, 95])\n",
    "    q = np.diff(mcmc)\n",
    "    minimum = mcmc[1]-q[0]\n",
    "    maximum = mcmc[1]+q[1]\n",
    "    #print(f\"{minimum} $\\le \\Omega \\ge$ {maximum}\")\n",
    "    txt = \"\\mathrm{{{3}}} = {0:.2f}_{{{1:.2f}}}^{{{2:.2f}}}\"\n",
    "    txt = txt.format(mcmc[1], mcmc[1]-q[0], mcmc[1]+q[1], labels[i])\n",
    "    display(Math(txt))"
   ]
  },
  {
   "cell_type": "code",
   "execution_count": 121,
   "metadata": {},
   "outputs": [],
   "source": [
    "ndim = 2\n",
    "nsamp = 132400\n",
    "samps = flat_samples\n",
    "#samps2 = flat_samples2"
   ]
  },
  {
   "cell_type": "code",
   "execution_count": 122,
   "metadata": {},
   "outputs": [
    {
     "name": "stdout",
     "output_type": "stream",
     "text": [
      "Removed no burn in\n"
     ]
    }
   ],
   "source": [
    "names = [\"omega\",\"alpha\"]\n",
    "labels =  [\"\\Omega_{mo}\",\"alpha\"]\n",
    "samples = MCSamples(samples=samps,names = names, labels = labels)\n",
    "#samples2 = MCSamples(samples=samps2,names = names, labels = labels)"
   ]
  },
  {
   "cell_type": "code",
   "execution_count": 123,
   "metadata": {},
   "outputs": [
    {
     "data": {
      "image/png": "[encoded data removed]",
      "text/plain": [
       "<Figure size 600x450 with 1 Axes>"
      ]
     },
     "metadata": {},
     "output_type": "display_data"
    }
   ],
   "source": [
    "g = plots.get_single_plotter()\n",
    "ax1= g.get_axes()\n",
    "samples.updateSettings({'contours': [0.001,0.68, 0.95, 0.99]})\n",
    "g.settings.num_plot_contours = 4\n",
    "g.plot_2d(samples, 'omega', 'alpha');\n"
   ]
  },
  {
   "cell_type": "code",
   "execution_count": null,
   "metadata": {},
   "outputs": [
    {
     "name": "stdout",
     "output_type": "stream",
     "text": [
      "done0\n",
      "done1\n"
     ]
    },
    {
     "name": "stderr",
     "output_type": "stream",
     "text": [
      "  0%|                                                                                         | 0/1000 [00:00<?, ?it/s]C:\\Users\\bansa\\anaconda3\\lib\\site-packages\\emcee\\moves\\red_blue.py:99: RuntimeWarning: invalid value encountered in double_scalars\n",
      "  lnpdiff = f + nlp - state.log_prob[j]\n",
      " 20%|███████████████▍                                                             | 200/1000 [32:20<2:05:32,  9.42s/it]"
     ]
    }
   ],
   "source": [
    "import emcee\n",
    "from multiprocessing import Pool\n",
    "pos = [2.56624798e-01, 3.98551961e-05] + 1e-4 * np.random.randn(100, 2)\n",
    "nwalkers, ndim = pos.shape\n",
    "print(\"done0\")\n",
    "filename = \"Ho73.8_phiCDM.h5\"\n",
    "backend = emcee.backends.HDFBackend(filename)\n",
    "backend.reset(nwalkers, ndim)\n",
    "print(\"done1\")\n",
    "\n",
    "#print(best_fit_params)\n",
    "sampler = emcee.EnsembleSampler(\n",
    "    nwalkers, ndim, log_probability, args=(73.8,2.4,H_obs,sigma_obs,z_obs),backend=backend\n",
    ")\n",
    "start = time.time()\n",
    "sampler.run_mcmc(pos, 1000, progress=True);\n",
    "end = time.time()\n",
    "print(end-start)"
   ]
  },
  {
   "cell_type": "code",
   "execution_count": null,
   "metadata": {},
   "outputs": [],
   "source": []
  }
 ],
 "metadata": {
  "kernelspec": {
   "display_name": "Python 3",
   "language": "python",
   "name": "python3"
  },
  "language_info": {
   "codemirror_mode": {
    "name": "ipython",
    "version": 3
   },
   "file_extension": ".py",
   "mimetype": "text/x-python",
   "name": "python",
   "nbconvert_exporter": "python",
   "pygments_lexer": "ipython3",
   "version": "3.8.5"
  }
 },
 "nbformat": 4,
 "nbformat_minor": 4
}
