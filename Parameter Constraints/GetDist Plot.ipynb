{
 "cells": [
  {
   "cell_type": "code",
   "execution_count": 1,
   "metadata": {},
   "outputs": [
    {
     "name": "stdout",
     "output_type": "stream",
     "text": [
      "Collecting getdist\n",
      "  Downloading GetDist-1.3.4.tar.gz (777 kB)\n",
      "Requirement already satisfied: numpy>=1.17.0 in c:\\users\\bansa\\anaconda3\\lib\\site-packages (from getdist) (1.19.2)\n",
      "Requirement already satisfied: matplotlib!=3.5.0,>=2.2.0 in c:\\users\\bansa\\anaconda3\\lib\\site-packages (from getdist) (3.3.2)\n",
      "Requirement already satisfied: scipy>=1.5.0 in c:\\users\\bansa\\anaconda3\\lib\\site-packages (from getdist) (1.5.2)\n",
      "Requirement already satisfied: PyYAML>=5.1 in c:\\users\\bansa\\anaconda3\\lib\\site-packages (from getdist) (5.3.1)\n",
      "Requirement already satisfied: pillow>=6.2.0 in c:\\users\\bansa\\anaconda3\\lib\\site-packages (from matplotlib!=3.5.0,>=2.2.0->getdist) (8.0.1)\n",
      "Requirement already satisfied: kiwisolver>=1.0.1 in c:\\users\\bansa\\anaconda3\\lib\\site-packages (from matplotlib!=3.5.0,>=2.2.0->getdist) (1.3.0)\n",
      "Requirement already satisfied: pyparsing!=2.0.4,!=2.1.2,!=2.1.6,>=2.0.3 in c:\\users\\bansa\\anaconda3\\lib\\site-packages (from matplotlib!=3.5.0,>=2.2.0->getdist) (2.4.7)\n",
      "Requirement already satisfied: cycler>=0.10 in c:\\users\\bansa\\anaconda3\\lib\\site-packages (from matplotlib!=3.5.0,>=2.2.0->getdist) (0.10.0)\n",
      "Requirement already satisfied: python-dateutil>=2.1 in c:\\users\\bansa\\anaconda3\\lib\\site-packages (from matplotlib!=3.5.0,>=2.2.0->getdist) (2.8.1)\n",
      "Requirement already satisfied: certifi>=2020.06.20 in c:\\users\\bansa\\anaconda3\\lib\\site-packages (from matplotlib!=3.5.0,>=2.2.0->getdist) (2020.6.20)\n",
      "Requirement already satisfied: six in c:\\users\\bansa\\anaconda3\\lib\\site-packages (from cycler>=0.10->matplotlib!=3.5.0,>=2.2.0->getdist) (1.15.0)\n",
      "Building wheels for collected packages: getdist\n",
      "  Building wheel for getdist (setup.py): started\n",
      "  Building wheel for getdist (setup.py): finished with status 'done'\n",
      "  Created wheel for getdist: filename=GetDist-1.3.4-py3-none-any.whl size=226489 sha256=6688e75e61b0baa3750527efdb91b9bd5196f93d4eea0c8e8530c2225d15d35a\n",
      "  Stored in directory: c:\\users\\bansa\\appdata\\local\\pip\\cache\\wheels\\28\\c8\\e7\\55996558f8d6920f13a72569c22387ffd30a66a9edbf3f7877\n",
      "Successfully built getdist\n",
      "Installing collected packages: getdist\n",
      "Successfully installed getdist-1.3.4\n",
      "Note: you may need to restart the kernel to use updated packages.\n"
     ]
    }
   ],
   "source": [
    "pip install getdist"
   ]
  },
  {
   "cell_type": "code",
   "execution_count": 2,
   "metadata": {},
   "outputs": [],
   "source": [
    "from getdist import plots, MCSamples\n",
    "import getdist"
   ]
  },
  {
   "cell_type": "code",
   "execution_count": null,
   "metadata": {},
   "outputs": [],
   "source": []
  }
 ],
 "metadata": {
  "kernelspec": {
   "display_name": "Python 3",
   "language": "python",
   "name": "python3"
  },
  "language_info": {
   "codemirror_mode": {
    "name": "ipython",
    "version": 3
   },
   "file_extension": ".py",
   "mimetype": "text/x-python",
   "name": "python",
   "nbconvert_exporter": "python",
   "pygments_lexer": "ipython3",
   "version": "3.8.5"
  }
 },
 "nbformat": 4,
 "nbformat_minor": 4
}
